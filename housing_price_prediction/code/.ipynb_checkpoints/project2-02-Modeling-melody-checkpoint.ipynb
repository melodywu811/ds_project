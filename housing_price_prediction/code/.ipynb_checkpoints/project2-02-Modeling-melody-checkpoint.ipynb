{
 "cells": [
  {
   "cell_type": "markdown",
   "id": "invisible-surname",
   "metadata": {},
   "source": [
    "### Import Libraries"
   ]
  },
  {
   "cell_type": "code",
   "execution_count": 1,
   "id": "retired-booking",
   "metadata": {},
   "outputs": [],
   "source": [
    "import numpy as np\n",
    "import pandas as pd\n",
    "import matplotlib.pyplot as plt\n",
    "import seaborn as sns \n",
    "\n",
    "from sklearn import metrics\n",
    "from sklearn.linear_model import LinearRegression\n",
    "from sklearn.model_selection import train_test_split, cross_val_score\n",
    "from sklearn.preprocessing import StandardScaler, PolynomialFeatures"
   ]
  },
  {
   "cell_type": "markdown",
   "id": "behind-royal",
   "metadata": {},
   "source": [
    "### Import the Cleaned Training Data from EDA"
   ]
  },
  {
   "cell_type": "code",
   "execution_count": 2,
   "id": "documentary-austin",
   "metadata": {},
   "outputs": [],
   "source": [
    "path = '../datasets/train_clean.csv'\n",
    "train = pd.read_csv(path)"
   ]
  },
  {
   "cell_type": "code",
   "execution_count": 3,
   "id": "structured-theme",
   "metadata": {},
   "outputs": [],
   "source": [
    "numeric_features = ['lot_frontage', 'overall_qual', 'year_built', 'year_remod/add', 'mas_vnr_area', \n",
    "                    'bsmtfin_sf_1', 'total_bsmt_sf', '1st_flr_sf', 'gr_liv_area', 'full_bath', 'totrms_abvgrd', \n",
    "                    'fireplaces', 'garage_cars', 'garage_area', 'wood_deck_sf', 'open_porch_sf']"
   ]
  },
  {
   "cell_type": "code",
   "execution_count": 4,
   "id": "aggressive-drove",
   "metadata": {},
   "outputs": [],
   "source": [
    "categorical_features = ['lot_regular', 'more_than_1story', 'exter_ex', 'foundation_PConc', 'bsmt_ex', \n",
    "                        'has_bsmt_exposure', 'heating_ex', 'kitchen_ex', 'garage_finish_dum', \n",
    "                        'has_central_air', 'bsmtfin_type_GLQ', 'neighborhood_code_2', 'neighborhood_code_3',\n",
    "                       'neighborhood_code_4']"
   ]
  },
  {
   "cell_type": "markdown",
   "id": "accredited-packet",
   "metadata": {},
   "source": [
    "---\n",
    "### Preparing Testing Set for Prediction"
   ]
  },
  {
   "cell_type": "markdown",
   "id": "selective-philip",
   "metadata": {},
   "source": [
    "#### Importing the Testing Data"
   ]
  },
  {
   "cell_type": "code",
   "execution_count": 5,
   "id": "operating-respondent",
   "metadata": {},
   "outputs": [],
   "source": [
    "test_path = '../datasets/test.csv'  # assign the path of the training dataset \n",
    "test = pd.read_csv(test_path, keep_default_na=False, na_values=['']) \n",
    "# load csv. and assign it to a DataFrame called train\n",
    "# feed in the default Na(s) and only only empty string will count as NaN\n",
    "\n",
    "test.columns = test.columns.str.lower() # change all column names to lowercase\n",
    "test.columns = test.columns.str.replace(' ', '_') # replace ' ' to '_' for all column names "
   ]
  },
  {
   "cell_type": "markdown",
   "id": "coordinated-bidder",
   "metadata": {},
   "source": [
    "#### Preprocessing"
   ]
  },
  {
   "cell_type": "markdown",
   "id": "hollow-expert",
   "metadata": {},
   "source": [
    "**Numeric Variables**"
   ]
  },
  {
   "cell_type": "code",
   "execution_count": 6,
   "id": "sound-cannon",
   "metadata": {},
   "outputs": [],
   "source": [
    "# define a function to fill NaNs with mean\n",
    "def mean_for_nan(data, row_list):\n",
    "    for row in row_list:\n",
    "        data[row].fillna(value=data[row].mean(), inplace=True)"
   ]
  },
  {
   "cell_type": "code",
   "execution_count": 7,
   "id": "united-cambridge",
   "metadata": {},
   "outputs": [],
   "source": [
    "mean_for_nan(test, numeric_features)"
   ]
  },
  {
   "cell_type": "markdown",
   "id": "scheduled-yield",
   "metadata": {},
   "source": [
    "**Categorical Variables**"
   ]
  },
  {
   "cell_type": "code",
   "execution_count": 8,
   "id": "sufficient-ready",
   "metadata": {},
   "outputs": [],
   "source": [
    "# define a categorical_pre function to preprocess the selected categorical feature all at once\n",
    "# this would be helpful when we process the testing data\n",
    "\n",
    "def ex_qual(row):\n",
    "    row = str(row)\n",
    "    if row=='Ex':\n",
    "        return 1\n",
    "    else: \n",
    "        return 0"
   ]
  },
  {
   "cell_type": "code",
   "execution_count": 9,
   "id": "dated-overall",
   "metadata": {},
   "outputs": [],
   "source": [
    "# using the 'saleprice' quantiles to group the neighborhood to create new variables\n",
    "neighborhood_dict = {\n",
    "    'StoneBr': 1,\n",
    "    'NridgHt': 1,\n",
    "    'NoRidge': 1,\n",
    "    'GrnHill': 1,\n",
    "    'Veenker': 1,\n",
    "    'Timber' : 1,\n",
    "    'Somerst': 1,\n",
    "    'ClearCr': 1,\n",
    "    'Crawfor': 2,\n",
    "    'CollgCr': 2,\n",
    "    'Blmngtn': 2,\n",
    "    'NWAmes': 2,\n",
    "    'Gilbert': 2,\n",
    "    'Greens': 2,\n",
    "    'SawyerW': 2, \n",
    "    'Mitchel': 2,\n",
    "    'NAmes': 3,\n",
    "    'Blueste': 3,\n",
    "    'NPkVill': 3,\n",
    "    'Sawyer': 3,\n",
    "    'Landmrk': 3,\n",
    "    'SWISU': 3,\n",
    "    'Edwards': 3,\n",
    "    'BrkSide': 4,\n",
    "    'OldTown': 4,\n",
    "    'BrDale': 4,\n",
    "    'IDOTRR': 4,\n",
    "    'MeadowV': 4\n",
    "}"
   ]
  },
  {
   "cell_type": "code",
   "execution_count": 10,
   "id": "coastal-westminster",
   "metadata": {},
   "outputs": [],
   "source": [
    "def categorical_pre(df):\n",
    "    # create 'lot_regular' based on 'lot_shape'j\n",
    "    df['lot_regular'] = df['lot_shape'].map(lambda row: 1 if row=='Reg' else 0)\n",
    "    # create 'more_than_1story' based on 'house_style'\n",
    "    df['more_than_1story'] = df['house_style'].map(lambda row: 0 if row=='1Story' else 1)\n",
    "    # create 'foundation_PConc' based on 'foundation' \n",
    "    df['foundation_PConc'] = df['foundation'].map(lambda row: 1 if row=='PConc' else 0)\n",
    "    # create 'has_bsmt_exposure' based on 'bsmt_exposure'\n",
    "    df['has_bsmt_exposure'] = df['bsmt_exposure'].map(lambda row: 0 if row=='No' else 1)\n",
    "    # create 'bsmtfin_type_GLQ' based on 'bsmtfin_type_1'\n",
    "    df['bsmtfin_type_GLQ'] = df['bsmtfin_type_1'].map(lambda row: 1 if row=='GLQ' else 0)\n",
    "    # create 'has_central_air' based on 'central_air'\n",
    "    df['has_central_air'] = df['central_air'].map(lambda row: 1 if row=='Y' else 0)\n",
    "    # create 'garage_finish_dum' based on 'garagre_finish'\n",
    "    df['garage_finish_dum'] = df['garage_finish'].map(lambda row: 0 if row=='Unf' else 1)\n",
    "    # create 'exter_ex' based on 'exter_qual'\n",
    "    df['exter_ex'] = df['exter_qual'].apply(ex_qual)\n",
    "    # create 'bsmt_ex' based on 'bsmt_qual'\n",
    "    df['bsmt_ex'] = df['bsmt_qual'].apply(ex_qual)\n",
    "    # create 'heating_ex' based on 'heating_qc'\n",
    "    df['heating_ex'] = df['heating_qc'].apply(ex_qual)\n",
    "    # create 'kitchen_ex' based on 'kitchen_qual'\n",
    "    df['kitchen_ex'] = df['kitchen_qual'].apply(ex_qual)\n",
    "    # create neighborhood dummies \n",
    "    df['neighborhood_code'] = df['neighborhood'].map(neighborhood_dict)\n",
    "    df = pd.get_dummies(data=df, columns=['neighborhood_code'], drop_first=True)\n",
    "    return df"
   ]
  },
  {
   "cell_type": "code",
   "execution_count": 11,
   "id": "missing-coating",
   "metadata": {},
   "outputs": [],
   "source": [
    "test = categorical_pre(test)"
   ]
  },
  {
   "cell_type": "markdown",
   "id": "golden-dylan",
   "metadata": {},
   "source": [
    "---\n",
    "### Model 1: Starting with just numeric variables"
   ]
  },
  {
   "cell_type": "markdown",
   "id": "responsible-airplane",
   "metadata": {},
   "source": [
    "#### Fitting"
   ]
  },
  {
   "cell_type": "code",
   "execution_count": 12,
   "id": "played-double",
   "metadata": {},
   "outputs": [],
   "source": [
    "# Define X and y\n",
    "X1 = train[numeric_features]\n",
    "y = train['log_saleprice']"
   ]
  },
  {
   "cell_type": "code",
   "execution_count": 13,
   "id": "later-visit",
   "metadata": {},
   "outputs": [
    {
     "name": "stdout",
     "output_type": "stream",
     "text": [
      "The training score mean is 0.8124716066448622\n",
      "The training score standard deviation is 0.06437247960996247\n"
     ]
    }
   ],
   "source": [
    "# train-test-split\n",
    "X1_train, X1_test, y_train, y_test = train_test_split(X1, y, train_size=0.85, random_state=42)\n",
    "\n",
    "# instantiate the model  \n",
    "lr1 = LinearRegression()\n",
    "\n",
    "# cross validation scores \n",
    "print(f'The training score mean is {cross_val_score(estimator=lr1, X=X1_train, y=y_train).mean()}')\n",
    "print(f'The training score standard deviation is {cross_val_score(estimator=lr1, X=X1_train, y=y_train).std()}')"
   ]
  },
  {
   "cell_type": "markdown",
   "id": "massive-hands",
   "metadata": {},
   "source": [
    "#### Evaluation"
   ]
  },
  {
   "cell_type": "code",
   "execution_count": 14,
   "id": "suburban-liberty",
   "metadata": {},
   "outputs": [
    {
     "data": {
      "text/plain": [
       "LinearRegression()"
      ]
     },
     "execution_count": 14,
     "metadata": {},
     "output_type": "execute_result"
    }
   ],
   "source": [
    "# fit the model\n",
    "lr1.fit(X1_train, y_train)"
   ]
  },
  {
   "cell_type": "code",
   "execution_count": 15,
   "id": "technological-monitoring",
   "metadata": {},
   "outputs": [
    {
     "data": {
      "text/plain": [
       "(0.83681930487346, 0.8439741098999195)"
      ]
     },
     "execution_count": 15,
     "metadata": {},
     "output_type": "execute_result"
    }
   ],
   "source": [
    "# R-square in training and testing sets\n",
    "lr1.score(X1_train, y_train), lr1.score(X1_test, y_test)"
   ]
  },
  {
   "cell_type": "code",
   "execution_count": 16,
   "id": "adjustable-artist",
   "metadata": {},
   "outputs": [
    {
     "data": {
      "image/png": "[encoded data removed]",
      "text/plain": [
       "<Figure size 432x288 with 1 Axes>"
      ]
     },
     "metadata": {
      "needs_background": "light"
     },
     "output_type": "display_data"
    }
   ],
   "source": [
    "# Calculating the residuals\n",
    "y_true = train['saleprice']\n",
    "y_preds_log = lr1.predict(X1)\n",
    "y_preds = np.exp(y_preds_log)\n",
    "residuals = y_true - y_preds\n",
    "\n",
    "# Residual Plots\n",
    "plt.scatter(y_preds, residuals, s = 5)\n",
    "plt.title('Residual of the predicted model')\n",
    "plt.xlabel('Prediced Sales Price')\n",
    "plt.ylabel('Residuals')\n",
    "plt.axhline(0, color='orange');"
   ]
  },
  {
   "cell_type": "code",
   "execution_count": 17,
   "id": "searching-briefing",
   "metadata": {},
   "outputs": [
    {
     "data": {
      "text/plain": [
       "49040.21227546787"
      ]
     },
     "execution_count": 17,
     "metadata": {},
     "output_type": "execute_result"
    }
   ],
   "source": [
    "# RMSE \n",
    "metrics.mean_squared_error(y_true, y_preds, squared = False)"
   ]
  },
  {
   "cell_type": "markdown",
   "id": "objective-grade",
   "metadata": {},
   "source": [
    "#### Model 1 Prediction (for Kaggle Submission):"
   ]
  },
  {
   "cell_type": "code",
   "execution_count": 18,
   "id": "innovative-malaysia",
   "metadata": {},
   "outputs": [],
   "source": [
    "features = numeric_features\n",
    "kaggle_test_subset = test[features]"
   ]
  },
  {
   "cell_type": "code",
   "execution_count": 19,
   "id": "royal-domestic",
   "metadata": {},
   "outputs": [],
   "source": [
    "kaggle_pred_m1 = lr1.predict(kaggle_test_subset)"
   ]
  },
  {
   "cell_type": "code",
   "execution_count": 20,
   "id": "logical-examination",
   "metadata": {},
   "outputs": [],
   "source": [
    "preds_dict = {\n",
    "    'Id' : test['id'],\n",
    "    'Log_SalePrice' : kaggle_pred_m1\n",
    "}\n",
    "\n",
    "preds_df_m1 = pd.DataFrame(preds_dict)"
   ]
  },
  {
   "cell_type": "code",
   "execution_count": 21,
   "id": "resistant-bullet",
   "metadata": {},
   "outputs": [],
   "source": [
    "preds_df_m1['SalePrice'] = np.exp(preds_df_m1['Log_SalePrice'])\n",
    "preds_df_m1 = preds_df_m1.drop(columns=['Log_SalePrice'])\n",
    "# preds_df_m1.to_csv('./datasets/kaggle_preds_m1.csv', index=False, header=True)"
   ]
  },
  {
   "cell_type": "markdown",
   "id": "liberal-being",
   "metadata": {},
   "source": [
    "### Model 2: PolynomialFeatures (selected numeric only) + LASSO"
   ]
  },
  {
   "cell_type": "code",
   "execution_count": 59,
   "id": "prompt-lesbian",
   "metadata": {},
   "outputs": [],
   "source": [
    "# Define X and y\n",
    "X = train[numeric_features]\n",
    "y = train['log_saleprice']\n",
    "\n",
    "# Instantiate PolynomialFeatures objects\n",
    "poly = PolynomialFeatures(degree=2, interaction_only=False, include_bias=False)\n",
    "\n",
    "# Transform X_train\n",
    "# Fit and transform our X data.\n",
    "X_overfit = poly.fit_transform(X)"
   ]
  },
  {
   "cell_type": "code",
   "execution_count": 60,
   "id": "simple-knight",
   "metadata": {},
   "outputs": [],
   "source": [
    "# Create train/test splits.\n",
    "X_train, X_test, y_train, y_test = train_test_split(X_overfit, y, test_size=0.85, random_state=42)"
   ]
  },
  {
   "cell_type": "code",
   "execution_count": 61,
   "id": "sporting-guess",
   "metadata": {},
   "outputs": [],
   "source": [
    "# StandardScale data\n",
    "sc = StandardScaler()\n",
    "Z_train = sc.fit_transform(X_train)\n",
    "Z_test = sc.transform(X_test)"
   ]
  },
  {
   "cell_type": "code",
   "execution_count": 62,
   "id": "considerable-vision",
   "metadata": {},
   "outputs": [],
   "source": [
    "# Imports LASSO\n",
    "from sklearn.linear_model import Lasso, LassoCV"
   ]
  },
  {
   "cell_type": "code",
   "execution_count": 76,
   "id": "broke-ready",
   "metadata": {},
   "outputs": [
    {
     "name": "stderr",
     "output_type": "stream",
     "text": [
      "/opt/anaconda3/lib/python3.8/site-packages/sklearn/linear_model/_coordinate_descent.py:529: ConvergenceWarning: Objective did not converge. You might want to increase the number of iterations. Duality gap: 0.008171388238681576, tolerance: 0.0042248409003977925\n",
      "  model = cd_fast.enet_coordinate_descent(\n"
     ]
    }
   ],
   "source": [
    "# Set up a list of Lasso alphas to check.\n",
    "l_alphas = np.logspace(-3, -1, 100)\n",
    "\n",
    "# Cross-validate over our list of Lasso alphas.\n",
    "lasso_cv = LassoCV(alphas=l_alphas, cv=5, max_iter=5000)\n",
    "\n",
    "# Fit model using best ridge alpha!\n",
    "lasso_cv.fit(Z_train, y_train);"
   ]
  },
  {
   "cell_type": "code",
   "execution_count": 77,
   "id": "dental-disorder",
   "metadata": {},
   "outputs": [
    {
     "data": {
      "text/plain": [
       "(0.9079291653600844, 0.853579168632302)"
      ]
     },
     "execution_count": 77,
     "metadata": {},
     "output_type": "execute_result"
    }
   ],
   "source": [
    "lasso_cv.score(Z_train, y_train), lasso_cv.score(Z_test, y_test)"
   ]
  },
  {
   "cell_type": "code",
   "execution_count": 78,
   "id": "stopped-curve",
   "metadata": {},
   "outputs": [
    {
     "data": {
      "text/plain": [
       "0.001"
      ]
     },
     "execution_count": 78,
     "metadata": {},
     "output_type": "execute_result"
    }
   ],
   "source": [
    "lasso_cv.alpha_"
   ]
  },
  {
   "cell_type": "code",
   "execution_count": 79,
   "id": "running-hughes",
   "metadata": {},
   "outputs": [
    {
     "data": {
      "text/plain": [
       "array([ 0.        ,  0.        ,  0.        ,  0.        , -0.00955125,\n",
       "        0.08821237,  0.08629348,  0.03105558,  0.04396694, -0.        ,\n",
       "        0.        ,  0.        ,  0.        , -0.        ,  0.00564639,\n",
       "        0.        , -0.07481013,  0.        ,  0.        ,  0.00445317,\n",
       "       -0.        , -0.        , -0.        , -0.        , -0.        ,\n",
       "       -0.        ,  0.        ,  0.        ,  0.06842955,  0.        ,\n",
       "       -0.00259524,  0.05822867,  0.        ,  0.06509587,  0.        ,\n",
       "       -0.        ,  0.        ,  0.0029719 ,  0.        ,  0.        ,\n",
       "       -0.        ,  0.        ,  0.        ,  0.05424863,  0.03098373,\n",
       "        0.        ,  0.0036166 ,  0.        ,  0.04350569, -0.        ,\n",
       "        0.        ,  0.        ,  0.        ,  0.03866342, -0.        ,\n",
       "        0.        ,  0.        ,  0.        , -0.        ,  0.        ,\n",
       "        0.        ,  0.04794899, -0.00777336,  0.        ,  0.        ,\n",
       "        0.        ,  0.05136023, -0.        ,  0.        ,  0.        ,\n",
       "        0.        , -0.        ,  0.        ,  0.        ,  0.01647735,\n",
       "        0.        , -0.        , -0.        , -0.        , -0.        ,\n",
       "       -0.        , -0.03088421,  0.        ,  0.01639676, -0.        ,\n",
       "        0.01943148, -0.09059364, -0.        , -0.        , -0.04761397,\n",
       "        0.04734293, -0.        , -0.05290174, -0.02699571, -0.00477603,\n",
       "       -0.00633204,  0.        , -0.        , -0.        , -0.        ,\n",
       "       -0.        ,  0.        ,  0.        , -0.014235  , -0.        ,\n",
       "       -0.        ,  0.        , -0.        , -0.        , -0.01682696,\n",
       "       -0.        ,  0.        , -0.        , -0.        , -0.        ,\n",
       "       -0.02574763, -0.06693391, -0.        , -0.        ,  0.        ,\n",
       "        0.06524254,  0.        , -0.01054592, -0.0389295 ,  0.01970612,\n",
       "       -0.        , -0.        , -0.04662929, -0.        ,  0.        ,\n",
       "        0.        , -0.        ,  0.03546909,  0.03108258,  0.        ,\n",
       "       -0.02161377,  0.        ,  0.02777166,  0.01458081,  0.        ,\n",
       "       -0.        , -0.00471677, -0.07341072,  0.        ,  0.        ,\n",
       "        0.        ,  0.        ,  0.00709886, -0.        ,  0.01745245,\n",
       "        0.01230811,  0.        ])"
      ]
     },
     "execution_count": 79,
     "metadata": {},
     "output_type": "execute_result"
    }
   ],
   "source": [
    "lasso_cv.coef_"
   ]
  },
  {
   "cell_type": "markdown",
   "id": "solar-screen",
   "metadata": {},
   "source": [
    "#### Model 2 Prediction (for Kaggle Submission):"
   ]
  },
  {
   "cell_type": "code",
   "execution_count": 80,
   "id": "proof-anchor",
   "metadata": {},
   "outputs": [],
   "source": [
    "# Define X and y\n",
    "features = numeric_features\n",
    "kaggle_test_subset = test[features]\n",
    "\n",
    "\n",
    "test_X_overfit = poly.transform(kaggle_test_subset)\n",
    "test_Z = sc.transform(test_X_overfit)"
   ]
  },
  {
   "cell_type": "code",
   "execution_count": null,
   "id": "initial-saying",
   "metadata": {},
   "outputs": [],
   "source": [
    "kaggle_pred_m2 = lasso_cv.predict(test_Z)"
   ]
  },
  {
   "cell_type": "code",
   "execution_count": null,
   "id": "qualified-scanning",
   "metadata": {},
   "outputs": [],
   "source": [
    "preds_dict = {\n",
    "    'Id' : test['id'],\n",
    "    'Log_SalePrice' : kaggle_pred_m2\n",
    "}\n",
    "\n",
    "preds_df_m2 = pd.DataFrame(preds_dict)"
   ]
  },
  {
   "cell_type": "code",
   "execution_count": null,
   "id": "greek-spanking",
   "metadata": {},
   "outputs": [],
   "source": [
    "preds_df_m2['SalePrice'] = np.exp(preds_df_m2['Log_SalePrice'])\n",
    "preds_df_m2 = preds_df_m2.drop(columns=['Log_SalePrice'])\n",
    "# preds_df_m2.to_csv('./datasets/kaggle_preds_m2.csv', index=False, header=True)"
   ]
  },
  {
   "cell_type": "markdown",
   "id": "handmade-administration",
   "metadata": {},
   "source": [
    "### Model 2.1: PolynomialFeatures (all numeric) + LASSO"
   ]
  },
  {
   "cell_type": "code",
   "execution_count": 94,
   "id": "owned-beauty",
   "metadata": {},
   "outputs": [],
   "source": [
    "train_numerics = train.select_dtypes(include=np.number)"
   ]
  },
  {
   "cell_type": "code",
   "execution_count": 95,
   "id": "cardiovascular-resource",
   "metadata": {},
   "outputs": [
    {
     "ename": "ValueError",
     "evalue": "Input contains NaN, infinity or a value too large for dtype('float64').",
     "output_type": "error",
     "traceback": [
      "\u001b[0;31m---------------------------------------------------------------------------\u001b[0m",
      "\u001b[0;31mValueError\u001b[0m                                Traceback (most recent call last)",
      "\u001b[0;32m<ipython-input-95-db3d91f1ec63>\u001b[0m in \u001b[0;36m<module>\u001b[0;34m\u001b[0m\n\u001b[1;32m      8\u001b[0m \u001b[0;31m# Transform X_train\u001b[0m\u001b[0;34m\u001b[0m\u001b[0;34m\u001b[0m\u001b[0;34m\u001b[0m\u001b[0m\n\u001b[1;32m      9\u001b[0m \u001b[0;31m# Fit and transform our X data.\u001b[0m\u001b[0;34m\u001b[0m\u001b[0;34m\u001b[0m\u001b[0;34m\u001b[0m\u001b[0m\n\u001b[0;32m---> 10\u001b[0;31m \u001b[0mX_overfit\u001b[0m \u001b[0;34m=\u001b[0m \u001b[0mpoly\u001b[0m\u001b[0;34m.\u001b[0m\u001b[0mfit_transform\u001b[0m\u001b[0;34m(\u001b[0m\u001b[0mX\u001b[0m\u001b[0;34m)\u001b[0m\u001b[0;34m\u001b[0m\u001b[0;34m\u001b[0m\u001b[0m\n\u001b[0m",
      "\u001b[0;32m/opt/anaconda3/lib/python3.8/site-packages/sklearn/base.py\u001b[0m in \u001b[0;36mfit_transform\u001b[0;34m(self, X, y, **fit_params)\u001b[0m\n\u001b[1;32m    688\u001b[0m         \u001b[0;32mif\u001b[0m \u001b[0my\u001b[0m \u001b[0;32mis\u001b[0m \u001b[0;32mNone\u001b[0m\u001b[0;34m:\u001b[0m\u001b[0;34m\u001b[0m\u001b[0;34m\u001b[0m\u001b[0m\n\u001b[1;32m    689\u001b[0m             \u001b[0;31m# fit method of arity 1 (unsupervised transformation)\u001b[0m\u001b[0;34m\u001b[0m\u001b[0;34m\u001b[0m\u001b[0;34m\u001b[0m\u001b[0m\n\u001b[0;32m--> 690\u001b[0;31m             \u001b[0;32mreturn\u001b[0m \u001b[0mself\u001b[0m\u001b[0;34m.\u001b[0m\u001b[0mfit\u001b[0m\u001b[0;34m(\u001b[0m\u001b[0mX\u001b[0m\u001b[0;34m,\u001b[0m \u001b[0;34m**\u001b[0m\u001b[0mfit_params\u001b[0m\u001b[0;34m)\u001b[0m\u001b[0;34m.\u001b[0m\u001b[0mtransform\u001b[0m\u001b[0;34m(\u001b[0m\u001b[0mX\u001b[0m\u001b[0;34m)\u001b[0m\u001b[0;34m\u001b[0m\u001b[0;34m\u001b[0m\u001b[0m\n\u001b[0m\u001b[1;32m    691\u001b[0m         \u001b[0;32melse\u001b[0m\u001b[0;34m:\u001b[0m\u001b[0;34m\u001b[0m\u001b[0;34m\u001b[0m\u001b[0m\n\u001b[1;32m    692\u001b[0m             \u001b[0;31m# fit method of arity 2 (supervised transformation)\u001b[0m\u001b[0;34m\u001b[0m\u001b[0;34m\u001b[0m\u001b[0;34m\u001b[0m\u001b[0m\n",
      "\u001b[0;32m/opt/anaconda3/lib/python3.8/site-packages/sklearn/preprocessing/_data.py\u001b[0m in \u001b[0;36mfit\u001b[0;34m(self, X, y)\u001b[0m\n\u001b[1;32m   1510\u001b[0m         \u001b[0mself\u001b[0m \u001b[0;34m:\u001b[0m \u001b[0minstance\u001b[0m\u001b[0;34m\u001b[0m\u001b[0;34m\u001b[0m\u001b[0m\n\u001b[1;32m   1511\u001b[0m         \"\"\"\n\u001b[0;32m-> 1512\u001b[0;31m         n_samples, n_features = self._validate_data(\n\u001b[0m\u001b[1;32m   1513\u001b[0m             X, accept_sparse=True).shape\n\u001b[1;32m   1514\u001b[0m         combinations = self._combinations(n_features, self.degree,\n",
      "\u001b[0;32m/opt/anaconda3/lib/python3.8/site-packages/sklearn/base.py\u001b[0m in \u001b[0;36m_validate_data\u001b[0;34m(self, X, y, reset, validate_separately, **check_params)\u001b[0m\n\u001b[1;32m    418\u001b[0m                     \u001b[0;34mf\"requires y to be passed, but the target y is None.\"\u001b[0m\u001b[0;34m\u001b[0m\u001b[0;34m\u001b[0m\u001b[0m\n\u001b[1;32m    419\u001b[0m                 )\n\u001b[0;32m--> 420\u001b[0;31m             \u001b[0mX\u001b[0m \u001b[0;34m=\u001b[0m \u001b[0mcheck_array\u001b[0m\u001b[0;34m(\u001b[0m\u001b[0mX\u001b[0m\u001b[0;34m,\u001b[0m \u001b[0;34m**\u001b[0m\u001b[0mcheck_params\u001b[0m\u001b[0;34m)\u001b[0m\u001b[0;34m\u001b[0m\u001b[0;34m\u001b[0m\u001b[0m\n\u001b[0m\u001b[1;32m    421\u001b[0m             \u001b[0mout\u001b[0m \u001b[0;34m=\u001b[0m \u001b[0mX\u001b[0m\u001b[0;34m\u001b[0m\u001b[0;34m\u001b[0m\u001b[0m\n\u001b[1;32m    422\u001b[0m         \u001b[0;32melse\u001b[0m\u001b[0;34m:\u001b[0m\u001b[0;34m\u001b[0m\u001b[0;34m\u001b[0m\u001b[0m\n",
      "\u001b[0;32m/opt/anaconda3/lib/python3.8/site-packages/sklearn/utils/validation.py\u001b[0m in \u001b[0;36minner_f\u001b[0;34m(*args, **kwargs)\u001b[0m\n\u001b[1;32m     70\u001b[0m                           FutureWarning)\n\u001b[1;32m     71\u001b[0m         \u001b[0mkwargs\u001b[0m\u001b[0;34m.\u001b[0m\u001b[0mupdate\u001b[0m\u001b[0;34m(\u001b[0m\u001b[0;34m{\u001b[0m\u001b[0mk\u001b[0m\u001b[0;34m:\u001b[0m \u001b[0marg\u001b[0m \u001b[0;32mfor\u001b[0m \u001b[0mk\u001b[0m\u001b[0;34m,\u001b[0m \u001b[0marg\u001b[0m \u001b[0;32min\u001b[0m \u001b[0mzip\u001b[0m\u001b[0;34m(\u001b[0m\u001b[0msig\u001b[0m\u001b[0;34m.\u001b[0m\u001b[0mparameters\u001b[0m\u001b[0;34m,\u001b[0m \u001b[0margs\u001b[0m\u001b[0;34m)\u001b[0m\u001b[0;34m}\u001b[0m\u001b[0;34m)\u001b[0m\u001b[0;34m\u001b[0m\u001b[0;34m\u001b[0m\u001b[0m\n\u001b[0;32m---> 72\u001b[0;31m         \u001b[0;32mreturn\u001b[0m \u001b[0mf\u001b[0m\u001b[0;34m(\u001b[0m\u001b[0;34m**\u001b[0m\u001b[0mkwargs\u001b[0m\u001b[0;34m)\u001b[0m\u001b[0;34m\u001b[0m\u001b[0;34m\u001b[0m\u001b[0m\n\u001b[0m\u001b[1;32m     73\u001b[0m     \u001b[0;32mreturn\u001b[0m \u001b[0minner_f\u001b[0m\u001b[0;34m\u001b[0m\u001b[0;34m\u001b[0m\u001b[0m\n\u001b[1;32m     74\u001b[0m \u001b[0;34m\u001b[0m\u001b[0m\n",
      "\u001b[0;32m/opt/anaconda3/lib/python3.8/site-packages/sklearn/utils/validation.py\u001b[0m in \u001b[0;36mcheck_array\u001b[0;34m(array, accept_sparse, accept_large_sparse, dtype, order, copy, force_all_finite, ensure_2d, allow_nd, ensure_min_samples, ensure_min_features, estimator)\u001b[0m\n\u001b[1;32m    642\u001b[0m \u001b[0;34m\u001b[0m\u001b[0m\n\u001b[1;32m    643\u001b[0m         \u001b[0;32mif\u001b[0m \u001b[0mforce_all_finite\u001b[0m\u001b[0;34m:\u001b[0m\u001b[0;34m\u001b[0m\u001b[0;34m\u001b[0m\u001b[0m\n\u001b[0;32m--> 644\u001b[0;31m             _assert_all_finite(array,\n\u001b[0m\u001b[1;32m    645\u001b[0m                                allow_nan=force_all_finite == 'allow-nan')\n\u001b[1;32m    646\u001b[0m \u001b[0;34m\u001b[0m\u001b[0m\n",
      "\u001b[0;32m/opt/anaconda3/lib/python3.8/site-packages/sklearn/utils/validation.py\u001b[0m in \u001b[0;36m_assert_all_finite\u001b[0;34m(X, allow_nan, msg_dtype)\u001b[0m\n\u001b[1;32m     94\u001b[0m                 not allow_nan and not np.isfinite(X).all()):\n\u001b[1;32m     95\u001b[0m             \u001b[0mtype_err\u001b[0m \u001b[0;34m=\u001b[0m \u001b[0;34m'infinity'\u001b[0m \u001b[0;32mif\u001b[0m \u001b[0mallow_nan\u001b[0m \u001b[0;32melse\u001b[0m \u001b[0;34m'NaN, infinity'\u001b[0m\u001b[0;34m\u001b[0m\u001b[0;34m\u001b[0m\u001b[0m\n\u001b[0;32m---> 96\u001b[0;31m             raise ValueError(\n\u001b[0m\u001b[1;32m     97\u001b[0m                     \u001b[0mmsg_err\u001b[0m\u001b[0;34m.\u001b[0m\u001b[0mformat\u001b[0m\u001b[0;34m\u001b[0m\u001b[0;34m\u001b[0m\u001b[0m\n\u001b[1;32m     98\u001b[0m                     (type_err,\n",
      "\u001b[0;31mValueError\u001b[0m: Input contains NaN, infinity or a value too large for dtype('float64')."
     ]
    }
   ],
   "source": [
    "# Define X and y\n",
    "X = train_numerics.drop(columns=['id', 'pid', 'saleprice', 'log_saleprice'])\n",
    "y = train['log_saleprice']\n",
    "\n",
    "# Instantiate PolynomialFeatures objects\n",
    "poly = PolynomialFeatures(degree=2, interaction_only=False, include_bias=False)\n",
    "\n",
    "# Transform X_train\n",
    "# Fit and transform our X data.\n",
    "X_overfit = poly.fit_transform(X)"
   ]
  },
  {
   "cell_type": "code",
   "execution_count": 96,
   "id": "potential-grounds",
   "metadata": {},
   "outputs": [],
   "source": [
    "# Create train/test splits.\n",
    "X_train, X_test, y_train, y_test = train_test_split(X_overfit, y, test_size=0.85, random_state=42)"
   ]
  },
  {
   "cell_type": "code",
   "execution_count": 97,
   "id": "round-bobby",
   "metadata": {},
   "outputs": [],
   "source": [
    "# StandardScale data\n",
    "sc = StandardScaler()\n",
    "Z_train = sc.fit_transform(X_train)\n",
    "Z_test = sc.transform(X_test)"
   ]
  },
  {
   "cell_type": "code",
   "execution_count": 98,
   "id": "dressed-prophet",
   "metadata": {},
   "outputs": [
    {
     "name": "stderr",
     "output_type": "stream",
     "text": [
      "/opt/anaconda3/lib/python3.8/site-packages/sklearn/linear_model/_coordinate_descent.py:529: ConvergenceWarning: Objective did not converge. You might want to increase the number of iterations. Duality gap: 0.008171388238681576, tolerance: 0.0042248409003977925\n",
      "  model = cd_fast.enet_coordinate_descent(\n"
     ]
    }
   ],
   "source": [
    "# Set up a list of Lasso alphas to check.\n",
    "l_alphas = np.logspace(-3, 0, 100)\n",
    "\n",
    "# Cross-validate over our list of Lasso alphas.\n",
    "lasso_cv = LassoCV(alphas=l_alphas, cv=5, max_iter=5000)\n",
    "\n",
    "# Fit model using best ridge alpha!\n",
    "lasso_cv.fit(Z_train, y_train);"
   ]
  },
  {
   "cell_type": "code",
   "execution_count": 99,
   "id": "documentary-nudist",
   "metadata": {},
   "outputs": [
    {
     "data": {
      "text/plain": [
       "(0.9079291653600844, 0.853579168632302)"
      ]
     },
     "execution_count": 99,
     "metadata": {},
     "output_type": "execute_result"
    }
   ],
   "source": [
    "lasso_cv.score(Z_train, y_train), lasso_cv.score(Z_test, y_test)"
   ]
  },
  {
   "cell_type": "code",
   "execution_count": 100,
   "id": "applicable-alpha",
   "metadata": {},
   "outputs": [
    {
     "data": {
      "text/plain": [
       "0.001"
      ]
     },
     "execution_count": 100,
     "metadata": {},
     "output_type": "execute_result"
    }
   ],
   "source": [
    "lasso_cv.alpha_"
   ]
  },
  {
   "cell_type": "code",
   "execution_count": 101,
   "id": "competitive-fantasy",
   "metadata": {},
   "outputs": [
    {
     "data": {
      "text/plain": [
       "array([ 0.        ,  0.        ,  0.        ,  0.        , -0.00955125,\n",
       "        0.08821237,  0.08629348,  0.03105558,  0.04396694, -0.        ,\n",
       "        0.        ,  0.        ,  0.        , -0.        ,  0.00564639,\n",
       "        0.        , -0.07481013,  0.        ,  0.        ,  0.00445317,\n",
       "       -0.        , -0.        , -0.        , -0.        , -0.        ,\n",
       "       -0.        ,  0.        ,  0.        ,  0.06842955,  0.        ,\n",
       "       -0.00259524,  0.05822867,  0.        ,  0.06509587,  0.        ,\n",
       "       -0.        ,  0.        ,  0.0029719 ,  0.        ,  0.        ,\n",
       "       -0.        ,  0.        ,  0.        ,  0.05424863,  0.03098373,\n",
       "        0.        ,  0.0036166 ,  0.        ,  0.04350569, -0.        ,\n",
       "        0.        ,  0.        ,  0.        ,  0.03866342, -0.        ,\n",
       "        0.        ,  0.        ,  0.        , -0.        ,  0.        ,\n",
       "        0.        ,  0.04794899, -0.00777336,  0.        ,  0.        ,\n",
       "        0.        ,  0.05136023, -0.        ,  0.        ,  0.        ,\n",
       "        0.        , -0.        ,  0.        ,  0.        ,  0.01647735,\n",
       "        0.        , -0.        , -0.        , -0.        , -0.        ,\n",
       "       -0.        , -0.03088421,  0.        ,  0.01639676, -0.        ,\n",
       "        0.01943148, -0.09059364, -0.        , -0.        , -0.04761397,\n",
       "        0.04734293, -0.        , -0.05290174, -0.02699571, -0.00477603,\n",
       "       -0.00633204,  0.        , -0.        , -0.        , -0.        ,\n",
       "       -0.        ,  0.        ,  0.        , -0.014235  , -0.        ,\n",
       "       -0.        ,  0.        , -0.        , -0.        , -0.01682696,\n",
       "       -0.        ,  0.        , -0.        , -0.        , -0.        ,\n",
       "       -0.02574763, -0.06693391, -0.        , -0.        ,  0.        ,\n",
       "        0.06524254,  0.        , -0.01054592, -0.0389295 ,  0.01970612,\n",
       "       -0.        , -0.        , -0.04662929, -0.        ,  0.        ,\n",
       "        0.        , -0.        ,  0.03546909,  0.03108258,  0.        ,\n",
       "       -0.02161377,  0.        ,  0.02777166,  0.01458081,  0.        ,\n",
       "       -0.        , -0.00471677, -0.07341072,  0.        ,  0.        ,\n",
       "        0.        ,  0.        ,  0.00709886, -0.        ,  0.01745245,\n",
       "        0.01230811,  0.        ])"
      ]
     },
     "execution_count": 101,
     "metadata": {},
     "output_type": "execute_result"
    }
   ],
   "source": [
    "lasso_cv.coef_"
   ]
  },
  {
   "cell_type": "markdown",
   "id": "sublime-diesel",
   "metadata": {},
   "source": [
    "### Model 3: PolynomialFeatures ((numeric only) + Ridge"
   ]
  },
  {
   "cell_type": "code",
   "execution_count": 102,
   "id": "appreciated-arrow",
   "metadata": {},
   "outputs": [],
   "source": [
    "from sklearn.linear_model import Ridge, RidgeCV"
   ]
  },
  {
   "cell_type": "code",
   "execution_count": 103,
   "id": "foreign-father",
   "metadata": {},
   "outputs": [],
   "source": [
    "r_alphas = np.logspace(2, 7, 100)\n",
    "\n",
    "# Cross-validate over our list of ridge alphas.\n",
    "ridge_cv = RidgeCV(alphas=r_alphas, scoring='r2', cv=5)\n",
    "\n",
    "# Fit model using best ridge alpha!\n",
    "ridge_cv.fit(Z_train, y_train);"
   ]
  },
  {
   "cell_type": "code",
   "execution_count": 104,
   "id": "representative-spanish",
   "metadata": {},
   "outputs": [
    {
     "data": {
      "text/plain": [
       "(0.8818846854245219, 0.8541935170534922)"
      ]
     },
     "execution_count": 104,
     "metadata": {},
     "output_type": "execute_result"
    }
   ],
   "source": [
    "ridge_cv.score(Z_train, y_train), ridge_cv.score(Z_test, y_test)"
   ]
  },
  {
   "cell_type": "markdown",
   "id": "industrial-thailand",
   "metadata": {},
   "source": [
    "#### Model 3 Prediction (for Kaggle Submission):"
   ]
  },
  {
   "cell_type": "code",
   "execution_count": 105,
   "id": "alien-variance",
   "metadata": {},
   "outputs": [],
   "source": [
    "kaggle_pred_m3 = ridge_cv.predict(test_Z)"
   ]
  },
  {
   "cell_type": "code",
   "execution_count": 106,
   "id": "peripheral-ground",
   "metadata": {},
   "outputs": [],
   "source": [
    "preds_dict = {\n",
    "    'Id' : test['id'],\n",
    "    'Log_SalePrice' : kaggle_pred_m3\n",
    "}\n",
    "\n",
    "preds_df_m3 = pd.DataFrame(preds_dict)"
   ]
  },
  {
   "cell_type": "code",
   "execution_count": 107,
   "id": "reliable-machinery",
   "metadata": {},
   "outputs": [],
   "source": [
    "preds_df_m3['SalePrice'] = np.exp(preds_df_m3['Log_SalePrice'])\n",
    "preds_df_m3 = preds_df_m3.drop(columns=['Log_SalePrice'])\n",
    "# preds_df_m3.to_csv('./datasets/kaggle_preds_m3.csv', index=False, header=True)"
   ]
  },
  {
   "cell_type": "markdown",
   "id": "adapted-onion",
   "metadata": {},
   "source": [
    "### Model 4: Adding categorical variables to the model"
   ]
  },
  {
   "cell_type": "code",
   "execution_count": 120,
   "id": "indie-supply",
   "metadata": {},
   "outputs": [
    {
     "name": "stdout",
     "output_type": "stream",
     "text": [
      "The training score mean is 0.8375462991059235\n",
      "The training score standard deviation is 0.04923732310323296\n"
     ]
    }
   ],
   "source": [
    "# try a model with numeric and categorical variables\n",
    "X2 = train[numeric_features + categorical_features]\n",
    "y = train['log_saleprice']\n",
    "\n",
    "# train-test-split\n",
    "X2_train, X2_test, y_train, y_test = train_test_split(X2, y, train_size=0.85, random_state=42)\n",
    "\n",
    "# instantiate the model  \n",
    "lr2 = LinearRegression()\n",
    "\n",
    "# cross validation scores \n",
    "print(f'The training score mean is {cross_val_score(estimator=lr2, X=X2_train, y=y_train).mean()}')\n",
    "print(f'The training score standard deviation is {cross_val_score(estimator=lr2, X=X2_train, y=y_train).std()}')"
   ]
  },
  {
   "cell_type": "code",
   "execution_count": 109,
   "id": "junior-console",
   "metadata": {},
   "outputs": [
    {
     "data": {
      "text/plain": [
       "(0.860720314379243, 0.8577039089238588)"
      ]
     },
     "execution_count": 109,
     "metadata": {},
     "output_type": "execute_result"
    }
   ],
   "source": [
    "lr2.fit(X2_train, y_train)\n",
    "lr2.score(X2_train, y_train), lr2.score(X2_test, y_test)"
   ]
  },
  {
   "cell_type": "code",
   "execution_count": 110,
   "id": "shaped-poland",
   "metadata": {},
   "outputs": [
    {
     "data": {
      "image/png": "[encoded data removed]",
      "text/plain": [
       "<Figure size 432x288 with 1 Axes>"
      ]
     },
     "metadata": {
      "needs_background": "light"
     },
     "output_type": "display_data"
    }
   ],
   "source": [
    "# Calculating the R-squares\n",
    "y_preds = lr2.predict(X2)\n",
    "residuals = y - y_preds\n",
    "\n",
    "# Residual Plots\n",
    "plt.scatter(y_preds, residuals, s = 5)\n",
    "plt.title('Residual of the predicted model')\n",
    "plt.xlabel('Prediced Sales Price (log transfored)')\n",
    "plt.ylabel('Residuals')\n",
    "plt.axhline(0, color='orange');"
   ]
  },
  {
   "cell_type": "code",
   "execution_count": 111,
   "id": "fundamental-object",
   "metadata": {},
   "outputs": [
    {
     "data": {
      "image/png": "[encoded data removed]",
      "text/plain": [
       "<Figure size 432x288 with 1 Axes>"
      ]
     },
     "metadata": {
      "needs_background": "light"
     },
     "output_type": "display_data"
    }
   ],
   "source": [
    "# Calculating the residuals\n",
    "y_true = train['saleprice']\n",
    "y_preds_log = lr2.predict(X2)\n",
    "y_preds = np.exp(y_preds_log)\n",
    "residuals = y_true - y_preds\n",
    "\n",
    "# Residual Plots\n",
    "plt.scatter(y_preds, residuals, s = 5)\n",
    "plt.title('Residual of the predicted model')\n",
    "plt.xlabel('Prediced Sales Price')\n",
    "plt.ylabel('Residuals')\n",
    "plt.axhline(0, color='orange');"
   ]
  },
  {
   "cell_type": "code",
   "execution_count": 112,
   "id": "excited-judges",
   "metadata": {},
   "outputs": [
    {
     "data": {
      "text/plain": [
       "37655.34176072821"
      ]
     },
     "execution_count": 112,
     "metadata": {},
     "output_type": "execute_result"
    }
   ],
   "source": [
    "# RMSE is very large because there are outliers in the dataset\n",
    "metrics.mean_squared_error(y_true, y_preds, squared = False)"
   ]
  },
  {
   "cell_type": "markdown",
   "id": "seeing-information",
   "metadata": {},
   "source": [
    "#### Model 4 Prediction (for Kaggle Submission):"
   ]
  },
  {
   "cell_type": "code",
   "execution_count": 113,
   "id": "russian-positive",
   "metadata": {},
   "outputs": [],
   "source": [
    "features = numeric_features + categorical_features\n",
    "kaggle_test_subset = test[features]"
   ]
  },
  {
   "cell_type": "code",
   "execution_count": 114,
   "id": "liable-graphics",
   "metadata": {},
   "outputs": [],
   "source": [
    "kaggle_pred_m4 = lr2.predict(kaggle_test_subset)"
   ]
  },
  {
   "cell_type": "code",
   "execution_count": 115,
   "id": "designed-gathering",
   "metadata": {},
   "outputs": [],
   "source": [
    "preds_dict = {\n",
    "    'Id' : test['id'],\n",
    "    'Log_SalePrice' : kaggle_pred_m4\n",
    "}\n",
    "\n",
    "preds_df_m4 = pd.DataFrame(preds_dict)"
   ]
  },
  {
   "cell_type": "code",
   "execution_count": 116,
   "id": "numerical-quest",
   "metadata": {},
   "outputs": [],
   "source": [
    "preds_df_m4['SalePrice'] = np.exp(preds_df_m4['Log_SalePrice'])\n",
    "preds_df_m4 = preds_df_m4.drop(columns=['Log_SalePrice'])\n",
    "# preds_df_m4.to_csv('./datasets/kaggle_preds_m4_2.csv', index=False, header=True)"
   ]
  },
  {
   "cell_type": "markdown",
   "id": "domestic-hello",
   "metadata": {},
   "source": [
    "**To maximize my training set, I will fit the entire training set to the model.**"
   ]
  },
  {
   "cell_type": "code",
   "execution_count": 117,
   "id": "amber-implementation",
   "metadata": {},
   "outputs": [],
   "source": [
    "# fitting the whole train dataset \n",
    "lr2.fit(X2, y)\n",
    "kaggle_pred_m4_1 = lr2.predict(kaggle_test_subset)\n",
    "preds_dict = {\n",
    "    'Id' : test['id'],\n",
    "    'Log_SalePrice' : kaggle_pred_m4_1\n",
    "}\n",
    "\n",
    "preds_df_m4_1 = pd.DataFrame(preds_dict)\n",
    "preds_df_m4_1['SalePrice'] = np.exp(preds_df_m4_1['Log_SalePrice'])\n",
    "preds_df_m4_1 = preds_df_m4_1.drop(columns=['Log_SalePrice'])\n",
    "# preds_df_m4_1.to_csv('./datasets/kaggle_preds_m4_1.csv', index=False, header=True)"
   ]
  },
  {
   "cell_type": "markdown",
   "id": "angry-sculpture",
   "metadata": {},
   "source": [
    "### Choosing Model 4 as the Final Model\n",
    "Based on the R-squared comparison, I chose Model 4 as the final model as the training and testing R-squares are the closest. \n",
    "\n",
    "\n",
    "| Model                                               | Training R-square | Testing R-square |\n",
    "|-----------------------------------------------------|-------------------|------------------|\n",
    "| Model 1: Linear Regression (numeric variables only) | 0.837             | 0.844            |\n",
    "| Model 2: LASSO Regularized Regression               | 0.908             | 0.854            |\n",
    "| Model 3: Ridget Regularized Regression              | 0.882             | 0.854            |\n",
    "| Model 4: Linear Regression (numeric + categorical)  | 0.861             | 0.858            |\n"
   ]
  },
  {
   "cell_type": "markdown",
   "id": "touched-amsterdam",
   "metadata": {},
   "source": [
    "---"
   ]
  },
  {
   "cell_type": "markdown",
   "id": "subtle-graham",
   "metadata": {},
   "source": [
    "### Interpretation (Using OLS Summary for Interpretation)\n",
    "I decided to use Model 4 as my final model and I will making interpretation here."
   ]
  },
  {
   "cell_type": "code",
   "execution_count": 119,
   "id": "substantial-idaho",
   "metadata": {},
   "outputs": [],
   "source": [
    "import statsmodels.api as sm"
   ]
  },
  {
   "cell_type": "code",
   "execution_count": 123,
   "id": "august-disclaimer",
   "metadata": {},
   "outputs": [],
   "source": [
    "# Set up X.\n",
    "\n",
    "final_features = numeric_features + categorical_features\n",
    "X = sm.add_constant(train[final_features])\n",
    "\n",
    "# Set up y.\n",
    "y = train['log_saleprice']"
   ]
  },
  {
   "cell_type": "code",
   "execution_count": 124,
   "id": "mexican-seventh",
   "metadata": {},
   "outputs": [],
   "source": [
    "results = sm.OLS(y, X).fit()"
   ]
  },
  {
   "cell_type": "code",
   "execution_count": 126,
   "id": "frozen-daughter",
   "metadata": {},
   "outputs": [
    {
     "data": {
      "text/html": [
       "<table class=\"simpletable\">\n",
       "<caption>OLS Regression Results</caption>\n",
       "<tr>\n",
       "  <th>Dep. Variable:</th>      <td>log_saleprice</td>  <th>  R-squared:         </th> <td>   0.861</td>\n",
       "</tr>\n",
       "<tr>\n",
       "  <th>Model:</th>                   <td>OLS</td>       <th>  Adj. R-squared:    </th> <td>   0.859</td>\n",
       "</tr>\n",
       "<tr>\n",
       "  <th>Method:</th>             <td>Least Squares</td>  <th>  F-statistic:       </th> <td>   416.8</td>\n",
       "</tr>\n",
       "<tr>\n",
       "  <th>Date:</th>             <td>Sat, 06 Mar 2021</td> <th>  Prob (F-statistic):</th>  <td>  0.00</td> \n",
       "</tr>\n",
       "<tr>\n",
       "  <th>Time:</th>                 <td>12:46:05</td>     <th>  Log-Likelihood:    </th> <td>  935.43</td>\n",
       "</tr>\n",
       "<tr>\n",
       "  <th>No. Observations:</th>      <td>  2051</td>      <th>  AIC:               </th> <td>  -1809.</td>\n",
       "</tr>\n",
       "<tr>\n",
       "  <th>Df Residuals:</th>          <td>  2020</td>      <th>  BIC:               </th> <td>  -1634.</td>\n",
       "</tr>\n",
       "<tr>\n",
       "  <th>Df Model:</th>              <td>    30</td>      <th>                     </th>     <td> </td>   \n",
       "</tr>\n",
       "<tr>\n",
       "  <th>Covariance Type:</th>      <td>nonrobust</td>    <th>                     </th>     <td> </td>   \n",
       "</tr>\n",
       "</table>\n",
       "<table class=\"simpletable\">\n",
       "<tr>\n",
       "           <td></td>              <th>coef</th>     <th>std err</th>      <th>t</th>      <th>P>|t|</th>  <th>[0.025</th>    <th>0.975]</th>  \n",
       "</tr>\n",
       "<tr>\n",
       "  <th>const</th>               <td>    7.8582</td> <td>    0.620</td> <td>   12.674</td> <td> 0.000</td> <td>    6.642</td> <td>    9.074</td>\n",
       "</tr>\n",
       "<tr>\n",
       "  <th>lot_frontage</th>        <td>    0.0003</td> <td>    0.000</td> <td>    1.579</td> <td> 0.115</td> <td>-7.37e-05</td> <td>    0.001</td>\n",
       "</tr>\n",
       "<tr>\n",
       "  <th>overall_qual</th>        <td>    0.0849</td> <td>    0.004</td> <td>   19.159</td> <td> 0.000</td> <td>    0.076</td> <td>    0.094</td>\n",
       "</tr>\n",
       "<tr>\n",
       "  <th>year_built</th>          <td>   -0.0003</td> <td>    0.000</td> <td>   -1.191</td> <td> 0.234</td> <td>   -0.001</td> <td>    0.000</td>\n",
       "</tr>\n",
       "<tr>\n",
       "  <th>year_remod/add</th>      <td>    0.0018</td> <td>    0.000</td> <td>    7.325</td> <td> 0.000</td> <td>    0.001</td> <td>    0.002</td>\n",
       "</tr>\n",
       "<tr>\n",
       "  <th>mas_vnr_area</th>        <td>-2.134e-05</td> <td> 2.41e-05</td> <td>   -0.885</td> <td> 0.376</td> <td>-6.86e-05</td> <td>  2.6e-05</td>\n",
       "</tr>\n",
       "<tr>\n",
       "  <th>bsmtfin_sf_1</th>        <td> 6.204e-05</td> <td> 1.09e-05</td> <td>    5.704</td> <td> 0.000</td> <td> 4.07e-05</td> <td> 8.34e-05</td>\n",
       "</tr>\n",
       "<tr>\n",
       "  <th>total_bsmt_sf</th>       <td> 5.868e-05</td> <td> 1.51e-05</td> <td>    3.891</td> <td> 0.000</td> <td> 2.91e-05</td> <td> 8.83e-05</td>\n",
       "</tr>\n",
       "<tr>\n",
       "  <th>1st_flr_sf</th>          <td>-3.812e-06</td> <td> 2.22e-05</td> <td>   -0.171</td> <td> 0.864</td> <td>-4.74e-05</td> <td> 3.98e-05</td>\n",
       "</tr>\n",
       "<tr>\n",
       "  <th>gr_liv_area</th>         <td>    0.0002</td> <td> 1.94e-05</td> <td>    9.074</td> <td> 0.000</td> <td>    0.000</td> <td>    0.000</td>\n",
       "</tr>\n",
       "<tr>\n",
       "  <th>full_bath</th>           <td>    0.0067</td> <td>    0.009</td> <td>    0.715</td> <td> 0.475</td> <td>   -0.012</td> <td>    0.025</td>\n",
       "</tr>\n",
       "<tr>\n",
       "  <th>totrms_abvgrd</th>       <td>    0.0075</td> <td>    0.004</td> <td>    1.871</td> <td> 0.061</td> <td>   -0.000</td> <td>    0.015</td>\n",
       "</tr>\n",
       "<tr>\n",
       "  <th>fireplaces</th>          <td>    0.0468</td> <td>    0.007</td> <td>    7.100</td> <td> 0.000</td> <td>    0.034</td> <td>    0.060</td>\n",
       "</tr>\n",
       "<tr>\n",
       "  <th>garage_cars</th>         <td>    0.0459</td> <td>    0.011</td> <td>    4.181</td> <td> 0.000</td> <td>    0.024</td> <td>    0.067</td>\n",
       "</tr>\n",
       "<tr>\n",
       "  <th>garage_area</th>         <td>  3.02e-05</td> <td> 3.84e-05</td> <td>    0.787</td> <td> 0.431</td> <td>-4.51e-05</td> <td>    0.000</td>\n",
       "</tr>\n",
       "<tr>\n",
       "  <th>wood_deck_sf</th>        <td> 8.274e-05</td> <td> 2.89e-05</td> <td>    2.863</td> <td> 0.004</td> <td> 2.61e-05</td> <td>    0.000</td>\n",
       "</tr>\n",
       "<tr>\n",
       "  <th>open_porch_sf</th>       <td> 1.451e-05</td> <td> 5.69e-05</td> <td>    0.255</td> <td> 0.799</td> <td>-9.71e-05</td> <td>    0.000</td>\n",
       "</tr>\n",
       "<tr>\n",
       "  <th>lot_regular</th>         <td>   -0.0234</td> <td>    0.008</td> <td>   -3.053</td> <td> 0.002</td> <td>   -0.038</td> <td>   -0.008</td>\n",
       "</tr>\n",
       "<tr>\n",
       "  <th>more_than_1story</th>    <td>   -0.0107</td> <td>    0.013</td> <td>   -0.837</td> <td> 0.403</td> <td>   -0.036</td> <td>    0.014</td>\n",
       "</tr>\n",
       "<tr>\n",
       "  <th>exter_ex</th>            <td>    0.0035</td> <td>    0.024</td> <td>    0.148</td> <td> 0.882</td> <td>   -0.043</td> <td>    0.050</td>\n",
       "</tr>\n",
       "<tr>\n",
       "  <th>foundation_PConc</th>    <td>    0.0028</td> <td>    0.011</td> <td>    0.249</td> <td> 0.804</td> <td>   -0.019</td> <td>    0.025</td>\n",
       "</tr>\n",
       "<tr>\n",
       "  <th>bsmt_ex</th>             <td>    0.0275</td> <td>    0.016</td> <td>    1.674</td> <td> 0.094</td> <td>   -0.005</td> <td>    0.060</td>\n",
       "</tr>\n",
       "<tr>\n",
       "  <th>has_bsmt_exposure</th>   <td>    0.0186</td> <td>    0.008</td> <td>    2.288</td> <td> 0.022</td> <td>    0.003</td> <td>    0.035</td>\n",
       "</tr>\n",
       "<tr>\n",
       "  <th>heating_ex</th>          <td>    0.0324</td> <td>    0.009</td> <td>    3.708</td> <td> 0.000</td> <td>    0.015</td> <td>    0.050</td>\n",
       "</tr>\n",
       "<tr>\n",
       "  <th>kitchen_ex</th>          <td>    0.0693</td> <td>    0.018</td> <td>    3.855</td> <td> 0.000</td> <td>    0.034</td> <td>    0.105</td>\n",
       "</tr>\n",
       "<tr>\n",
       "  <th>garage_finish_dum</th>   <td>    0.0083</td> <td>    0.009</td> <td>    0.943</td> <td> 0.346</td> <td>   -0.009</td> <td>    0.025</td>\n",
       "</tr>\n",
       "<tr>\n",
       "  <th>has_central_air</th>     <td>    0.1682</td> <td>    0.015</td> <td>   10.939</td> <td> 0.000</td> <td>    0.138</td> <td>    0.198</td>\n",
       "</tr>\n",
       "<tr>\n",
       "  <th>bsmtfin_type_GLQ</th>    <td>    0.0129</td> <td>    0.011</td> <td>    1.232</td> <td> 0.218</td> <td>   -0.008</td> <td>    0.034</td>\n",
       "</tr>\n",
       "<tr>\n",
       "  <th>neighborhood_code_2</th> <td>   -0.0597</td> <td>    0.011</td> <td>   -5.380</td> <td> 0.000</td> <td>   -0.081</td> <td>   -0.038</td>\n",
       "</tr>\n",
       "<tr>\n",
       "  <th>neighborhood_code_3</th> <td>   -0.1096</td> <td>    0.015</td> <td>   -7.485</td> <td> 0.000</td> <td>   -0.138</td> <td>   -0.081</td>\n",
       "</tr>\n",
       "<tr>\n",
       "  <th>neighborhood_code_4</th> <td>   -0.2154</td> <td>    0.018</td> <td>  -11.722</td> <td> 0.000</td> <td>   -0.251</td> <td>   -0.179</td>\n",
       "</tr>\n",
       "</table>\n",
       "<table class=\"simpletable\">\n",
       "<tr>\n",
       "  <th>Omnibus:</th>       <td>1755.824</td> <th>  Durbin-Watson:     </th>  <td>   1.988</td> \n",
       "</tr>\n",
       "<tr>\n",
       "  <th>Prob(Omnibus):</th>  <td> 0.000</td>  <th>  Jarque-Bera (JB):  </th> <td>136391.781</td>\n",
       "</tr>\n",
       "<tr>\n",
       "  <th>Skew:</th>           <td>-3.575</td>  <th>  Prob(JB):          </th>  <td>    0.00</td> \n",
       "</tr>\n",
       "<tr>\n",
       "  <th>Kurtosis:</th>       <td>42.305</td>  <th>  Cond. No.          </th>  <td>6.61e+05</td> \n",
       "</tr>\n",
       "</table><br/><br/>Notes:<br/>[1] Standard Errors assume that the covariance matrix of the errors is correctly specified.<br/>[2] The condition number is large, 6.61e+05. This might indicate that there are<br/>strong multicollinearity or other numerical problems."
      ],
      "text/plain": [
       "<class 'statsmodels.iolib.summary.Summary'>\n",
       "\"\"\"\n",
       "                            OLS Regression Results                            \n",
       "==============================================================================\n",
       "Dep. Variable:          log_saleprice   R-squared:                       0.861\n",
       "Model:                            OLS   Adj. R-squared:                  0.859\n",
       "Method:                 Least Squares   F-statistic:                     416.8\n",
       "Date:                Sat, 06 Mar 2021   Prob (F-statistic):               0.00\n",
       "Time:                        12:46:05   Log-Likelihood:                 935.43\n",
       "No. Observations:                2051   AIC:                            -1809.\n",
       "Df Residuals:                    2020   BIC:                            -1634.\n",
       "Df Model:                          30                                         \n",
       "Covariance Type:            nonrobust                                         \n",
       "=======================================================================================\n",
       "                          coef    std err          t      P>|t|      [0.025      0.975]\n",
       "---------------------------------------------------------------------------------------\n",
       "const                   7.8582      0.620     12.674      0.000       6.642       9.074\n",
       "lot_frontage            0.0003      0.000      1.579      0.115   -7.37e-05       0.001\n",
       "overall_qual            0.0849      0.004     19.159      0.000       0.076       0.094\n",
       "year_built             -0.0003      0.000     -1.191      0.234      -0.001       0.000\n",
       "year_remod/add          0.0018      0.000      7.325      0.000       0.001       0.002\n",
       "mas_vnr_area        -2.134e-05   2.41e-05     -0.885      0.376   -6.86e-05     2.6e-05\n",
       "bsmtfin_sf_1         6.204e-05   1.09e-05      5.704      0.000    4.07e-05    8.34e-05\n",
       "total_bsmt_sf        5.868e-05   1.51e-05      3.891      0.000    2.91e-05    8.83e-05\n",
       "1st_flr_sf          -3.812e-06   2.22e-05     -0.171      0.864   -4.74e-05    3.98e-05\n",
       "gr_liv_area             0.0002   1.94e-05      9.074      0.000       0.000       0.000\n",
       "full_bath               0.0067      0.009      0.715      0.475      -0.012       0.025\n",
       "totrms_abvgrd           0.0075      0.004      1.871      0.061      -0.000       0.015\n",
       "fireplaces              0.0468      0.007      7.100      0.000       0.034       0.060\n",
       "garage_cars             0.0459      0.011      4.181      0.000       0.024       0.067\n",
       "garage_area           3.02e-05   3.84e-05      0.787      0.431   -4.51e-05       0.000\n",
       "wood_deck_sf         8.274e-05   2.89e-05      2.863      0.004    2.61e-05       0.000\n",
       "open_porch_sf        1.451e-05   5.69e-05      0.255      0.799   -9.71e-05       0.000\n",
       "lot_regular            -0.0234      0.008     -3.053      0.002      -0.038      -0.008\n",
       "more_than_1story       -0.0107      0.013     -0.837      0.403      -0.036       0.014\n",
       "exter_ex                0.0035      0.024      0.148      0.882      -0.043       0.050\n",
       "foundation_PConc        0.0028      0.011      0.249      0.804      -0.019       0.025\n",
       "bsmt_ex                 0.0275      0.016      1.674      0.094      -0.005       0.060\n",
       "has_bsmt_exposure       0.0186      0.008      2.288      0.022       0.003       0.035\n",
       "heating_ex              0.0324      0.009      3.708      0.000       0.015       0.050\n",
       "kitchen_ex              0.0693      0.018      3.855      0.000       0.034       0.105\n",
       "garage_finish_dum       0.0083      0.009      0.943      0.346      -0.009       0.025\n",
       "has_central_air         0.1682      0.015     10.939      0.000       0.138       0.198\n",
       "bsmtfin_type_GLQ        0.0129      0.011      1.232      0.218      -0.008       0.034\n",
       "neighborhood_code_2    -0.0597      0.011     -5.380      0.000      -0.081      -0.038\n",
       "neighborhood_code_3    -0.1096      0.015     -7.485      0.000      -0.138      -0.081\n",
       "neighborhood_code_4    -0.2154      0.018    -11.722      0.000      -0.251      -0.179\n",
       "==============================================================================\n",
       "Omnibus:                     1755.824   Durbin-Watson:                   1.988\n",
       "Prob(Omnibus):                  0.000   Jarque-Bera (JB):           136391.781\n",
       "Skew:                          -3.575   Prob(JB):                         0.00\n",
       "Kurtosis:                      42.305   Cond. No.                     6.61e+05\n",
       "==============================================================================\n",
       "\n",
       "Notes:\n",
       "[1] Standard Errors assume that the covariance matrix of the errors is correctly specified.\n",
       "[2] The condition number is large, 6.61e+05. This might indicate that there are\n",
       "strong multicollinearity or other numerical problems.\n",
       "\"\"\""
      ]
     },
     "execution_count": 126,
     "metadata": {},
     "output_type": "execute_result"
    }
   ],
   "source": [
    "results.summary()"
   ]
  },
  {
   "cell_type": "markdown",
   "id": "built-paste",
   "metadata": {},
   "source": [
    "Interpretation: according to this model, keeping everything else constant: \n",
    "- one unit increase in 'lot_frontage' predicts a 0.00023405153299654486 increase in log home price. \n",
    "- one unit increase in 'overall_qual' predicts a 0.08153634153329425 increase in log home price.\n",
    "- one unit increase in 'year_built' predicts a 0.00039356760599383524 decreease in log home price. \n",
    "- one unit increase in 'year_remod/add' predicts a 0.001651973181117733 increase in log home price.\n",
    "- one unit increase in 'mas_vnr_area' predicts a 1.927394957484677e-05 decrease in log home price.\n",
    "- one unit increase in 'bsmtfin_sf_1' predicts a 5.680868108783392e-05 increase in log home price.\n",
    "- one unit increase in 'total_bsmt_sf' predicts a 4.59083809558648e-05 increase in log home price.\n",
    "- one unit increase in '1st_flr_sf' predicts a 2.3736916387243033e-07 increase in log home price.\n",
    "- one unit increase in 'gr_liv_area' predicts a 0.00015667105670134093 increase in log home price.\n",
    "- one unit increase in 'full_bath' predict a 0.011264260421729937 increase in log home price.\n",
    "- one unit increase in 'totrms_abvgrd' predicts a 0.009926626745281986 increase in log home price.\n",
    "- one unit increase in 'fireplaces' predicts a 0.05085725119585685 increase in log home price.\n",
    "- one unit increase in 'garage_cars' predicts a 0.04263162909301171 increase in log home price.\n",
    "- one unit increase in 'garage_area' predicts a 6.135466689437801e-05 increase in log home price.\n",
    "- one unit increase in 'wood_deck_sf' predicts a 8.782666697582263e-05 increase in log home price. \n",
    "- one unit increase in 'open_porch_sf' predicts a 2.884261742460033e-05 increase in log home price.\n",
    "- lot_regular' has a negative coefficient, indicating that if the lot shape is regular the log home price will decreases by -0.026310955864923876. \n",
    "- 'more_than_1story' has a negative coefficient, indicating that having two stories will decrease the log home price by 0.013085402652755023,\n",
    "- 'exter_ex' indicates that if \"the quality of the material on the exterior\" is evaluated as 'Excellent' the log home price will increase by 0.010752138169050504.\n",
    "- 'foundation_PConc' indicates that if the foundation is 'Poured Contrete', the log home price will increase by 0.0006615374649773173. \n",
    "- 'bsmt_ex' indicates that if the the height of the basement is evaluated as 'Excellent' the log home price will increase by 0.028623189118306937.\n",
    "- 'has_bsmt_exposure' indicates that if the basement can walkout or have garden level walls the log home price will increase by 0.015559079385094916. \n",
    "- 'heating_ex' indicates that if the heating quality is evaluated as 'Excellent', the log home price will increase by 0.03703786257153914. \n",
    "- 'kitchen_ex' indicates that in the kitchen quality is evaluated as 'Excellent' the log home price will increase by 0.06830067418194394.\n",
    "- 'garage_finish_dum' indicate that if the garage interior is finish, the log home price will increase by 0.01217203929280384. \n",
    "- 'has_central_air' indicates that if the home has central air, the log home price will increase by 0.16195792570918355,\n",
    "- 'bsmtfin_type_GLQ'indicates that if the basement has a rating of 'Good Living Quarters', the log home price will increase by 0.017893451532547497.\n",
    "- 'neighborhood_code_2' indicates that locating in one of the neighborhood in group 2 (or the 3rd quartile, see above dictionary), the log home price will decrease by 0.06672998370961587. \n",
    "- 'neighborhood_code_3' indicates that locating in one of the neighborhood in group 3 (or the 2nd quartile, see above dictionary), the log home price will decrease by 0.12715784323405668,\n",
    "- 'neighborhood_code_4': ndicates that locating in one of the neighborhood in group 4 (or the 1st quartile, see above dictionary), the log home price will decrease by 0.22629583620466487."
   ]
  }
 ],
 "metadata": {
  "kernelspec": {
   "display_name": "Python 3",
   "language": "python",
   "name": "python3"
  },
  "language_info": {
   "codemirror_mode": {
    "name": "ipython",
    "version": 3
   },
   "file_extension": ".py",
   "mimetype": "text/x-python",
   "name": "python",
   "nbconvert_exporter": "python",
   "pygments_lexer": "ipython3",
   "version": "3.8.5"
  }
 },
 "nbformat": 4,
 "nbformat_minor": 5
}
