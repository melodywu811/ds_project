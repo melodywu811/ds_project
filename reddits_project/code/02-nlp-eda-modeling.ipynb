{
 "cells": [
  {
   "cell_type": "markdown",
   "id": "employed-cholesterol",
   "metadata": {},
   "source": [
    "# Project 3: Analyzing Subreddits with NLP and Classifiers\n",
    "**Submitted by: Melody Wu**  \n",
    "**March 5, 2021**\n",
    "\n",
    "## Notebook 02"
   ]
  },
  {
   "cell_type": "markdown",
   "id": "peripheral-mouse",
   "metadata": {},
   "source": [
    "## NLP EDA and Modeling"
   ]
  },
  {
   "cell_type": "markdown",
   "id": "successful-navigation",
   "metadata": {},
   "source": [
    "### Import libraries"
   ]
  },
  {
   "cell_type": "code",
   "execution_count": 1,
   "id": "hybrid-musician",
   "metadata": {},
   "outputs": [],
   "source": [
    "# the basics\n",
    "import pandas as pd\n",
    "import numpy as np\n",
    "import matplotlib.pyplot as plt\n",
    "import seaborn as sns\n",
    "\n",
    "# import preprocessing and modeling\n",
    "from sklearn.preprocessing import StandardScaler\n",
    "from sklearn.pipeline import Pipeline\n",
    "from sklearn.linear_model import LogisticRegression, LogisticRegressionCV\n",
    "from sklearn.naive_bayes import MultinomialNB\n",
    "from sklearn.model_selection import train_test_split, cross_val_score\n",
    "from sklearn.feature_extraction.text import CountVectorizer, TfidfVectorizer\n",
    "\n",
    "# immport metrics\n",
    "from sklearn.metrics import confusion_matrix, plot_confusion_matrix"
   ]
  },
  {
   "cell_type": "code",
   "execution_count": 21,
   "id": "functional-pencil",
   "metadata": {},
   "outputs": [],
   "source": [
    "pd.options.display.max_colwidth = 350"
   ]
  },
  {
   "cell_type": "markdown",
   "id": "isolated-boston",
   "metadata": {},
   "source": [
    "### NPL EDA"
   ]
  },
  {
   "cell_type": "markdown",
   "id": "exempt-crawford",
   "metadata": {},
   "source": [
    "#### Import Data"
   ]
  },
  {
   "cell_type": "code",
   "execution_count": 22,
   "id": "focal-fence",
   "metadata": {},
   "outputs": [
    {
     "name": "stdout",
     "output_type": "stream",
     "text": [
      "There are 2000 rows and 2 columns in this DataFrame.\n"
     ]
    },
    {
     "data": {
      "text/html": [
       "<div>\n",
       "<style scoped>\n",
       "    .dataframe tbody tr th:only-of-type {\n",
       "        vertical-align: middle;\n",
       "    }\n",
       "\n",
       "    .dataframe tbody tr th {\n",
       "        vertical-align: top;\n",
       "    }\n",
       "\n",
       "    .dataframe thead th {\n",
       "        text-align: right;\n",
       "    }\n",
       "</style>\n",
       "<table border=\"1\" class=\"dataframe\">\n",
       "  <thead>\n",
       "    <tr style=\"text-align: right;\">\n",
       "      <th></th>\n",
       "      <th>title</th>\n",
       "      <th>subreddit</th>\n",
       "    </tr>\n",
       "  </thead>\n",
       "  <tbody>\n",
       "    <tr>\n",
       "      <th>0</th>\n",
       "      <td>55 and retiring - income</td>\n",
       "      <td>FinancialPlanning</td>\n",
       "    </tr>\n",
       "    <tr>\n",
       "      <th>1</th>\n",
       "      <td>Do I need a new CPA to do my taxes?</td>\n",
       "      <td>FinancialPlanning</td>\n",
       "    </tr>\n",
       "    <tr>\n",
       "      <th>2</th>\n",
       "      <td>Which subscription service is best for me?</td>\n",
       "      <td>FinancialPlanning</td>\n",
       "    </tr>\n",
       "    <tr>\n",
       "      <th>3</th>\n",
       "      <td>Should my girlfriend and I stay in our current apartment or find a cheaper one?</td>\n",
       "      <td>FinancialPlanning</td>\n",
       "    </tr>\n",
       "    <tr>\n",
       "      <th>4</th>\n",
       "      <td>Financial Planing Graphs and Charts Ideas</td>\n",
       "      <td>FinancialPlanning</td>\n",
       "    </tr>\n",
       "  </tbody>\n",
       "</table>\n",
       "</div>"
      ],
      "text/plain": [
       "                                                                             title  \\\n",
       "0                                                         55 and retiring - income   \n",
       "1                                              Do I need a new CPA to do my taxes?   \n",
       "2                                       Which subscription service is best for me?   \n",
       "3  Should my girlfriend and I stay in our current apartment or find a cheaper one?   \n",
       "4                                        Financial Planing Graphs and Charts Ideas   \n",
       "\n",
       "           subreddit  \n",
       "0  FinancialPlanning  \n",
       "1  FinancialPlanning  \n",
       "2  FinancialPlanning  \n",
       "3  FinancialPlanning  \n",
       "4  FinancialPlanning  "
      ]
     },
     "execution_count": 22,
     "metadata": {},
     "output_type": "execute_result"
    }
   ],
   "source": [
    "# r/FinancialPlanning\n",
    "finplan_path = '../data/fin_plan_titles.csv'\n",
    "finplan = pd.read_csv(finplan_path)\n",
    "# check Dataframe\n",
    "print(f'There are {finplan.shape[0]} rows and {finplan.shape[1]} columns in this DataFrame.')\n",
    "finplan.head()"
   ]
  },
  {
   "cell_type": "code",
   "execution_count": 5,
   "id": "spare-capability",
   "metadata": {},
   "outputs": [
    {
     "name": "stdout",
     "output_type": "stream",
     "text": [
      "There are 2000 rows and 2 columns in this DataFrame.\n"
     ]
    },
    {
     "data": {
      "text/html": [
       "<div>\n",
       "<style scoped>\n",
       "    .dataframe tbody tr th:only-of-type {\n",
       "        vertical-align: middle;\n",
       "    }\n",
       "\n",
       "    .dataframe tbody tr th {\n",
       "        vertical-align: top;\n",
       "    }\n",
       "\n",
       "    .dataframe thead th {\n",
       "        text-align: right;\n",
       "    }\n",
       "</style>\n",
       "<table border=\"1\" class=\"dataframe\">\n",
       "  <thead>\n",
       "    <tr style=\"text-align: right;\">\n",
       "      <th></th>\n",
       "      <th>title</th>\n",
       "      <th>subreddit</th>\n",
       "    </tr>\n",
       "  </thead>\n",
       "  <tbody>\n",
       "    <tr>\n",
       "      <th>0</th>\n",
       "      <td>Outlook for renewables with lower treasury yie...</td>\n",
       "      <td>stocks</td>\n",
       "    </tr>\n",
       "    <tr>\n",
       "      <th>1</th>\n",
       "      <td>S&amp;amp;P 500 vs. Tech Stocks</td>\n",
       "      <td>stocks</td>\n",
       "    </tr>\n",
       "    <tr>\n",
       "      <th>2</th>\n",
       "      <td>Ira inheritance</td>\n",
       "      <td>stocks</td>\n",
       "    </tr>\n",
       "    <tr>\n",
       "      <th>3</th>\n",
       "      <td>Is $AMC still a hold?</td>\n",
       "      <td>stocks</td>\n",
       "    </tr>\n",
       "    <tr>\n",
       "      <th>4</th>\n",
       "      <td>What percent of individual investors do you gu...</td>\n",
       "      <td>stocks</td>\n",
       "    </tr>\n",
       "  </tbody>\n",
       "</table>\n",
       "</div>"
      ],
      "text/plain": [
       "                                               title subreddit\n",
       "0  Outlook for renewables with lower treasury yie...    stocks\n",
       "1                        S&amp;P 500 vs. Tech Stocks    stocks\n",
       "2                                    Ira inheritance    stocks\n",
       "3                              Is $AMC still a hold?    stocks\n",
       "4  What percent of individual investors do you gu...    stocks"
      ]
     },
     "execution_count": 5,
     "metadata": {},
     "output_type": "execute_result"
    }
   ],
   "source": [
    "# r/stocks\n",
    "stocks_path = '../data/stocks_titles.csv'\n",
    "stocks = pd.read_csv(stocks_path)\n",
    "# check Dataframe\n",
    "print(f'There are {stocks.shape[0]} rows and {stocks.shape[1]} columns in this DataFrame.')\n",
    "stocks.head()"
   ]
  },
  {
   "cell_type": "code",
   "execution_count": 6,
   "id": "smooth-cliff",
   "metadata": {},
   "outputs": [
    {
     "name": "stdout",
     "output_type": "stream",
     "text": [
      "There are 4000 rows and 2 columns in this DataFrame.\n"
     ]
    }
   ],
   "source": [
    "# concat the two DataFrame into one \n",
    "subreddit = pd.concat([finplan, stocks], axis=0, ignore_index=True)\n",
    "print(f'There are {subreddit.shape[0]} rows and {subreddit.shape[1]} columns in this DataFrame.')"
   ]
  },
  {
   "cell_type": "code",
   "execution_count": 7,
   "id": "norman-liabilities",
   "metadata": {},
   "outputs": [
    {
     "data": {
      "text/plain": [
       "stocks               0.5\n",
       "FinancialPlanning    0.5\n",
       "Name: subreddit, dtype: float64"
      ]
     },
     "execution_count": 7,
     "metadata": {},
     "output_type": "execute_result"
    }
   ],
   "source": [
    "# Check sample balance\n",
    "subreddit['subreddit'].value_counts(normalize=True)"
   ]
  },
  {
   "cell_type": "code",
   "execution_count": 8,
   "id": "powerful-desktop",
   "metadata": {},
   "outputs": [
    {
     "data": {
      "text/plain": [
       "title        0\n",
       "subreddit    0\n",
       "dtype: int64"
      ]
     },
     "execution_count": 8,
     "metadata": {},
     "output_type": "execute_result"
    }
   ],
   "source": [
    "# Check null values\n",
    "subreddit.isnull().sum()"
   ]
  },
  {
   "cell_type": "markdown",
   "id": "equivalent-demonstration",
   "metadata": {},
   "source": [
    "#### Set up X, y and train/test split"
   ]
  },
  {
   "cell_type": "code",
   "execution_count": 30,
   "id": "cheap-prize",
   "metadata": {},
   "outputs": [],
   "source": [
    "X = subreddit['title']\n",
    "y = subreddit['subreddit']"
   ]
  },
  {
   "cell_type": "code",
   "execution_count": 31,
   "id": "swiss-mount",
   "metadata": {},
   "outputs": [],
   "source": [
    "X_train, X_test, y_train, y_test = train_test_split(X, y, random_state=42, stratify=y)\n",
    "# Since we have a balanced dataset, no need to stratify."
   ]
  },
  {
   "cell_type": "markdown",
   "id": "minute-moore",
   "metadata": {},
   "source": [
    "#### Pre-processing and EDA with `CountVectorizer`"
   ]
  },
  {
   "cell_type": "code",
   "execution_count": 35,
   "id": "artificial-validity",
   "metadata": {},
   "outputs": [
    {
     "data": {
      "text/html": [
       "<div>\n",
       "<style scoped>\n",
       "    .dataframe tbody tr th:only-of-type {\n",
       "        vertical-align: middle;\n",
       "    }\n",
       "\n",
       "    .dataframe tbody tr th {\n",
       "        vertical-align: top;\n",
       "    }\n",
       "\n",
       "    .dataframe thead th {\n",
       "        text-align: right;\n",
       "    }\n",
       "</style>\n",
       "<table border=\"1\" class=\"dataframe\">\n",
       "  <thead>\n",
       "    <tr style=\"text-align: right;\">\n",
       "      <th></th>\n",
       "      <th>000</th>\n",
       "      <th>000 000</th>\n",
       "      <th>000 120k</th>\n",
       "      <th>000 18</th>\n",
       "      <th>000 accidentally</th>\n",
       "      <th>000 bank</th>\n",
       "      <th>000 cad</th>\n",
       "      <th>000 debt</th>\n",
       "      <th>000 dollars</th>\n",
       "      <th>000 easy</th>\n",
       "      <th>...</th>\n",
       "      <th>لعدم</th>\n",
       "      <th>لعدم كونك</th>\n",
       "      <th>للقتال</th>\n",
       "      <th>محترف</th>\n",
       "      <th>محترف ومستعد</th>\n",
       "      <th>ومستعد</th>\n",
       "      <th>ومستعد للقتال</th>\n",
       "      <th>يكشف</th>\n",
       "      <th>يكشف hicham</th>\n",
       "      <th>subreddit_label</th>\n",
       "    </tr>\n",
       "  </thead>\n",
       "  <tbody>\n",
       "    <tr>\n",
       "      <th>0</th>\n",
       "      <td>0</td>\n",
       "      <td>0</td>\n",
       "      <td>0</td>\n",
       "      <td>0</td>\n",
       "      <td>0</td>\n",
       "      <td>0</td>\n",
       "      <td>0</td>\n",
       "      <td>0</td>\n",
       "      <td>0</td>\n",
       "      <td>0</td>\n",
       "      <td>...</td>\n",
       "      <td>0</td>\n",
       "      <td>0</td>\n",
       "      <td>0</td>\n",
       "      <td>0</td>\n",
       "      <td>0</td>\n",
       "      <td>0</td>\n",
       "      <td>0</td>\n",
       "      <td>0</td>\n",
       "      <td>0</td>\n",
       "      <td>FinancialPlanning</td>\n",
       "    </tr>\n",
       "    <tr>\n",
       "      <th>1</th>\n",
       "      <td>0</td>\n",
       "      <td>0</td>\n",
       "      <td>0</td>\n",
       "      <td>0</td>\n",
       "      <td>0</td>\n",
       "      <td>0</td>\n",
       "      <td>0</td>\n",
       "      <td>0</td>\n",
       "      <td>0</td>\n",
       "      <td>0</td>\n",
       "      <td>...</td>\n",
       "      <td>0</td>\n",
       "      <td>0</td>\n",
       "      <td>0</td>\n",
       "      <td>0</td>\n",
       "      <td>0</td>\n",
       "      <td>0</td>\n",
       "      <td>0</td>\n",
       "      <td>0</td>\n",
       "      <td>0</td>\n",
       "      <td>FinancialPlanning</td>\n",
       "    </tr>\n",
       "    <tr>\n",
       "      <th>2</th>\n",
       "      <td>0</td>\n",
       "      <td>0</td>\n",
       "      <td>0</td>\n",
       "      <td>0</td>\n",
       "      <td>0</td>\n",
       "      <td>0</td>\n",
       "      <td>0</td>\n",
       "      <td>0</td>\n",
       "      <td>0</td>\n",
       "      <td>0</td>\n",
       "      <td>...</td>\n",
       "      <td>0</td>\n",
       "      <td>0</td>\n",
       "      <td>0</td>\n",
       "      <td>0</td>\n",
       "      <td>0</td>\n",
       "      <td>0</td>\n",
       "      <td>0</td>\n",
       "      <td>0</td>\n",
       "      <td>0</td>\n",
       "      <td>stocks</td>\n",
       "    </tr>\n",
       "    <tr>\n",
       "      <th>3</th>\n",
       "      <td>0</td>\n",
       "      <td>0</td>\n",
       "      <td>0</td>\n",
       "      <td>0</td>\n",
       "      <td>0</td>\n",
       "      <td>0</td>\n",
       "      <td>0</td>\n",
       "      <td>0</td>\n",
       "      <td>0</td>\n",
       "      <td>0</td>\n",
       "      <td>...</td>\n",
       "      <td>0</td>\n",
       "      <td>0</td>\n",
       "      <td>0</td>\n",
       "      <td>0</td>\n",
       "      <td>0</td>\n",
       "      <td>0</td>\n",
       "      <td>0</td>\n",
       "      <td>0</td>\n",
       "      <td>0</td>\n",
       "      <td>stocks</td>\n",
       "    </tr>\n",
       "    <tr>\n",
       "      <th>4</th>\n",
       "      <td>0</td>\n",
       "      <td>0</td>\n",
       "      <td>0</td>\n",
       "      <td>0</td>\n",
       "      <td>0</td>\n",
       "      <td>0</td>\n",
       "      <td>0</td>\n",
       "      <td>0</td>\n",
       "      <td>0</td>\n",
       "      <td>0</td>\n",
       "      <td>...</td>\n",
       "      <td>0</td>\n",
       "      <td>0</td>\n",
       "      <td>0</td>\n",
       "      <td>0</td>\n",
       "      <td>0</td>\n",
       "      <td>0</td>\n",
       "      <td>0</td>\n",
       "      <td>0</td>\n",
       "      <td>0</td>\n",
       "      <td>stocks</td>\n",
       "    </tr>\n",
       "  </tbody>\n",
       "</table>\n",
       "<p>5 rows × 14502 columns</p>\n",
       "</div>"
      ],
      "text/plain": [
       "   000  000 000  000 120k  000 18  000 accidentally  000 bank  000 cad  \\\n",
       "0    0        0         0       0                 0         0        0   \n",
       "1    0        0         0       0                 0         0        0   \n",
       "2    0        0         0       0                 0         0        0   \n",
       "3    0        0         0       0                 0         0        0   \n",
       "4    0        0         0       0                 0         0        0   \n",
       "\n",
       "   000 debt  000 dollars  000 easy  ...  لعدم  لعدم كونك  للقتال  محترف  \\\n",
       "0         0            0         0  ...     0          0       0      0   \n",
       "1         0            0         0  ...     0          0       0      0   \n",
       "2         0            0         0  ...     0          0       0      0   \n",
       "3         0            0         0  ...     0          0       0      0   \n",
       "4         0            0         0  ...     0          0       0      0   \n",
       "\n",
       "   محترف ومستعد  ومستعد  ومستعد للقتال  يكشف  يكشف hicham    subreddit_label  \n",
       "0             0       0              0     0            0  FinancialPlanning  \n",
       "1             0       0              0     0            0  FinancialPlanning  \n",
       "2             0       0              0     0            0             stocks  \n",
       "3             0       0              0     0            0             stocks  \n",
       "4             0       0              0     0            0             stocks  \n",
       "\n",
       "[5 rows x 14502 columns]"
      ]
     },
     "execution_count": 35,
     "metadata": {},
     "output_type": "execute_result"
    }
   ],
   "source": [
    "# instantiate a CountVectorizer with the default hyperparameters.\n",
    "cvec = CountVectorizer(ngram_range=(1,2), stop_words='english')\n",
    "\n",
    "# fit the CountVectorizer transformer to X_train and transform X_train \n",
    "cvec.fit(X_train)\n",
    "cvec_text = cvec.transform(X_train)\n",
    "\n",
    "# create a dataframe with the CountVectorized X_train\n",
    "cvec_text_df = pd.DataFrame(cvec_text.todense(), columns=cvec.get_feature_names())\n",
    "\n",
    "# add the subreddit_label column to the DataFrame\n",
    "cvec_text_df['subreddit_label'] = y_train.values\n",
    "\n",
    "cvec_text_df.head()"
   ]
  },
  {
   "cell_type": "markdown",
   "id": "boxed-amateur",
   "metadata": {},
   "source": [
    "#### Top Occuring words in r/debtfree subreddit"
   ]
  },
  {
   "cell_type": "code",
   "execution_count": 36,
   "id": "particular-compilation",
   "metadata": {},
   "outputs": [
    {
     "data": {
      "image/png": "[encoded data removed]",
      "text/plain": [
       "<Figure size 432x432 with 1 Axes>"
      ]
     },
     "metadata": {
      "needs_background": "light"
     },
     "output_type": "display_data"
    }
   ],
   "source": [
    "# create a sub DataFrame\n",
    "cvec_finplan_df = cvec_text_df[cvec_text_df['subreddit_label'] == 'FinancialPlanning'].drop(columns=['subreddit_label'])\n",
    "\n",
    "# plot top occuring words\n",
    "plt.figure(figsize=(6,6))\n",
    "plt.title('Top 20 most occuring words in r/FinancialPlanning subreddit, excluding stopwords')\n",
    "plt.xlabel('Word counts')\n",
    "plt.ylabel('/FinancialPlanning Word')\n",
    "cvec_finplan_df.sum().sort_values(ascending=False).head(20).plot(kind='barh');"
   ]
  },
  {
   "cell_type": "code",
   "execution_count": null,
   "id": "proof-transcript",
   "metadata": {},
   "outputs": [],
   "source": []
  },
  {
   "cell_type": "code",
   "execution_count": 37,
   "id": "textile-franchise",
   "metadata": {},
   "outputs": [
    {
     "data": {
      "image/png": "[encoded data removed]",
      "text/plain": [
       "<Figure size 432x432 with 1 Axes>"
      ]
     },
     "metadata": {
      "needs_background": "light"
     },
     "output_type": "display_data"
    }
   ],
   "source": [
    "# create a sub DataFrame\n",
    "cvec_stocks_df = cvec_text_df[cvec_text_df['subreddit_label'] == 'stocks'].drop(columns=['subreddit_label'])\n",
    "\n",
    "# plot top occuring words\n",
    "plt.figure(figsize=(6,6))\n",
    "plt.title('Top 20 most occuring words in r/stocks subreddit, excluding stopwords')\n",
    "plt.xlabel('Word counts')\n",
    "plt.ylabel('r/stocks Word')\n",
    "cvec_stocks_df.sum().sort_values(ascending=False).head(20).plot(kind='barh');"
   ]
  },
  {
   "cell_type": "markdown",
   "id": "several-framing",
   "metadata": {},
   "source": [
    "***stopwords***   \n"
   ]
  },
  {
   "cell_type": "code",
   "execution_count": 38,
   "id": "surprising-baker",
   "metadata": {},
   "outputs": [],
   "source": [
    "from sklearn.feature_extraction import text \n",
    "\n",
    "# add 'debt' to the stop_words\n",
    "my_stop_words = text.ENGLISH_STOP_WORDS.union(['financial','stock', 'stocks'])\n",
    "\n",
    "# reference:https://stackoverflow.com/questions/26826002/adding-words-to-stop-words-list-in-tfidfvectorizer-in-sklearn"
   ]
  },
  {
   "cell_type": "code",
   "execution_count": 40,
   "id": "sorted-equipment",
   "metadata": {},
   "outputs": [],
   "source": [
    "cvec = CountVectorizer(ngram_range=(1,2), stop_words=my_stop_words)\n",
    "\n",
    "# fit the CountVectorizer transformer to X_train and transform X_train \n",
    "cvec.fit(X_train)\n",
    "cvec_text = cvec.transform(X_train)\n",
    "\n",
    "# create a dataframe with the CountVectorized X_train\n",
    "cvec_text_df = pd.DataFrame(cvec_text.todense(), columns=cvec.get_feature_names())\n",
    "\n",
    "# add the subreddit_label column to the DataFrame\n",
    "cvec_text_df['subreddit_label'] = y_train.values"
   ]
  },
  {
   "cell_type": "code",
   "execution_count": 41,
   "id": "divided-insurance",
   "metadata": {},
   "outputs": [
    {
     "data": {
      "image/png": "[encoded data removed]",
      "text/plain": [
       "<Figure size 432x432 with 1 Axes>"
      ]
     },
     "metadata": {
      "needs_background": "light"
     },
     "output_type": "display_data"
    }
   ],
   "source": [
    "# create a sub DataFrame\n",
    "cvec_finplan_df = cvec_text_df[cvec_text_df['subreddit_label'] == 'FinancialPlanning'].drop(columns=['subreddit_label'])\n",
    "\n",
    "# plot top occuring words\n",
    "plt.figure(figsize=(6,6))\n",
    "plt.title('Top 20 most occuring words in r/FinancialPlanning subreddit, excluding stopwords')\n",
    "plt.xlabel('Word counts')\n",
    "plt.ylabel('/FinancialPlanning Word')\n",
    "cvec_finplan_df.sum().sort_values(ascending=False).head(20).plot(kind='barh');"
   ]
  },
  {
   "cell_type": "markdown",
   "id": "unsigned-interface",
   "metadata": {},
   "source": [
    "#### Top Occuring words in r/investing subreddit"
   ]
  },
  {
   "cell_type": "code",
   "execution_count": 44,
   "id": "posted-border",
   "metadata": {},
   "outputs": [
    {
     "data": {
      "image/png": "[encoded data removed]",
      "text/plain": [
       "<Figure size 432x432 with 1 Axes>"
      ]
     },
     "metadata": {
      "needs_background": "light"
     },
     "output_type": "display_data"
    }
   ],
   "source": [
    "# create a sub DataFrame\n",
    "cvec_stocks_df = cvec_text_df[cvec_text_df['subreddit_label'] == 'stocks'].drop(columns=['subreddit_label'])\n",
    "\n",
    "# plot top occuring words\n",
    "plt.figure(figsize=(6,6))\n",
    "plt.title('Top 20 most occuring words in r/stocks subreddit, excluding stopwords')\n",
    "plt.xlabel('Word counts')\n",
    "plt.ylabel('r/stocks Word')\n",
    "cvec_stocks_df.sum().sort_values(ascending=False).head(20).plot(kind='barh', color='orange');"
   ]
  },
  {
   "cell_type": "markdown",
   "id": "applied-bryan",
   "metadata": {},
   "source": [
    "### Using Pipeline to compare models with different Vectorizers and Models."
   ]
  },
  {
   "cell_type": "markdown",
   "id": "stupid-purchase",
   "metadata": {},
   "source": [
    "#### Model 1: CountVectorizer + Logistic Regression"
   ]
  },
  {
   "cell_type": "code",
   "execution_count": 63,
   "id": "southeast-texture",
   "metadata": {},
   "outputs": [
    {
     "data": {
      "text/plain": [
       "(0.981, 0.842)"
      ]
     },
     "execution_count": 63,
     "metadata": {},
     "output_type": "execute_result"
    }
   ],
   "source": [
    "pipe = Pipeline([\n",
    "    ('cv', CountVectorizer()),\n",
    "    ('lr', LogisticRegressionCV(solver='liblinear'))\n",
    "])\n",
    "\n",
    "pipe.fit(X_train, y_train)\n",
    "pipe.score(X_train, y_train), pipe.score(X_test, y_test)"
   ]
  },
  {
   "cell_type": "markdown",
   "id": "specified-coast",
   "metadata": {},
   "source": [
    "#### Model 2: TF-IDF Vectorizer + Logistic Regression"
   ]
  },
  {
   "cell_type": "code",
   "execution_count": 64,
   "id": "union-pioneer",
   "metadata": {},
   "outputs": [
    {
     "data": {
      "text/plain": [
       "(0.956, 0.854)"
      ]
     },
     "execution_count": 64,
     "metadata": {},
     "output_type": "execute_result"
    }
   ],
   "source": [
    "pipe = Pipeline([\n",
    "    ('cv', TfidfVectorizer()),\n",
    "    ('lr', LogisticRegressionCV(solver='liblinear'))\n",
    "])\n",
    "\n",
    "pipe.fit(X_train, y_train)\n",
    "pipe.score(X_train, y_train), pipe.score(X_test, y_test)"
   ]
  },
  {
   "cell_type": "markdown",
   "id": "extreme-geneva",
   "metadata": {},
   "source": [
    "#### Model 3: CountVectorizer + Multinomial naive bayes"
   ]
  },
  {
   "cell_type": "code",
   "execution_count": 65,
   "id": "pressed-consolidation",
   "metadata": {},
   "outputs": [
    {
     "data": {
      "text/plain": [
       "(0.9346666666666666, 0.848)"
      ]
     },
     "execution_count": 65,
     "metadata": {},
     "output_type": "execute_result"
    }
   ],
   "source": [
    "pipe = Pipeline([\n",
    "    ('cv', CountVectorizer()),\n",
    "    ('mnb', MultinomialNB())\n",
    "])\n",
    "\n",
    "pipe.fit(X_train, y_train)\n",
    "pipe.score(X_train, y_train), pipe.score(X_test, y_test)"
   ]
  },
  {
   "cell_type": "markdown",
   "id": "graduate-trustee",
   "metadata": {},
   "source": [
    "#### Model 4: TF-IDF Vectorizer + Multinomial naive bayes"
   ]
  },
  {
   "cell_type": "code",
   "execution_count": 66,
   "id": "blind-statement",
   "metadata": {},
   "outputs": [
    {
     "data": {
      "text/plain": [
       "(0.938, 0.831)"
      ]
     },
     "execution_count": 66,
     "metadata": {},
     "output_type": "execute_result"
    }
   ],
   "source": [
    "pipe = Pipeline([\n",
    "    ('tf', TfidfVectorizer()),\n",
    "    ('mnb', MultinomialNB())\n",
    "])\n",
    "\n",
    "pipe.fit(X_train, y_train)\n",
    "pipe.score(X_train, y_train), pipe.score(X_test, y_test)"
   ]
  },
  {
   "cell_type": "markdown",
   "id": "effective-algeria",
   "metadata": {},
   "source": [
    "#### Model 5: CountVectorizer + DecisionTree"
   ]
  },
  {
   "cell_type": "code",
   "execution_count": 67,
   "id": "typical-ontario",
   "metadata": {},
   "outputs": [],
   "source": [
    "from sklearn.tree import export_text, DecisionTreeClassifier, plot_tree"
   ]
  },
  {
   "cell_type": "code",
   "execution_count": 68,
   "id": "abstract-accessory",
   "metadata": {},
   "outputs": [
    {
     "data": {
      "text/plain": [
       "(0.687, 0.68)"
      ]
     },
     "execution_count": 68,
     "metadata": {},
     "output_type": "execute_result"
    }
   ],
   "source": [
    "pipe = Pipeline([\n",
    "    ('cv', CountVectorizer()),\n",
    "    ('dtc', DecisionTreeClassifier(max_depth=10, random_state=42))\n",
    "])\n",
    "\n",
    "pipe.fit(X_train, y_train)\n",
    "pipe.score(X_train, y_train), pipe.score(X_test, y_test)"
   ]
  },
  {
   "cell_type": "markdown",
   "id": "discrete-bumper",
   "metadata": {},
   "source": [
    "#### Model 6: TF-IDF Vectorizer + DecisionTree"
   ]
  },
  {
   "cell_type": "code",
   "execution_count": 69,
   "id": "adaptive-emergency",
   "metadata": {},
   "outputs": [
    {
     "data": {
      "text/plain": [
       "(0.689, 0.675)"
      ]
     },
     "execution_count": 69,
     "metadata": {},
     "output_type": "execute_result"
    }
   ],
   "source": [
    "pipe = Pipeline([\n",
    "    ('tf', TfidfVectorizer()),\n",
    "    ('dtc', DecisionTreeClassifier(max_depth=10, random_state=42))\n",
    "])\n",
    "\n",
    "pipe.fit(X_train, y_train)\n",
    "pipe.score(X_train, y_train), pipe.score(X_test, y_test)"
   ]
  },
  {
   "cell_type": "markdown",
   "id": "improving-objective",
   "metadata": {},
   "source": [
    "#### Model 7: CountVectorizer + RandomForest"
   ]
  },
  {
   "cell_type": "code",
   "execution_count": 70,
   "id": "bridal-salon",
   "metadata": {},
   "outputs": [],
   "source": [
    "from sklearn.ensemble import RandomForestClassifier "
   ]
  },
  {
   "cell_type": "code",
   "execution_count": 71,
   "id": "indie-captain",
   "metadata": {},
   "outputs": [
    {
     "data": {
      "text/plain": [
       "(0.999, 0.834)"
      ]
     },
     "execution_count": 71,
     "metadata": {},
     "output_type": "execute_result"
    }
   ],
   "source": [
    "pipe = Pipeline([\n",
    "    ('cv', CountVectorizer()),\n",
    "    ('rfc', RandomForestClassifier(random_state=42))\n",
    "])\n",
    "\n",
    "pipe.fit(X_train, y_train)\n",
    "pipe.score(X_train, y_train), pipe.score(X_test, y_test)"
   ]
  },
  {
   "cell_type": "markdown",
   "id": "comprehensive-capacity",
   "metadata": {},
   "source": [
    "#### Model 8: TF-IDF Vectorizer + RandomForest"
   ]
  },
  {
   "cell_type": "code",
   "execution_count": 72,
   "id": "consolidated-county",
   "metadata": {},
   "outputs": [
    {
     "data": {
      "text/plain": [
       "(0.999, 0.809)"
      ]
     },
     "execution_count": 72,
     "metadata": {},
     "output_type": "execute_result"
    }
   ],
   "source": [
    "pipe = Pipeline([\n",
    "    ('tf', TfidfVectorizer()),\n",
    "    ('rfc', RandomForestClassifier(random_state=42))\n",
    "])\n",
    "\n",
    "pipe.fit(X_train, y_train)\n",
    "pipe.score(X_train, y_train), pipe.score(X_test, y_test)"
   ]
  },
  {
   "cell_type": "markdown",
   "id": "functional-martial",
   "metadata": {},
   "source": [
    "#### Model 9: CountVectorizer + AdaBoost"
   ]
  },
  {
   "cell_type": "code",
   "execution_count": 73,
   "id": "visible-buddy",
   "metadata": {},
   "outputs": [],
   "source": [
    "from sklearn.ensemble import AdaBoostClassifier"
   ]
  },
  {
   "cell_type": "code",
   "execution_count": 74,
   "id": "posted-reconstruction",
   "metadata": {},
   "outputs": [
    {
     "data": {
      "text/plain": [
       "(0.781, 0.762)"
      ]
     },
     "execution_count": 74,
     "metadata": {},
     "output_type": "execute_result"
    }
   ],
   "source": [
    "pipe = Pipeline([\n",
    "    ('cv', CountVectorizer()),\n",
    "    ('abc', AdaBoostClassifier(random_state=42))\n",
    "])\n",
    "\n",
    "pipe.fit(X_train, y_train)\n",
    "pipe.score(X_train, y_train), pipe.score(X_test, y_test)"
   ]
  },
  {
   "cell_type": "markdown",
   "id": "prompt-vitamin",
   "metadata": {},
   "source": [
    "#### Model 10: TF-IDF Vectorizer + AdaBoost"
   ]
  },
  {
   "cell_type": "code",
   "execution_count": 75,
   "id": "assured-healing",
   "metadata": {},
   "outputs": [
    {
     "data": {
      "text/plain": [
       "(0.782, 0.773)"
      ]
     },
     "execution_count": 75,
     "metadata": {},
     "output_type": "execute_result"
    }
   ],
   "source": [
    "pipe = Pipeline([\n",
    "    ('tf', TfidfVectorizer()),\n",
    "    ('abc', AdaBoostClassifier(random_state=42))\n",
    "])\n",
    "\n",
    "pipe.fit(X_train, y_train)\n",
    "pipe.score(X_train, y_train), pipe.score(X_test, y_test)"
   ]
  },
  {
   "cell_type": "markdown",
   "id": "lesbian-nepal",
   "metadata": {},
   "source": [
    "#### Model 11: CountVectorizer + SVM  \n",
    "According to the SVM lecture: doing a kernel SVM with polynomial kernel degree = 2 has been shown to work really well for NLP data!"
   ]
  },
  {
   "cell_type": "code",
   "execution_count": 76,
   "id": "recognized-blood",
   "metadata": {},
   "outputs": [],
   "source": [
    "from sklearn.svm import SVC"
   ]
  },
  {
   "cell_type": "code",
   "execution_count": 77,
   "id": "reflected-fighter",
   "metadata": {},
   "outputs": [
    {
     "data": {
      "text/plain": [
       "(0.9523333333333334, 0.839)"
      ]
     },
     "execution_count": 77,
     "metadata": {},
     "output_type": "execute_result"
    }
   ],
   "source": [
    "pipe = Pipeline([\n",
    "    ('cv', CountVectorizer()),\n",
    "    ('svc', SVC())\n",
    "])\n",
    "\n",
    "pipe.fit(X_train, y_train)\n",
    "pipe.score(X_train, y_train), pipe.score(X_test, y_test)"
   ]
  },
  {
   "cell_type": "markdown",
   "id": "surgical-button",
   "metadata": {},
   "source": [
    "#### Model 12: TF-IDF Vectorizer + SVM"
   ]
  },
  {
   "cell_type": "code",
   "execution_count": 78,
   "id": "greater-discharge",
   "metadata": {},
   "outputs": [
    {
     "data": {
      "text/plain": [
       "(0.987, 0.855)"
      ]
     },
     "execution_count": 78,
     "metadata": {},
     "output_type": "execute_result"
    }
   ],
   "source": [
    "pipe = Pipeline([\n",
    "    ('tf', TfidfVectorizer()),\n",
    "    ('svc', SVC())\n",
    "])\n",
    "\n",
    "pipe.fit(X_train, y_train)\n",
    "pipe.score(X_train, y_train), pipe.score(X_test, y_test)"
   ]
  },
  {
   "cell_type": "markdown",
   "id": "minor-gazette",
   "metadata": {},
   "source": [
    "## My best model is: TF-IDF Vectorizer + SVM (YEAH!!)\n",
    "This is the best model because it has the highest accuracy score in the testing set."
   ]
  },
  {
   "cell_type": "code",
   "execution_count": 90,
   "id": "artificial-boost",
   "metadata": {},
   "outputs": [
    {
     "data": {
      "text/plain": [
       "(0.956, 0.854)"
      ]
     },
     "execution_count": 90,
     "metadata": {},
     "output_type": "execute_result"
    }
   ],
   "source": [
    "pipe = Pipeline([\n",
    "    ('tf', TfidfVectorizer()),\n",
    "    ('lr', LogisticRegressionCV(solver='liblinear'))\n",
    "])\n",
    "\n",
    "pipe.fit(X_train, y_train)\n",
    "pipe.score(X_train, y_train), pipe.score(X_test, y_test)"
   ]
  },
  {
   "cell_type": "markdown",
   "id": "maritime-abortion",
   "metadata": {},
   "source": [
    "### Let's GridSearch! "
   ]
  },
  {
   "cell_type": "code",
   "execution_count": 81,
   "id": "loaded-newcastle",
   "metadata": {},
   "outputs": [],
   "source": [
    "from sklearn.model_selection import GridSearchCV"
   ]
  },
  {
   "cell_type": "code",
   "execution_count": 82,
   "id": "powerful-reunion",
   "metadata": {},
   "outputs": [],
   "source": [
    "# Example \n",
    "# # Parameters of pipelines can be set using ‘__’ separated parameter names:\n",
    "# param_grid = {\n",
    "#     'pca__n_components': [5, 15, 30, 45, 64],\n",
    "#     'logistic__C': np.logspace(-4, 4, 4),\n",
    "# }\n",
    "# search = GridSearchCV(pipe, param_grid, n_jobs=-1)\n",
    "# search.fit(X_digits, y_digits)"
   ]
  },
  {
   "cell_type": "code",
   "execution_count": 91,
   "id": "fifteen-finnish",
   "metadata": {},
   "outputs": [],
   "source": [
    "# Instantiate the transformers and estimators \n",
    "tf = TfidfVectorizer()\n",
    "lr = LogisticRegressionCV(solver='liblinear')"
   ]
  },
  {
   "cell_type": "code",
   "execution_count": 103,
   "id": "placed-dragon",
   "metadata": {},
   "outputs": [],
   "source": [
    "tf_lr_pipe = Pipeline([\n",
    "    ('tf', TfidfVectorizer()),\n",
    "    ('lr', LogisticRegressionCV(solver='liblinear'))\n",
    "])"
   ]
  },
  {
   "cell_type": "code",
   "execution_count": 93,
   "id": "interracial-venue",
   "metadata": {},
   "outputs": [],
   "source": [
    "my_stop_words = text.ENGLISH_STOP_WORDS.union(['financial','stock', 'stocks'])"
   ]
  },
  {
   "cell_type": "code",
   "execution_count": 101,
   "id": "dutch-convenience",
   "metadata": {},
   "outputs": [],
   "source": [
    "pipe_params = {\n",
    "    'tf__max_features': [2_000, 3_000, 4_000],\n",
    "    'tf__stop_words': [None, 'english', my_stop_words],\n",
    "    'tf__ngram_range': [(1,1), (1,2)]    \n",
    "}"
   ]
  },
  {
   "cell_type": "code",
   "execution_count": 104,
   "id": "focal-spanish",
   "metadata": {},
   "outputs": [],
   "source": [
    "gs_tf_lr = GridSearchCV(tf_lr_pipe,\n",
    "                        param_grid = pipe_params,\n",
    "                        cv=5)"
   ]
  },
  {
   "cell_type": "code",
   "execution_count": 105,
   "id": "attended-homeless",
   "metadata": {},
   "outputs": [
    {
     "data": {
      "text/plain": [
       "GridSearchCV(cv=5,\n",
       "             estimator=Pipeline(steps=[('tf', TfidfVectorizer()),\n",
       "                                       ('lr',\n",
       "                                        LogisticRegressionCV(solver='liblinear'))]),\n",
       "             param_grid={'tf__max_features': [2000, 3000, 4000],\n",
       "                         'tf__ngram_range': [(1, 1), (1, 2)],\n",
       "                         'tf__stop_words': [None, 'english',\n",
       "                                            frozenset({'a', 'about', 'above',\n",
       "                                                       'across', 'after',\n",
       "                                                       'afterwards', 'again',\n",
       "                                                       'against', 'all',\n",
       "                                                       'almost', 'alone',\n",
       "                                                       'along', 'already',\n",
       "                                                       'also', 'although',\n",
       "                                                       'always', 'am', 'among',\n",
       "                                                       'amongst', 'amoungst',\n",
       "                                                       'amount', 'an', 'and',\n",
       "                                                       'another', 'any',\n",
       "                                                       'anyhow', 'anyone',\n",
       "                                                       'anything', 'anyway',\n",
       "                                                       'anywhere', ...})]})"
      ]
     },
     "execution_count": 105,
     "metadata": {},
     "output_type": "execute_result"
    }
   ],
   "source": [
    "gs_tf_lr.fit(X_train, y_train)"
   ]
  },
  {
   "cell_type": "code",
   "execution_count": 106,
   "id": "mexican-housing",
   "metadata": {},
   "outputs": [
    {
     "data": {
      "text/plain": [
       "{'tf__max_features': 2000,\n",
       " 'tf__ngram_range': (1, 1),\n",
       " 'tf__stop_words': 'english'}"
      ]
     },
     "execution_count": 106,
     "metadata": {},
     "output_type": "execute_result"
    }
   ],
   "source": [
    "gs_tf_lr.best_params_"
   ]
  },
  {
   "cell_type": "code",
   "execution_count": 107,
   "id": "specified-state",
   "metadata": {},
   "outputs": [
    {
     "data": {
      "text/plain": [
       "0.8436666666666668"
      ]
     },
     "execution_count": 107,
     "metadata": {},
     "output_type": "execute_result"
    }
   ],
   "source": [
    "gs_tf_lr.best_score_"
   ]
  },
  {
   "cell_type": "code",
   "execution_count": 108,
   "id": "cosmetic-reception",
   "metadata": {},
   "outputs": [
    {
     "data": {
      "text/plain": [
       "(0.8863333333333333, 0.844)"
      ]
     },
     "execution_count": 108,
     "metadata": {},
     "output_type": "execute_result"
    }
   ],
   "source": [
    "gs_tf_lr.score(X_train, y_train), gs_tf_lr.score(X_test, y_test)"
   ]
  },
  {
   "cell_type": "markdown",
   "id": "manual-failing",
   "metadata": {},
   "source": [
    "### Model Evaluations: Confusion Matrix  \n",
    "\n",
    "According to GridSearch, the best parameters are: \n",
    "```python\n",
    "{'tf__max_features': 2000,\n",
    " 'tf__ngram_range': (1, 1),\n",
    " 'tf__stop_words': 'english'}\n",
    "```\n",
    "I am going to use the grid searched model with the above parameters for model evaluations and misclassification analysis.  "
   ]
  },
  {
   "cell_type": "code",
   "execution_count": 109,
   "id": "dedicated-pharmacy",
   "metadata": {},
   "outputs": [
    {
     "data": {
      "image/png": "[encoded data removed]",
      "text/plain": [
       "<Figure size 432x288 with 2 Axes>"
      ]
     },
     "metadata": {
      "needs_background": "light"
     },
     "output_type": "display_data"
    }
   ],
   "source": [
    "plot_confusion_matrix(gs_tf_lr, X_test, y_test, cmap='Greens');"
   ]
  },
  {
   "cell_type": "markdown",
   "id": "strategic-phase",
   "metadata": {},
   "source": [
    "### Misclassification Analysis"
   ]
  },
  {
   "cell_type": "code",
   "execution_count": 110,
   "id": "exterior-rescue",
   "metadata": {},
   "outputs": [],
   "source": [
    "# store predictions\n",
    "preds = gs_tf_lr.predict(X_test)\n",
    "predictions_dict = {\n",
    "    # original, not cv - will be more readable\n",
    "    'original titles': X_test,\n",
    "    # true \n",
    "    'true_subreddit': y_test,\n",
    "    # predicted\n",
    "    'predictions': preds\n",
    "}\n",
    "# cast to df\n",
    "predicitons_df = pd.DataFrame(predictions_dict)"
   ]
  },
  {
   "cell_type": "code",
   "execution_count": 112,
   "id": "corporate-hamburg",
   "metadata": {},
   "outputs": [],
   "source": [
    "misclass_df = predicitons_df[predicitons_df['true_subreddit'] != predicitons_df['predictions']]"
   ]
  },
  {
   "cell_type": "code",
   "execution_count": 113,
   "id": "utility-distributor",
   "metadata": {},
   "outputs": [
    {
     "data": {
      "text/html": [
       "<div>\n",
       "<style scoped>\n",
       "    .dataframe tbody tr th:only-of-type {\n",
       "        vertical-align: middle;\n",
       "    }\n",
       "\n",
       "    .dataframe tbody tr th {\n",
       "        vertical-align: top;\n",
       "    }\n",
       "\n",
       "    .dataframe thead th {\n",
       "        text-align: right;\n",
       "    }\n",
       "</style>\n",
       "<table border=\"1\" class=\"dataframe\">\n",
       "  <thead>\n",
       "    <tr style=\"text-align: right;\">\n",
       "      <th></th>\n",
       "      <th>original titles</th>\n",
       "      <th>true_subreddit</th>\n",
       "      <th>predictions</th>\n",
       "    </tr>\n",
       "  </thead>\n",
       "  <tbody>\n",
       "    <tr>\n",
       "      <th>2164</th>\n",
       "      <td>My $15,000 investment</td>\n",
       "      <td>stocks</td>\n",
       "      <td>FinancialPlanning</td>\n",
       "    </tr>\n",
       "    <tr>\n",
       "      <th>469</th>\n",
       "      <td>Not sure if I’m making good choices overall. Direction needed</td>\n",
       "      <td>FinancialPlanning</td>\n",
       "      <td>stocks</td>\n",
       "    </tr>\n",
       "    <tr>\n",
       "      <th>2735</th>\n",
       "      <td>Need some suggestions</td>\n",
       "      <td>stocks</td>\n",
       "      <td>FinancialPlanning</td>\n",
       "    </tr>\n",
       "    <tr>\n",
       "      <th>1508</th>\n",
       "      <td>Thoughts on inflation/recession proofing your retirement?</td>\n",
       "      <td>FinancialPlanning</td>\n",
       "      <td>stocks</td>\n",
       "    </tr>\n",
       "    <tr>\n",
       "      <th>1598</th>\n",
       "      <td>SWAGX or similar for short term?</td>\n",
       "      <td>FinancialPlanning</td>\n",
       "      <td>stocks</td>\n",
       "    </tr>\n",
       "  </tbody>\n",
       "</table>\n",
       "</div>"
      ],
      "text/plain": [
       "                                                    original titles  \\\n",
       "2164                                          My $15,000 investment   \n",
       "469   Not sure if I’m making good choices overall. Direction needed   \n",
       "2735                                          Need some suggestions   \n",
       "1508      Thoughts on inflation/recession proofing your retirement?   \n",
       "1598                               SWAGX or similar for short term?   \n",
       "\n",
       "         true_subreddit        predictions  \n",
       "2164             stocks  FinancialPlanning  \n",
       "469   FinancialPlanning             stocks  \n",
       "2735             stocks  FinancialPlanning  \n",
       "1508  FinancialPlanning             stocks  \n",
       "1598  FinancialPlanning             stocks  "
      ]
     },
     "execution_count": 113,
     "metadata": {},
     "output_type": "execute_result"
    }
   ],
   "source": [
    "misclass_df.head()"
   ]
  },
  {
   "cell_type": "code",
   "execution_count": 114,
   "id": "sharp-passing",
   "metadata": {},
   "outputs": [],
   "source": [
    "cvec = CountVectorizer(ngram_range=(1,2), stop_words=my_stop_words)\n",
    "\n",
    "# fit the CountVectorizer transformer to X_train and transform X_train \n",
    "cvec.fit(misclass_df['original titles'])\n",
    "cvec_text = cvec.transform(misclass_df['original titles'])\n",
    "\n",
    "# create a dataframe with the CountVectorized X_train\n",
    "cvec_text_df = pd.DataFrame(cvec_text.todense(), columns=cvec.get_feature_names())"
   ]
  },
  {
   "cell_type": "code",
   "execution_count": 115,
   "id": "middle-suspect",
   "metadata": {},
   "outputs": [
    {
     "data": {
      "text/html": [
       "<div>\n",
       "<style scoped>\n",
       "    .dataframe tbody tr th:only-of-type {\n",
       "        vertical-align: middle;\n",
       "    }\n",
       "\n",
       "    .dataframe tbody tr th {\n",
       "        vertical-align: top;\n",
       "    }\n",
       "\n",
       "    .dataframe thead th {\n",
       "        text-align: right;\n",
       "    }\n",
       "</style>\n",
       "<table border=\"1\" class=\"dataframe\">\n",
       "  <thead>\n",
       "    <tr style=\"text-align: right;\">\n",
       "      <th></th>\n",
       "      <th>000</th>\n",
       "      <th>000 investment</th>\n",
       "      <th>000 start</th>\n",
       "      <th>10</th>\n",
       "      <th>10 million</th>\n",
       "      <th>101</th>\n",
       "      <th>15</th>\n",
       "      <th>15 000</th>\n",
       "      <th>15 year</th>\n",
       "      <th>15 years</th>\n",
       "      <th>...</th>\n",
       "      <th>years</th>\n",
       "      <th>years popular</th>\n",
       "      <th>youtube</th>\n",
       "      <th>youtube channels</th>\n",
       "      <th>youtube com</th>\n",
       "      <th>youtube mp3</th>\n",
       "      <th>yr</th>\n",
       "      <th>yr old</th>\n",
       "      <th>zero</th>\n",
       "      <th>zero commission</th>\n",
       "    </tr>\n",
       "  </thead>\n",
       "  <tbody>\n",
       "    <tr>\n",
       "      <th>0</th>\n",
       "      <td>1</td>\n",
       "      <td>1</td>\n",
       "      <td>0</td>\n",
       "      <td>0</td>\n",
       "      <td>0</td>\n",
       "      <td>0</td>\n",
       "      <td>1</td>\n",
       "      <td>1</td>\n",
       "      <td>0</td>\n",
       "      <td>0</td>\n",
       "      <td>...</td>\n",
       "      <td>0</td>\n",
       "      <td>0</td>\n",
       "      <td>0</td>\n",
       "      <td>0</td>\n",
       "      <td>0</td>\n",
       "      <td>0</td>\n",
       "      <td>0</td>\n",
       "      <td>0</td>\n",
       "      <td>0</td>\n",
       "      <td>0</td>\n",
       "    </tr>\n",
       "    <tr>\n",
       "      <th>1</th>\n",
       "      <td>0</td>\n",
       "      <td>0</td>\n",
       "      <td>0</td>\n",
       "      <td>0</td>\n",
       "      <td>0</td>\n",
       "      <td>0</td>\n",
       "      <td>0</td>\n",
       "      <td>0</td>\n",
       "      <td>0</td>\n",
       "      <td>0</td>\n",
       "      <td>...</td>\n",
       "      <td>0</td>\n",
       "      <td>0</td>\n",
       "      <td>0</td>\n",
       "      <td>0</td>\n",
       "      <td>0</td>\n",
       "      <td>0</td>\n",
       "      <td>0</td>\n",
       "      <td>0</td>\n",
       "      <td>0</td>\n",
       "      <td>0</td>\n",
       "    </tr>\n",
       "    <tr>\n",
       "      <th>2</th>\n",
       "      <td>0</td>\n",
       "      <td>0</td>\n",
       "      <td>0</td>\n",
       "      <td>0</td>\n",
       "      <td>0</td>\n",
       "      <td>0</td>\n",
       "      <td>0</td>\n",
       "      <td>0</td>\n",
       "      <td>0</td>\n",
       "      <td>0</td>\n",
       "      <td>...</td>\n",
       "      <td>0</td>\n",
       "      <td>0</td>\n",
       "      <td>0</td>\n",
       "      <td>0</td>\n",
       "      <td>0</td>\n",
       "      <td>0</td>\n",
       "      <td>0</td>\n",
       "      <td>0</td>\n",
       "      <td>0</td>\n",
       "      <td>0</td>\n",
       "    </tr>\n",
       "    <tr>\n",
       "      <th>3</th>\n",
       "      <td>0</td>\n",
       "      <td>0</td>\n",
       "      <td>0</td>\n",
       "      <td>0</td>\n",
       "      <td>0</td>\n",
       "      <td>0</td>\n",
       "      <td>0</td>\n",
       "      <td>0</td>\n",
       "      <td>0</td>\n",
       "      <td>0</td>\n",
       "      <td>...</td>\n",
       "      <td>0</td>\n",
       "      <td>0</td>\n",
       "      <td>0</td>\n",
       "      <td>0</td>\n",
       "      <td>0</td>\n",
       "      <td>0</td>\n",
       "      <td>0</td>\n",
       "      <td>0</td>\n",
       "      <td>0</td>\n",
       "      <td>0</td>\n",
       "    </tr>\n",
       "    <tr>\n",
       "      <th>4</th>\n",
       "      <td>0</td>\n",
       "      <td>0</td>\n",
       "      <td>0</td>\n",
       "      <td>0</td>\n",
       "      <td>0</td>\n",
       "      <td>0</td>\n",
       "      <td>0</td>\n",
       "      <td>0</td>\n",
       "      <td>0</td>\n",
       "      <td>0</td>\n",
       "      <td>...</td>\n",
       "      <td>0</td>\n",
       "      <td>0</td>\n",
       "      <td>0</td>\n",
       "      <td>0</td>\n",
       "      <td>0</td>\n",
       "      <td>0</td>\n",
       "      <td>0</td>\n",
       "      <td>0</td>\n",
       "      <td>0</td>\n",
       "      <td>0</td>\n",
       "    </tr>\n",
       "    <tr>\n",
       "      <th>...</th>\n",
       "      <td>...</td>\n",
       "      <td>...</td>\n",
       "      <td>...</td>\n",
       "      <td>...</td>\n",
       "      <td>...</td>\n",
       "      <td>...</td>\n",
       "      <td>...</td>\n",
       "      <td>...</td>\n",
       "      <td>...</td>\n",
       "      <td>...</td>\n",
       "      <td>...</td>\n",
       "      <td>...</td>\n",
       "      <td>...</td>\n",
       "      <td>...</td>\n",
       "      <td>...</td>\n",
       "      <td>...</td>\n",
       "      <td>...</td>\n",
       "      <td>...</td>\n",
       "      <td>...</td>\n",
       "      <td>...</td>\n",
       "      <td>...</td>\n",
       "    </tr>\n",
       "    <tr>\n",
       "      <th>151</th>\n",
       "      <td>0</td>\n",
       "      <td>0</td>\n",
       "      <td>0</td>\n",
       "      <td>0</td>\n",
       "      <td>0</td>\n",
       "      <td>0</td>\n",
       "      <td>0</td>\n",
       "      <td>0</td>\n",
       "      <td>0</td>\n",
       "      <td>0</td>\n",
       "      <td>...</td>\n",
       "      <td>0</td>\n",
       "      <td>0</td>\n",
       "      <td>0</td>\n",
       "      <td>0</td>\n",
       "      <td>0</td>\n",
       "      <td>0</td>\n",
       "      <td>0</td>\n",
       "      <td>0</td>\n",
       "      <td>0</td>\n",
       "      <td>0</td>\n",
       "    </tr>\n",
       "    <tr>\n",
       "      <th>152</th>\n",
       "      <td>0</td>\n",
       "      <td>0</td>\n",
       "      <td>0</td>\n",
       "      <td>0</td>\n",
       "      <td>0</td>\n",
       "      <td>0</td>\n",
       "      <td>0</td>\n",
       "      <td>0</td>\n",
       "      <td>0</td>\n",
       "      <td>0</td>\n",
       "      <td>...</td>\n",
       "      <td>0</td>\n",
       "      <td>0</td>\n",
       "      <td>0</td>\n",
       "      <td>0</td>\n",
       "      <td>0</td>\n",
       "      <td>0</td>\n",
       "      <td>0</td>\n",
       "      <td>0</td>\n",
       "      <td>0</td>\n",
       "      <td>0</td>\n",
       "    </tr>\n",
       "    <tr>\n",
       "      <th>153</th>\n",
       "      <td>0</td>\n",
       "      <td>0</td>\n",
       "      <td>0</td>\n",
       "      <td>0</td>\n",
       "      <td>0</td>\n",
       "      <td>0</td>\n",
       "      <td>0</td>\n",
       "      <td>0</td>\n",
       "      <td>0</td>\n",
       "      <td>0</td>\n",
       "      <td>...</td>\n",
       "      <td>0</td>\n",
       "      <td>0</td>\n",
       "      <td>0</td>\n",
       "      <td>0</td>\n",
       "      <td>0</td>\n",
       "      <td>0</td>\n",
       "      <td>0</td>\n",
       "      <td>0</td>\n",
       "      <td>0</td>\n",
       "      <td>0</td>\n",
       "    </tr>\n",
       "    <tr>\n",
       "      <th>154</th>\n",
       "      <td>0</td>\n",
       "      <td>0</td>\n",
       "      <td>0</td>\n",
       "      <td>0</td>\n",
       "      <td>0</td>\n",
       "      <td>1</td>\n",
       "      <td>0</td>\n",
       "      <td>0</td>\n",
       "      <td>0</td>\n",
       "      <td>0</td>\n",
       "      <td>...</td>\n",
       "      <td>0</td>\n",
       "      <td>0</td>\n",
       "      <td>0</td>\n",
       "      <td>0</td>\n",
       "      <td>0</td>\n",
       "      <td>0</td>\n",
       "      <td>0</td>\n",
       "      <td>0</td>\n",
       "      <td>0</td>\n",
       "      <td>0</td>\n",
       "    </tr>\n",
       "    <tr>\n",
       "      <th>155</th>\n",
       "      <td>0</td>\n",
       "      <td>0</td>\n",
       "      <td>0</td>\n",
       "      <td>0</td>\n",
       "      <td>0</td>\n",
       "      <td>0</td>\n",
       "      <td>0</td>\n",
       "      <td>0</td>\n",
       "      <td>0</td>\n",
       "      <td>0</td>\n",
       "      <td>...</td>\n",
       "      <td>0</td>\n",
       "      <td>0</td>\n",
       "      <td>0</td>\n",
       "      <td>0</td>\n",
       "      <td>0</td>\n",
       "      <td>0</td>\n",
       "      <td>0</td>\n",
       "      <td>0</td>\n",
       "      <td>0</td>\n",
       "      <td>0</td>\n",
       "    </tr>\n",
       "  </tbody>\n",
       "</table>\n",
       "<p>156 rows × 1032 columns</p>\n",
       "</div>"
      ],
      "text/plain": [
       "     000  000 investment  000 start  10  10 million  101  15  15 000  15 year  \\\n",
       "0      1               1          0   0           0    0   1       1        0   \n",
       "1      0               0          0   0           0    0   0       0        0   \n",
       "2      0               0          0   0           0    0   0       0        0   \n",
       "3      0               0          0   0           0    0   0       0        0   \n",
       "4      0               0          0   0           0    0   0       0        0   \n",
       "..   ...             ...        ...  ..         ...  ...  ..     ...      ...   \n",
       "151    0               0          0   0           0    0   0       0        0   \n",
       "152    0               0          0   0           0    0   0       0        0   \n",
       "153    0               0          0   0           0    0   0       0        0   \n",
       "154    0               0          0   0           0    1   0       0        0   \n",
       "155    0               0          0   0           0    0   0       0        0   \n",
       "\n",
       "     15 years  ...  years  years popular  youtube  youtube channels  \\\n",
       "0           0  ...      0              0        0                 0   \n",
       "1           0  ...      0              0        0                 0   \n",
       "2           0  ...      0              0        0                 0   \n",
       "3           0  ...      0              0        0                 0   \n",
       "4           0  ...      0              0        0                 0   \n",
       "..        ...  ...    ...            ...      ...               ...   \n",
       "151         0  ...      0              0        0                 0   \n",
       "152         0  ...      0              0        0                 0   \n",
       "153         0  ...      0              0        0                 0   \n",
       "154         0  ...      0              0        0                 0   \n",
       "155         0  ...      0              0        0                 0   \n",
       "\n",
       "     youtube com  youtube mp3  yr  yr old  zero  zero commission  \n",
       "0              0            0   0       0     0                0  \n",
       "1              0            0   0       0     0                0  \n",
       "2              0            0   0       0     0                0  \n",
       "3              0            0   0       0     0                0  \n",
       "4              0            0   0       0     0                0  \n",
       "..           ...          ...  ..     ...   ...              ...  \n",
       "151            0            0   0       0     0                0  \n",
       "152            0            0   0       0     0                0  \n",
       "153            0            0   0       0     0                0  \n",
       "154            0            0   0       0     0                0  \n",
       "155            0            0   0       0     0                0  \n",
       "\n",
       "[156 rows x 1032 columns]"
      ]
     },
     "execution_count": 115,
     "metadata": {},
     "output_type": "execute_result"
    }
   ],
   "source": [
    "cvec_text_df"
   ]
  },
  {
   "cell_type": "code",
   "execution_count": 118,
   "id": "printable-graphics",
   "metadata": {},
   "outputs": [
    {
     "data": {
      "image/png": "[encoded data removed]",
      "text/plain": [
       "<Figure size 432x432 with 1 Axes>"
      ]
     },
     "metadata": {
      "needs_background": "light"
     },
     "output_type": "display_data"
    }
   ],
   "source": [
    "# plot top occuring words\n",
    "plt.figure(figsize=(6,6))\n",
    "cvec_text_df.sum().sort_values(ascending=False).head(20).plot(kind='barh', color='green');"
   ]
  },
  {
   "cell_type": "code",
   "execution_count": null,
   "id": "athletic-association",
   "metadata": {},
   "outputs": [],
   "source": []
  }
 ],
 "metadata": {
  "kernelspec": {
   "display_name": "Python 3",
   "language": "python",
   "name": "python3"
  },
  "language_info": {
   "codemirror_mode": {
    "name": "ipython",
    "version": 3
   },
   "file_extension": ".py",
   "mimetype": "text/x-python",
   "name": "python",
   "nbconvert_exporter": "python",
   "pygments_lexer": "ipython3",
   "version": "3.8.5"
  }
 },
 "nbformat": 4,
 "nbformat_minor": 5
}
