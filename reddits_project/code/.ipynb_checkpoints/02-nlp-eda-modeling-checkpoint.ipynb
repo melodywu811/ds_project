{
 "cells": [
  {
   "cell_type": "markdown",
   "id": "postal-activity",
   "metadata": {},
   "source": [
    "# Project 3: Analyzing Subreddits with NLP and Classifiers\n",
    "**Submitted by: Melody Wu**  \n",
    "**March 5, 2021**\n",
    "\n",
    "## Notebook 02"
   ]
  },
  {
   "cell_type": "markdown",
   "id": "joint-accused",
   "metadata": {},
   "source": [
    "## NLP EDA and Modeling"
   ]
  },
  {
   "cell_type": "markdown",
   "id": "enabling-framework",
   "metadata": {},
   "source": [
    "### Import libraries"
   ]
  },
  {
   "cell_type": "code",
   "execution_count": 1,
   "id": "widespread-notice",
   "metadata": {},
   "outputs": [],
   "source": [
    "# the basics\n",
    "import pandas as pd\n",
    "import numpy as np\n",
    "import matplotlib.pyplot as plt\n",
    "import seaborn as sns\n",
    "\n",
    "# import preprocessing and modeling\n",
    "from sklearn.preprocessing import StandardScaler\n",
    "from sklearn.pipeline import Pipeline\n",
    "from sklearn.linear_model import LogisticRegression, LogisticRegressionCV\n",
    "from sklearn.naive_bayes import MultinomialNB\n",
    "from sklearn.model_selection import train_test_split, cross_val_score\n",
    "from sklearn.feature_extraction.text import CountVectorizer, TfidfVectorizer\n",
    "\n",
    "# immport metrics\n",
    "from sklearn.metrics import confusion_matrix, plot_confusion_matrix"
   ]
  },
  {
   "cell_type": "markdown",
   "id": "shaped-stocks",
   "metadata": {},
   "source": [
    "### NPL EDA"
   ]
  },
  {
   "cell_type": "markdown",
   "id": "allied-vegetarian",
   "metadata": {},
   "source": [
    "#### Import Data"
   ]
  },
  {
   "cell_type": "code",
   "execution_count": 2,
   "id": "incorporated-classic",
   "metadata": {},
   "outputs": [
    {
     "name": "stdout",
     "output_type": "stream",
     "text": [
      "There are 500 rows and 2 columns in this DataFrame.\n"
     ]
    },
    {
     "data": {
      "text/html": [
       "<div>\n",
       "<style scoped>\n",
       "    .dataframe tbody tr th:only-of-type {\n",
       "        vertical-align: middle;\n",
       "    }\n",
       "\n",
       "    .dataframe tbody tr th {\n",
       "        vertical-align: top;\n",
       "    }\n",
       "\n",
       "    .dataframe thead th {\n",
       "        text-align: right;\n",
       "    }\n",
       "</style>\n",
       "<table border=\"1\" class=\"dataframe\">\n",
       "  <thead>\n",
       "    <tr style=\"text-align: right;\">\n",
       "      <th></th>\n",
       "      <th>title</th>\n",
       "      <th>subreddit</th>\n",
       "    </tr>\n",
       "  </thead>\n",
       "  <tbody>\n",
       "    <tr>\n",
       "      <th>0</th>\n",
       "      <td>4000 paid so far 1000 left to go!</td>\n",
       "      <td>debtfree</td>\n",
       "    </tr>\n",
       "    <tr>\n",
       "      <th>1</th>\n",
       "      <td>Become debtfree.. Get up to $5000 instant loan</td>\n",
       "      <td>debtfree</td>\n",
       "    </tr>\n",
       "    <tr>\n",
       "      <th>2</th>\n",
       "      <td>How to Get Out of Your Debt Quickly</td>\n",
       "      <td>debtfree</td>\n",
       "    </tr>\n",
       "    <tr>\n",
       "      <th>3</th>\n",
       "      <td>Still paying off my student loans, but I’ve ma...</td>\n",
       "      <td>debtfree</td>\n",
       "    </tr>\n",
       "    <tr>\n",
       "      <th>4</th>\n",
       "      <td>YNAB</td>\n",
       "      <td>debtfree</td>\n",
       "    </tr>\n",
       "  </tbody>\n",
       "</table>\n",
       "</div>"
      ],
      "text/plain": [
       "                                               title subreddit\n",
       "0                  4000 paid so far 1000 left to go!  debtfree\n",
       "1     Become debtfree.. Get up to $5000 instant loan  debtfree\n",
       "2                How to Get Out of Your Debt Quickly  debtfree\n",
       "3  Still paying off my student loans, but I’ve ma...  debtfree\n",
       "4                                               YNAB  debtfree"
      ]
     },
     "execution_count": 2,
     "metadata": {},
     "output_type": "execute_result"
    }
   ],
   "source": [
    "# r/debtfree\n",
    "debtfree_path = '../data/debtfree_titles.csv'\n",
    "debtfree = pd.read_csv(debtfree_path)\n",
    "# check Dataframe\n",
    "print(f'There are {debtfree.shape[0]} rows and {debtfree.shape[1]} columns in this DataFrame.')\n",
    "debtfree.head()"
   ]
  },
  {
   "cell_type": "code",
   "execution_count": 3,
   "id": "nasty-outline",
   "metadata": {},
   "outputs": [
    {
     "name": "stdout",
     "output_type": "stream",
     "text": [
      "There are 500 rows and 2 columns in this DataFrame.\n"
     ]
    },
    {
     "data": {
      "text/html": [
       "<div>\n",
       "<style scoped>\n",
       "    .dataframe tbody tr th:only-of-type {\n",
       "        vertical-align: middle;\n",
       "    }\n",
       "\n",
       "    .dataframe tbody tr th {\n",
       "        vertical-align: top;\n",
       "    }\n",
       "\n",
       "    .dataframe thead th {\n",
       "        text-align: right;\n",
       "    }\n",
       "</style>\n",
       "<table border=\"1\" class=\"dataframe\">\n",
       "  <thead>\n",
       "    <tr style=\"text-align: right;\">\n",
       "      <th></th>\n",
       "      <th>title</th>\n",
       "      <th>subreddit</th>\n",
       "    </tr>\n",
       "  </thead>\n",
       "  <tbody>\n",
       "    <tr>\n",
       "      <th>0</th>\n",
       "      <td>ETFs only? Add stocks? Which ones?</td>\n",
       "      <td>investing</td>\n",
       "    </tr>\n",
       "    <tr>\n",
       "      <th>1</th>\n",
       "      <td>A newbie looking for advice</td>\n",
       "      <td>investing</td>\n",
       "    </tr>\n",
       "    <tr>\n",
       "      <th>2</th>\n",
       "      <td>Due Diligence &amp;amp; Analysis on Stocks. 16 thi...</td>\n",
       "      <td>investing</td>\n",
       "    </tr>\n",
       "    <tr>\n",
       "      <th>3</th>\n",
       "      <td>What does Renaissance Technologies do?</td>\n",
       "      <td>investing</td>\n",
       "    </tr>\n",
       "    <tr>\n",
       "      <th>4</th>\n",
       "      <td>I have discovery 10x rule breakers and stock a...</td>\n",
       "      <td>investing</td>\n",
       "    </tr>\n",
       "  </tbody>\n",
       "</table>\n",
       "</div>"
      ],
      "text/plain": [
       "                                               title  subreddit\n",
       "0                 ETFs only? Add stocks? Which ones?  investing\n",
       "1                        A newbie looking for advice  investing\n",
       "2  Due Diligence &amp; Analysis on Stocks. 16 thi...  investing\n",
       "3             What does Renaissance Technologies do?  investing\n",
       "4  I have discovery 10x rule breakers and stock a...  investing"
      ]
     },
     "execution_count": 3,
     "metadata": {},
     "output_type": "execute_result"
    }
   ],
   "source": [
    "# r/investing\n",
    "investing_path = '../data/investing_titles.csv'\n",
    "investing = pd.read_csv(investing_path)\n",
    "# Check DataFrame\n",
    "print(f'There are {investing.shape[0]} rows and {investing.shape[1]} columns in this DataFrame.')\n",
    "investing.head()"
   ]
  },
  {
   "cell_type": "code",
   "execution_count": 4,
   "id": "deluxe-division",
   "metadata": {},
   "outputs": [
    {
     "name": "stdout",
     "output_type": "stream",
     "text": [
      "There are 1000 rows and 2 columns in this DataFrame.\n"
     ]
    }
   ],
   "source": [
    "# concat the two DataFrame into one \n",
    "subreddit = pd.concat([debtfree, investing], axis=0, ignore_index=True)\n",
    "print(f'There are {subreddit.shape[0]} rows and {subreddit.shape[1]} columns in this DataFrame.')"
   ]
  },
  {
   "cell_type": "code",
   "execution_count": 5,
   "id": "voluntary-command",
   "metadata": {},
   "outputs": [
    {
     "data": {
      "text/plain": [
       "investing    0.5\n",
       "debtfree     0.5\n",
       "Name: subreddit, dtype: float64"
      ]
     },
     "execution_count": 5,
     "metadata": {},
     "output_type": "execute_result"
    }
   ],
   "source": [
    "# Check sample balance\n",
    "subreddit['subreddit'].value_counts(normalize=True)"
   ]
  },
  {
   "cell_type": "code",
   "execution_count": 6,
   "id": "european-simon",
   "metadata": {},
   "outputs": [
    {
     "data": {
      "text/plain": [
       "title        0\n",
       "subreddit    0\n",
       "dtype: int64"
      ]
     },
     "execution_count": 6,
     "metadata": {},
     "output_type": "execute_result"
    }
   ],
   "source": [
    "# Check null values\n",
    "subreddit.isnull().sum()"
   ]
  },
  {
   "cell_type": "markdown",
   "id": "deadly-athletics",
   "metadata": {},
   "source": [
    "#### Set up X, y and train/test split"
   ]
  },
  {
   "cell_type": "code",
   "execution_count": 7,
   "id": "immediate-dutch",
   "metadata": {},
   "outputs": [],
   "source": [
    "X = subreddit['title']\n",
    "y = subreddit['subreddit']"
   ]
  },
  {
   "cell_type": "code",
   "execution_count": 8,
   "id": "covered-skating",
   "metadata": {},
   "outputs": [],
   "source": [
    "X_train, X_test, y_train, y_test = train_test_split(X, y, random_state=42, stratify=y)\n",
    "# Since we have a balanced dataset, no need to stratify."
   ]
  },
  {
   "cell_type": "markdown",
   "id": "organizational-denial",
   "metadata": {},
   "source": [
    "#### Pre-processing and EDA with `CountVectorizer`"
   ]
  },
  {
   "cell_type": "code",
   "execution_count": 64,
   "id": "expressed-blood",
   "metadata": {},
   "outputs": [
    {
     "data": {
      "text/html": [
       "<div>\n",
       "<style scoped>\n",
       "    .dataframe tbody tr th:only-of-type {\n",
       "        vertical-align: middle;\n",
       "    }\n",
       "\n",
       "    .dataframe tbody tr th {\n",
       "        vertical-align: top;\n",
       "    }\n",
       "\n",
       "    .dataframe thead th {\n",
       "        text-align: right;\n",
       "    }\n",
       "</style>\n",
       "<table border=\"1\" class=\"dataframe\">\n",
       "  <thead>\n",
       "    <tr style=\"text-align: right;\">\n",
       "      <th></th>\n",
       "      <th>00</th>\n",
       "      <th>000</th>\n",
       "      <th>0001</th>\n",
       "      <th>02</th>\n",
       "      <th>039</th>\n",
       "      <th>07</th>\n",
       "      <th>10</th>\n",
       "      <th>100</th>\n",
       "      <th>1000</th>\n",
       "      <th>100k</th>\n",
       "      <th>...</th>\n",
       "      <th>ynab</th>\n",
       "      <th>yo</th>\n",
       "      <th>yojana</th>\n",
       "      <th>yolu</th>\n",
       "      <th>yrs</th>\n",
       "      <th>zero</th>\n",
       "      <th>zoe</th>\n",
       "      <th>zooming</th>\n",
       "      <th>zosano</th>\n",
       "      <th>subreddit_label</th>\n",
       "    </tr>\n",
       "  </thead>\n",
       "  <tbody>\n",
       "    <tr>\n",
       "      <th>0</th>\n",
       "      <td>0</td>\n",
       "      <td>0</td>\n",
       "      <td>0</td>\n",
       "      <td>0</td>\n",
       "      <td>0</td>\n",
       "      <td>0</td>\n",
       "      <td>0</td>\n",
       "      <td>0</td>\n",
       "      <td>0</td>\n",
       "      <td>0</td>\n",
       "      <td>...</td>\n",
       "      <td>0</td>\n",
       "      <td>0</td>\n",
       "      <td>0</td>\n",
       "      <td>0</td>\n",
       "      <td>0</td>\n",
       "      <td>0</td>\n",
       "      <td>0</td>\n",
       "      <td>0</td>\n",
       "      <td>0</td>\n",
       "      <td>investing</td>\n",
       "    </tr>\n",
       "    <tr>\n",
       "      <th>1</th>\n",
       "      <td>0</td>\n",
       "      <td>0</td>\n",
       "      <td>0</td>\n",
       "      <td>0</td>\n",
       "      <td>0</td>\n",
       "      <td>0</td>\n",
       "      <td>0</td>\n",
       "      <td>0</td>\n",
       "      <td>0</td>\n",
       "      <td>0</td>\n",
       "      <td>...</td>\n",
       "      <td>0</td>\n",
       "      <td>0</td>\n",
       "      <td>0</td>\n",
       "      <td>0</td>\n",
       "      <td>0</td>\n",
       "      <td>0</td>\n",
       "      <td>0</td>\n",
       "      <td>0</td>\n",
       "      <td>0</td>\n",
       "      <td>debtfree</td>\n",
       "    </tr>\n",
       "    <tr>\n",
       "      <th>2</th>\n",
       "      <td>0</td>\n",
       "      <td>0</td>\n",
       "      <td>0</td>\n",
       "      <td>0</td>\n",
       "      <td>0</td>\n",
       "      <td>0</td>\n",
       "      <td>0</td>\n",
       "      <td>0</td>\n",
       "      <td>0</td>\n",
       "      <td>0</td>\n",
       "      <td>...</td>\n",
       "      <td>0</td>\n",
       "      <td>0</td>\n",
       "      <td>0</td>\n",
       "      <td>0</td>\n",
       "      <td>0</td>\n",
       "      <td>0</td>\n",
       "      <td>0</td>\n",
       "      <td>0</td>\n",
       "      <td>0</td>\n",
       "      <td>investing</td>\n",
       "    </tr>\n",
       "    <tr>\n",
       "      <th>3</th>\n",
       "      <td>0</td>\n",
       "      <td>0</td>\n",
       "      <td>0</td>\n",
       "      <td>0</td>\n",
       "      <td>0</td>\n",
       "      <td>0</td>\n",
       "      <td>0</td>\n",
       "      <td>0</td>\n",
       "      <td>0</td>\n",
       "      <td>0</td>\n",
       "      <td>...</td>\n",
       "      <td>0</td>\n",
       "      <td>0</td>\n",
       "      <td>0</td>\n",
       "      <td>0</td>\n",
       "      <td>0</td>\n",
       "      <td>0</td>\n",
       "      <td>0</td>\n",
       "      <td>0</td>\n",
       "      <td>0</td>\n",
       "      <td>debtfree</td>\n",
       "    </tr>\n",
       "    <tr>\n",
       "      <th>4</th>\n",
       "      <td>0</td>\n",
       "      <td>0</td>\n",
       "      <td>0</td>\n",
       "      <td>0</td>\n",
       "      <td>0</td>\n",
       "      <td>0</td>\n",
       "      <td>0</td>\n",
       "      <td>0</td>\n",
       "      <td>0</td>\n",
       "      <td>0</td>\n",
       "      <td>...</td>\n",
       "      <td>0</td>\n",
       "      <td>0</td>\n",
       "      <td>0</td>\n",
       "      <td>0</td>\n",
       "      <td>0</td>\n",
       "      <td>0</td>\n",
       "      <td>0</td>\n",
       "      <td>0</td>\n",
       "      <td>0</td>\n",
       "      <td>debtfree</td>\n",
       "    </tr>\n",
       "  </tbody>\n",
       "</table>\n",
       "<p>5 rows × 1731 columns</p>\n",
       "</div>"
      ],
      "text/plain": [
       "   00  000  0001  02  039  07  10  100  1000  100k  ...  ynab  yo  yojana  \\\n",
       "0   0    0     0   0    0   0   0    0     0     0  ...     0   0       0   \n",
       "1   0    0     0   0    0   0   0    0     0     0  ...     0   0       0   \n",
       "2   0    0     0   0    0   0   0    0     0     0  ...     0   0       0   \n",
       "3   0    0     0   0    0   0   0    0     0     0  ...     0   0       0   \n",
       "4   0    0     0   0    0   0   0    0     0     0  ...     0   0       0   \n",
       "\n",
       "   yolu  yrs  zero  zoe  zooming  zosano  subreddit_label  \n",
       "0     0    0     0    0        0       0        investing  \n",
       "1     0    0     0    0        0       0         debtfree  \n",
       "2     0    0     0    0        0       0        investing  \n",
       "3     0    0     0    0        0       0         debtfree  \n",
       "4     0    0     0    0        0       0         debtfree  \n",
       "\n",
       "[5 rows x 1731 columns]"
      ]
     },
     "execution_count": 64,
     "metadata": {},
     "output_type": "execute_result"
    }
   ],
   "source": [
    "# instantiate a CountVectorizer with the default hyperparameters.\n",
    "cvec = CountVectorizer(stop_words='english')\n",
    "\n",
    "# fit the CountVectorizer transformer to X_train and transform X_train \n",
    "cvec.fit(X_train)\n",
    "cvec_text = cvec.transform(X_train)\n",
    "\n",
    "# create a dataframe with the CountVectorized X_train\n",
    "cvec_text_df = pd.DataFrame(cvec_text.todense(), columns=cvec.get_feature_names())\n",
    "\n",
    "# add the subreddit_label column to the DataFrame\n",
    "cvec_text_df['subreddit_label'] = y_train.values\n",
    "\n",
    "cvec_text_df.head()"
   ]
  },
  {
   "cell_type": "markdown",
   "id": "fantastic-baghdad",
   "metadata": {},
   "source": [
    "#### Top Occuring words in r/debtfree subreddit"
   ]
  },
  {
   "cell_type": "code",
   "execution_count": 65,
   "id": "mental-ontario",
   "metadata": {},
   "outputs": [
    {
     "data": {
      "image/png": "[encoded data removed]",
      "text/plain": [
       "<Figure size 432x288 with 1 Axes>"
      ]
     },
     "metadata": {
      "needs_background": "light"
     },
     "output_type": "display_data"
    }
   ],
   "source": [
    "# create a sub DataFrame\n",
    "cvec_debtfree_df = cvec_text_df[cvec_text_df['subreddit_label'] == 'debtfree'].drop(columns=['subreddit_label'])\n",
    "\n",
    "# plot top occuring words\n",
    "plt.figure(figsize=(6,4))\n",
    "plt.title('Top 10 most occuring words in r/debtfree subreddit, excluding stopwords')\n",
    "plt.xlabel('Word counts')\n",
    "plt.ylabel('/debtfree Word')\n",
    "cvec_debtfree_df.sum().sort_values(ascending=False).head(10).plot(kind='barh');"
   ]
  },
  {
   "cell_type": "markdown",
   "id": "constant-terrain",
   "metadata": {},
   "source": [
    "***Since the word 'debt' is too standing out,  I decided to add it as a stopword.***   \n",
    "In this case, I hope to compare more generalized wordings and hope to find nuances. "
   ]
  },
  {
   "cell_type": "code",
   "execution_count": 66,
   "id": "complex-suicide",
   "metadata": {},
   "outputs": [],
   "source": [
    "from sklearn.feature_extraction import text \n",
    "\n",
    "# add 'debt' to the stop_words\n",
    "my_stop_words = text.ENGLISH_STOP_WORDS.union(['debt'])\n",
    "\n",
    "# reference:https://stackoverflow.com/questions/26826002/adding-words-to-stop-words-list-in-tfidfvectorizer-in-sklearn"
   ]
  },
  {
   "cell_type": "code",
   "execution_count": 67,
   "id": "sublime-redhead",
   "metadata": {},
   "outputs": [],
   "source": [
    "cvec = CountVectorizer(stop_words=my_stop_words)\n",
    "\n",
    "# fit the CountVectorizer transformer to X_train and transform X_train \n",
    "cvec.fit(X_train)\n",
    "cvec_text = cvec.transform(X_train)\n",
    "\n",
    "# create a dataframe with the CountVectorized X_train\n",
    "cvec_text_df = pd.DataFrame(cvec_text.todense(), columns=cvec.get_feature_names())\n",
    "\n",
    "# add the subreddit_label column to the DataFrame\n",
    "cvec_text_df['subreddit_label'] = y_train.values"
   ]
  },
  {
   "cell_type": "code",
   "execution_count": 70,
   "id": "dried-durham",
   "metadata": {},
   "outputs": [
    {
     "data": {
      "image/png": "[encoded data removed]",
      "text/plain": [
       "<Figure size 432x288 with 1 Axes>"
      ]
     },
     "metadata": {
      "needs_background": "light"
     },
     "output_type": "display_data"
    }
   ],
   "source": [
    "# create a sub DataFrame\n",
    "cvec_debtfree_df = cvec_text_df[cvec_text_df['subreddit_label'] == 'debtfree'].drop(columns=['subreddit_label'])\n",
    "\n",
    "# plot top occuring words\n",
    "plt.figure(figsize=(6,4))\n",
    "plt.title('Top 10 most occuring words in r/debtfree subreddit, excluding stopwords + \"debt\"')\n",
    "plt.xlabel('Word counts')\n",
    "plt.ylabel('/debtfree Word')\n",
    "cvec_debtfree_df.sum().sort_values(ascending=False).head(10).plot(kind='barh');"
   ]
  },
  {
   "cell_type": "markdown",
   "id": "mysterious-banks",
   "metadata": {},
   "source": [
    "#### Top Occuring words in r/investing subreddit"
   ]
  },
  {
   "cell_type": "code",
   "execution_count": 71,
   "id": "alpha-wisconsin",
   "metadata": {},
   "outputs": [
    {
     "data": {
      "image/png": "[encoded data removed]",
      "text/plain": [
       "<Figure size 432x288 with 1 Axes>"
      ]
     },
     "metadata": {
      "needs_background": "light"
     },
     "output_type": "display_data"
    }
   ],
   "source": [
    "# instantiate a CountVectorizer with the default hyperparameters.\n",
    "cvec = CountVectorizer(stop_words='english')\n",
    "\n",
    "# fit the CountVectorizer transformer to X_train and transform X_train \n",
    "cvec.fit(X_train)\n",
    "cvec_text = cvec.transform(X_train)\n",
    "\n",
    "# create a dataframe with the CountVectorized X_train\n",
    "cvec_text_df = pd.DataFrame(cvec_text.todense(), columns=cvec.get_feature_names())\n",
    "\n",
    "# add the subreddit_label column to the DataFrame\n",
    "cvec_text_df['subreddit_label'] = y_train.values\n",
    "\n",
    "\n",
    "# create a sub DataFrame\n",
    "cvec_invest_df = cvec_text_df[cvec_text_df['subreddit_label'] == 'investing'].drop(columns=['subreddit_label'])\n",
    "\n",
    "# plot top occuring words\n",
    "plt.figure(figsize=(6,4))\n",
    "plt.title('Top 10 most occuring words in r/investing subreddit, excluding stopwords')\n",
    "plt.xlabel('Word counts')\n",
    "plt.ylabel('r/investing Word')\n",
    "cvec_invest_df.sum().sort_values(ascending=False).head(10).plot(kind='barh', color='orange');"
   ]
  },
  {
   "cell_type": "markdown",
   "id": "difficult-bleeding",
   "metadata": {},
   "source": [
    "***Similarly, I am adding 'stock' and 'stocks' to the stopwords.***"
   ]
  },
  {
   "cell_type": "code",
   "execution_count": 72,
   "id": "fallen-defensive",
   "metadata": {},
   "outputs": [],
   "source": [
    "# add 'debt' to the stop_words\n",
    "my_stop_words = text.ENGLISH_STOP_WORDS.union(['debt', 'stock', 'stocks'])"
   ]
  },
  {
   "cell_type": "code",
   "execution_count": 73,
   "id": "hundred-fight",
   "metadata": {},
   "outputs": [],
   "source": [
    "cvec = CountVectorizer(stop_words=my_stop_words)\n",
    "\n",
    "# fit the CountVectorizer transformer to X_train and transform X_train \n",
    "cvec.fit(X_train)\n",
    "cvec_text = cvec.transform(X_train)\n",
    "\n",
    "# create a dataframe with the CountVectorized X_train\n",
    "cvec_text_df = pd.DataFrame(cvec_text.todense(), columns=cvec.get_feature_names())\n",
    "\n",
    "# add the subreddit_label column to the DataFrame\n",
    "cvec_text_df['subreddit_label'] = y_train.values"
   ]
  },
  {
   "cell_type": "code",
   "execution_count": 75,
   "id": "southeast-religious",
   "metadata": {},
   "outputs": [
    {
     "data": {
      "image/png": "[encoded data removed]",
      "text/plain": [
       "<Figure size 432x288 with 1 Axes>"
      ]
     },
     "metadata": {
      "needs_background": "light"
     },
     "output_type": "display_data"
    }
   ],
   "source": [
    "# create a sub DataFrame\n",
    "cvec_invest_df = cvec_text_df[cvec_text_df['subreddit_label'] == 'investing'].drop(columns=['subreddit_label'])\n",
    "\n",
    "# plot top occuring words\n",
    "plt.figure(figsize=(6,4))\n",
    "plt.title('Top 10 most occuring words in r/investing subreddit, excluding stopwords +\"stock(s)\"')\n",
    "plt.xlabel('Word counts')\n",
    "plt.ylabel('r/investing Word')\n",
    "cvec_invest_df.sum().sort_values(ascending=False).head(10).plot(kind='barh', color='orange');"
   ]
  },
  {
   "cell_type": "markdown",
   "id": "arbitrary-healing",
   "metadata": {},
   "source": [
    "### Using Pipeline to compare models with different Vectorizers and Models."
   ]
  },
  {
   "cell_type": "markdown",
   "id": "active-monroe",
   "metadata": {},
   "source": [
    "#### Model 1: CountVectorizer + Logistic Regression"
   ]
  },
  {
   "cell_type": "code",
   "execution_count": 21,
   "id": "interpreted-advocacy",
   "metadata": {},
   "outputs": [
    {
     "data": {
      "text/plain": [
       "(1.0, 0.896)"
      ]
     },
     "execution_count": 21,
     "metadata": {},
     "output_type": "execute_result"
    }
   ],
   "source": [
    "pipe = Pipeline([\n",
    "    ('cv', CountVectorizer()),\n",
    "    ('lr', LogisticRegressionCV(solver='liblinear'))\n",
    "])\n",
    "\n",
    "pipe.fit(X_train, y_train)\n",
    "pipe.score(X_train, y_train), pipe.score(X_test, y_test)"
   ]
  },
  {
   "cell_type": "markdown",
   "id": "devoted-classroom",
   "metadata": {},
   "source": [
    "#### Model 2: TF-IDF Vectorizer + Logistic Regression"
   ]
  },
  {
   "cell_type": "code",
   "execution_count": 22,
   "id": "invisible-string",
   "metadata": {},
   "outputs": [
    {
     "data": {
      "text/plain": [
       "(1.0, 0.904)"
      ]
     },
     "execution_count": 22,
     "metadata": {},
     "output_type": "execute_result"
    }
   ],
   "source": [
    "pipe = Pipeline([\n",
    "    ('cv', TfidfVectorizer()),\n",
    "    ('lr', LogisticRegressionCV(solver='liblinear'))\n",
    "])\n",
    "\n",
    "pipe.fit(X_train, y_train)\n",
    "pipe.score(X_train, y_train), pipe.score(X_test, y_test)"
   ]
  },
  {
   "cell_type": "markdown",
   "id": "registered-juice",
   "metadata": {},
   "source": [
    "#### Model 3: CountVectorizer + Multinomial naive bayes"
   ]
  },
  {
   "cell_type": "code",
   "execution_count": 23,
   "id": "pressed-junior",
   "metadata": {},
   "outputs": [
    {
     "data": {
      "text/plain": [
       "(0.9853333333333333, 0.904)"
      ]
     },
     "execution_count": 23,
     "metadata": {},
     "output_type": "execute_result"
    }
   ],
   "source": [
    "pipe = Pipeline([\n",
    "    ('cv', CountVectorizer()),\n",
    "    ('mnb', MultinomialNB())\n",
    "])\n",
    "\n",
    "pipe.fit(X_train, y_train)\n",
    "pipe.score(X_train, y_train), pipe.score(X_test, y_test)"
   ]
  },
  {
   "cell_type": "markdown",
   "id": "naval-sheriff",
   "metadata": {},
   "source": [
    "#### Model 4: TF-IDF Vectorizer + Multinomial naive bayes"
   ]
  },
  {
   "cell_type": "code",
   "execution_count": 24,
   "id": "unknown-influence",
   "metadata": {},
   "outputs": [
    {
     "data": {
      "text/plain": [
       "(0.9853333333333333, 0.896)"
      ]
     },
     "execution_count": 24,
     "metadata": {},
     "output_type": "execute_result"
    }
   ],
   "source": [
    "pipe = Pipeline([\n",
    "    ('tf', TfidfVectorizer()),\n",
    "    ('mnb', MultinomialNB())\n",
    "])\n",
    "\n",
    "pipe.fit(X_train, y_train)\n",
    "pipe.score(X_train, y_train), pipe.score(X_test, y_test)"
   ]
  },
  {
   "cell_type": "markdown",
   "id": "biblical-letter",
   "metadata": {},
   "source": [
    "#### Model 5: CountVectorizer + DecisionTree"
   ]
  },
  {
   "cell_type": "code",
   "execution_count": 25,
   "id": "straight-budapest",
   "metadata": {},
   "outputs": [],
   "source": [
    "from sklearn.tree import export_text, DecisionTreeClassifier, plot_tree"
   ]
  },
  {
   "cell_type": "code",
   "execution_count": 26,
   "id": "norman-joyce",
   "metadata": {},
   "outputs": [
    {
     "data": {
      "text/plain": [
       "(0.8533333333333334, 0.856)"
      ]
     },
     "execution_count": 26,
     "metadata": {},
     "output_type": "execute_result"
    }
   ],
   "source": [
    "pipe = Pipeline([\n",
    "    ('cv', CountVectorizer()),\n",
    "    ('dtc', DecisionTreeClassifier(max_depth=10, random_state=42))\n",
    "])\n",
    "\n",
    "pipe.fit(X_train, y_train)\n",
    "pipe.score(X_train, y_train), pipe.score(X_test, y_test)"
   ]
  },
  {
   "cell_type": "markdown",
   "id": "noble-request",
   "metadata": {},
   "source": [
    "#### Model 6: TF-IDF Vectorizer + DecisionTree"
   ]
  },
  {
   "cell_type": "code",
   "execution_count": 27,
   "id": "strange-identity",
   "metadata": {},
   "outputs": [
    {
     "data": {
      "text/plain": [
       "(0.868, 0.86)"
      ]
     },
     "execution_count": 27,
     "metadata": {},
     "output_type": "execute_result"
    }
   ],
   "source": [
    "pipe = Pipeline([\n",
    "    ('tf', TfidfVectorizer()),\n",
    "    ('dtc', DecisionTreeClassifier(max_depth=10, random_state=42))\n",
    "])\n",
    "\n",
    "pipe.fit(X_train, y_train)\n",
    "pipe.score(X_train, y_train), pipe.score(X_test, y_test)"
   ]
  },
  {
   "cell_type": "markdown",
   "id": "responsible-invitation",
   "metadata": {},
   "source": [
    "#### Model 7: CountVectorizer + RandomForest"
   ]
  },
  {
   "cell_type": "code",
   "execution_count": 28,
   "id": "secret-guarantee",
   "metadata": {},
   "outputs": [],
   "source": [
    "from sklearn.ensemble import RandomForestClassifier "
   ]
  },
  {
   "cell_type": "code",
   "execution_count": 29,
   "id": "native-colleague",
   "metadata": {},
   "outputs": [
    {
     "data": {
      "text/plain": [
       "(1.0, 0.88)"
      ]
     },
     "execution_count": 29,
     "metadata": {},
     "output_type": "execute_result"
    }
   ],
   "source": [
    "pipe = Pipeline([\n",
    "    ('cv', CountVectorizer()),\n",
    "    ('rfc', RandomForestClassifier(random_state=42))\n",
    "])\n",
    "\n",
    "pipe.fit(X_train, y_train)\n",
    "pipe.score(X_train, y_train), pipe.score(X_test, y_test)"
   ]
  },
  {
   "cell_type": "markdown",
   "id": "declared-spanish",
   "metadata": {},
   "source": [
    "#### Model 8: TF-IDF Vectorizer + RandomForest"
   ]
  },
  {
   "cell_type": "code",
   "execution_count": 30,
   "id": "opened-nation",
   "metadata": {},
   "outputs": [
    {
     "data": {
      "text/plain": [
       "(1.0, 0.872)"
      ]
     },
     "execution_count": 30,
     "metadata": {},
     "output_type": "execute_result"
    }
   ],
   "source": [
    "pipe = Pipeline([\n",
    "    ('tf', TfidfVectorizer()),\n",
    "    ('rfc', RandomForestClassifier(random_state=42))\n",
    "])\n",
    "\n",
    "pipe.fit(X_train, y_train)\n",
    "pipe.score(X_train, y_train), pipe.score(X_test, y_test)"
   ]
  },
  {
   "cell_type": "markdown",
   "id": "confident-account",
   "metadata": {},
   "source": [
    "#### Model 9: CountVectorizer + AdaBoost"
   ]
  },
  {
   "cell_type": "code",
   "execution_count": 32,
   "id": "palestinian-ethernet",
   "metadata": {},
   "outputs": [],
   "source": [
    "from sklearn.ensemble import AdaBoostClassifier"
   ]
  },
  {
   "cell_type": "code",
   "execution_count": 33,
   "id": "opposed-entrepreneur",
   "metadata": {},
   "outputs": [
    {
     "data": {
      "text/plain": [
       "(0.896, 0.884)"
      ]
     },
     "execution_count": 33,
     "metadata": {},
     "output_type": "execute_result"
    }
   ],
   "source": [
    "pipe = Pipeline([\n",
    "    ('cv', CountVectorizer()),\n",
    "    ('abc', AdaBoostClassifier(random_state=42))\n",
    "])\n",
    "\n",
    "pipe.fit(X_train, y_train)\n",
    "pipe.score(X_train, y_train), pipe.score(X_test, y_test)"
   ]
  },
  {
   "cell_type": "markdown",
   "id": "charged-english",
   "metadata": {},
   "source": [
    "#### Model 10: TF-IDF Vectorizer + AdaBoost"
   ]
  },
  {
   "cell_type": "code",
   "execution_count": 34,
   "id": "proprietary-tutorial",
   "metadata": {},
   "outputs": [
    {
     "data": {
      "text/plain": [
       "(0.916, 0.868)"
      ]
     },
     "execution_count": 34,
     "metadata": {},
     "output_type": "execute_result"
    }
   ],
   "source": [
    "pipe = Pipeline([\n",
    "    ('tf', TfidfVectorizer()),\n",
    "    ('abc', AdaBoostClassifier(random_state=42))\n",
    "])\n",
    "\n",
    "pipe.fit(X_train, y_train)\n",
    "pipe.score(X_train, y_train), pipe.score(X_test, y_test)"
   ]
  },
  {
   "cell_type": "markdown",
   "id": "stopped-qualification",
   "metadata": {},
   "source": [
    "#### Model 11: CountVectorizer + SVM  \n",
    "According to the SVM lecture: doing a kernel SVM with polynomial kernel degree = 2 has been shown to work really well for NLP data!"
   ]
  },
  {
   "cell_type": "code",
   "execution_count": 35,
   "id": "wired-apparatus",
   "metadata": {},
   "outputs": [],
   "source": [
    "from sklearn.svm import SVC"
   ]
  },
  {
   "cell_type": "code",
   "execution_count": 36,
   "id": "portuguese-necessity",
   "metadata": {},
   "outputs": [
    {
     "data": {
      "text/plain": [
       "(0.9786666666666667, 0.908)"
      ]
     },
     "execution_count": 36,
     "metadata": {},
     "output_type": "execute_result"
    }
   ],
   "source": [
    "pipe = Pipeline([\n",
    "    ('cv', CountVectorizer()),\n",
    "    ('svc', SVC())\n",
    "])\n",
    "\n",
    "pipe.fit(X_train, y_train)\n",
    "pipe.score(X_train, y_train), pipe.score(X_test, y_test)"
   ]
  },
  {
   "cell_type": "markdown",
   "id": "engaging-analyst",
   "metadata": {},
   "source": [
    "#### Model 12: TF-IDF Vectorizer + SVM"
   ]
  },
  {
   "cell_type": "code",
   "execution_count": 37,
   "id": "nearby-gathering",
   "metadata": {},
   "outputs": [
    {
     "data": {
      "text/plain": [
       "(1.0, 0.916)"
      ]
     },
     "execution_count": 37,
     "metadata": {},
     "output_type": "execute_result"
    }
   ],
   "source": [
    "pipe = Pipeline([\n",
    "    ('tf', TfidfVectorizer()),\n",
    "    ('svc', SVC())\n",
    "])\n",
    "\n",
    "pipe.fit(X_train, y_train)\n",
    "pipe.score(X_train, y_train), pipe.score(X_test, y_test)"
   ]
  },
  {
   "cell_type": "markdown",
   "id": "consistent-liberia",
   "metadata": {},
   "source": [
    "## My best model is: TF-IDF Vectorizer + SVM (YEAH!!)\n",
    "This is the best model because it has the highest accuracy score in the testing set."
   ]
  },
  {
   "cell_type": "code",
   "execution_count": 38,
   "id": "naked-stranger",
   "metadata": {},
   "outputs": [
    {
     "data": {
      "text/plain": [
       "(1.0, 0.916)"
      ]
     },
     "execution_count": 38,
     "metadata": {},
     "output_type": "execute_result"
    }
   ],
   "source": [
    "pipe = Pipeline([\n",
    "    ('tf', TfidfVectorizer()),\n",
    "    ('svc', SVC())\n",
    "])\n",
    "\n",
    "pipe.fit(X_train, y_train)\n",
    "pipe.score(X_train, y_train), pipe.score(X_test, y_test)"
   ]
  },
  {
   "cell_type": "markdown",
   "id": "conscious-finder",
   "metadata": {},
   "source": [
    "### Let's GridSearch! "
   ]
  },
  {
   "cell_type": "code",
   "execution_count": 39,
   "id": "magnetic-illustration",
   "metadata": {},
   "outputs": [],
   "source": [
    "from sklearn.model_selection import GridSearchCV"
   ]
  },
  {
   "cell_type": "code",
   "execution_count": 40,
   "id": "sized-alaska",
   "metadata": {},
   "outputs": [],
   "source": [
    "# Example \n",
    "# # Parameters of pipelines can be set using ‘__’ separated parameter names:\n",
    "# param_grid = {\n",
    "#     'pca__n_components': [5, 15, 30, 45, 64],\n",
    "#     'logistic__C': np.logspace(-4, 4, 4),\n",
    "# }\n",
    "# search = GridSearchCV(pipe, param_grid, n_jobs=-1)\n",
    "# search.fit(X_digits, y_digits)"
   ]
  },
  {
   "cell_type": "code",
   "execution_count": 44,
   "id": "comparable-portable",
   "metadata": {},
   "outputs": [],
   "source": [
    "# Instantiate the transformers and estimators \n",
    "tf = TfidfVectorizer()\n",
    "svc = SVC()"
   ]
  },
  {
   "cell_type": "code",
   "execution_count": 45,
   "id": "enclosed-salem",
   "metadata": {},
   "outputs": [],
   "source": [
    "tf_svc_pipe = Pipeline([\n",
    "    ('tf', TfidfVectorizer()),\n",
    "    ('svc', SVC())\n",
    "])"
   ]
  },
  {
   "cell_type": "code",
   "execution_count": 46,
   "id": "latter-ridge",
   "metadata": {},
   "outputs": [],
   "source": [
    "my_stop_words = text.ENGLISH_STOP_WORDS.union(['debt', 'stock', 'stocks'])"
   ]
  },
  {
   "cell_type": "code",
   "execution_count": 47,
   "id": "auburn-catalog",
   "metadata": {},
   "outputs": [],
   "source": [
    "pipe_params = {\n",
    "    'tf__max_features': [2_000, 3_000, 4_000, 5_000],\n",
    "    'tf__stop_words': [None, 'english', my_stop_words],\n",
    "    'tf__ngram_range': [(1,1), (1,2)],\n",
    "    'svc__C': np.linspace(0.0001, 1, 20),\n",
    "    'svc__kernel': ['rbf', 'poly', 'sigmoid'],\n",
    "    'svc__degree': [2, 3],\n",
    "    \n",
    "}"
   ]
  },
  {
   "cell_type": "code",
   "execution_count": 48,
   "id": "muslim-reality",
   "metadata": {},
   "outputs": [],
   "source": [
    "gs_tf_svc = GridSearchCV(tf_svc_pipe,\n",
    "                        param_grid = pipe_params,\n",
    "                        cv=5)"
   ]
  },
  {
   "cell_type": "code",
   "execution_count": 49,
   "id": "downtown-ethernet",
   "metadata": {},
   "outputs": [
    {
     "data": {
      "text/plain": [
       "GridSearchCV(cv=5,\n",
       "             estimator=Pipeline(steps=[('tf', TfidfVectorizer()),\n",
       "                                       ('svc', SVC())]),\n",
       "             param_grid={'svc__C': array([1.00000000e-04, 5.27263158e-02, 1.05352632e-01, 1.57978947e-01,\n",
       "       2.10605263e-01, 2.63231579e-01, 3.15857895e-01, 3.68484211e-01,\n",
       "       4.21110526e-01, 4.73736842e-01, 5.26363158e-01, 5.78989474e-01,\n",
       "       6.31615789e-01, 6.84242105e-01, 7.36868421e-01, 7.89494737e-...\n",
       "                         'tf__max_features': [2000, 3000, 4000, 5000],\n",
       "                         'tf__ngram_range': [(1, 1), (1, 2)],\n",
       "                         'tf__stop_words': [None, 'english',\n",
       "                                            frozenset({'a', 'about', 'above',\n",
       "                                                       'across', 'after',\n",
       "                                                       'afterwards', 'again',\n",
       "                                                       'against', 'all',\n",
       "                                                       'almost', 'alone',\n",
       "                                                       'along', 'already',\n",
       "                                                       'also', 'although',\n",
       "                                                       'always', 'am', 'among',\n",
       "                                                       'amongst', 'amoungst',\n",
       "                                                       'amount', 'an', 'and',\n",
       "                                                       'another', 'any',\n",
       "                                                       'anyhow', 'anyone',\n",
       "                                                       'anything', 'anyway',\n",
       "                                                       'anywhere', ...})]})"
      ]
     },
     "execution_count": 49,
     "metadata": {},
     "output_type": "execute_result"
    }
   ],
   "source": [
    "gs_tf_svc.fit(X_train, y_train)"
   ]
  },
  {
   "cell_type": "code",
   "execution_count": 50,
   "id": "alpine-respect",
   "metadata": {},
   "outputs": [
    {
     "data": {
      "text/plain": [
       "{'svc__C': 1.0,\n",
       " 'svc__degree': 2,\n",
       " 'svc__kernel': 'rbf',\n",
       " 'tf__max_features': 2000,\n",
       " 'tf__ngram_range': (1, 2),\n",
       " 'tf__stop_words': 'english'}"
      ]
     },
     "execution_count": 50,
     "metadata": {},
     "output_type": "execute_result"
    }
   ],
   "source": [
    "gs_tf_svc.best_params_"
   ]
  },
  {
   "cell_type": "code",
   "execution_count": 51,
   "id": "sustainable-spray",
   "metadata": {},
   "outputs": [
    {
     "data": {
      "text/plain": [
       "0.868"
      ]
     },
     "execution_count": 51,
     "metadata": {},
     "output_type": "execute_result"
    }
   ],
   "source": [
    "gs_tf_svc.best_score_"
   ]
  },
  {
   "cell_type": "code",
   "execution_count": 52,
   "id": "cultural-specialist",
   "metadata": {},
   "outputs": [
    {
     "data": {
      "text/plain": [
       "(0.988, 0.924)"
      ]
     },
     "execution_count": 52,
     "metadata": {},
     "output_type": "execute_result"
    }
   ],
   "source": [
    "gs_tf_svc.score(X_train, y_train), gs_tf_svc.score(X_test, y_test)"
   ]
  },
  {
   "cell_type": "markdown",
   "id": "cloudy-iceland",
   "metadata": {},
   "source": [
    "### Model Evaluations: Confusion Matrix  \n",
    "\n",
    "According to GridSearch, the best parameters are: \n",
    "```python\n",
    "{'svc__C': 1.0,\n",
    " 'svc__degree': 2,\n",
    " 'svc__kernel': 'rbf',\n",
    " 'tf__max_features': 2000,\n",
    " 'tf__ngram_range': (1, 2),\n",
    " 'tf__stop_words': 'english'}\n",
    "```\n",
    "I am going to use the grid searched model with the above parameters for model evaluations and misclassification analysis.  "
   ]
  },
  {
   "cell_type": "code",
   "execution_count": 79,
   "id": "sublime-edmonton",
   "metadata": {},
   "outputs": [
    {
     "data": {
      "image/png": "[encoded data removed]",
      "text/plain": [
       "<Figure size 432x288 with 2 Axes>"
      ]
     },
     "metadata": {
      "needs_background": "light"
     },
     "output_type": "display_data"
    }
   ],
   "source": [
    "plot_confusion_matrix(gs_tf_svc, X_test, y_test, cmap='Greens');"
   ]
  },
  {
   "cell_type": "markdown",
   "id": "indian-kelly",
   "metadata": {},
   "source": [
    "### Misclassification Analysis"
   ]
  },
  {
   "cell_type": "code",
   "execution_count": 80,
   "id": "mighty-theory",
   "metadata": {},
   "outputs": [],
   "source": [
    "# store predictions\n",
    "preds = gs_tf_svc.predict(X_test)\n",
    "predictions_dict = {\n",
    "    # original, not cv - will be more readable\n",
    "    'original titles': X_test,\n",
    "    # true \n",
    "    'true_subreddit': y_test,\n",
    "    # predicted\n",
    "    'predictions': preds\n",
    "}\n",
    "# cast to df\n",
    "predicitons_df = pd.DataFrame(predictions_dict)"
   ]
  },
  {
   "cell_type": "code",
   "execution_count": 84,
   "id": "norman-cover",
   "metadata": {},
   "outputs": [],
   "source": [
    "pd.options.display.max_colwidth = 250"
   ]
  },
  {
   "cell_type": "code",
   "execution_count": 85,
   "id": "changing-condition",
   "metadata": {},
   "outputs": [
    {
     "data": {
      "text/html": [
       "<div>\n",
       "<style scoped>\n",
       "    .dataframe tbody tr th:only-of-type {\n",
       "        vertical-align: middle;\n",
       "    }\n",
       "\n",
       "    .dataframe tbody tr th {\n",
       "        vertical-align: top;\n",
       "    }\n",
       "\n",
       "    .dataframe thead th {\n",
       "        text-align: right;\n",
       "    }\n",
       "</style>\n",
       "<table border=\"1\" class=\"dataframe\">\n",
       "  <thead>\n",
       "    <tr style=\"text-align: right;\">\n",
       "      <th></th>\n",
       "      <th>original titles</th>\n",
       "      <th>true_subreddit</th>\n",
       "      <th>predictions</th>\n",
       "    </tr>\n",
       "  </thead>\n",
       "  <tbody>\n",
       "    <tr>\n",
       "      <th>315</th>\n",
       "      <td>Selling car 14.5k lien private party? Irs form 8300?</td>\n",
       "      <td>debtfree</td>\n",
       "      <td>investing</td>\n",
       "    </tr>\n",
       "    <tr>\n",
       "      <th>916</th>\n",
       "      <td>Hedge Funds handed windfall by reddits memestock shenanigans</td>\n",
       "      <td>investing</td>\n",
       "      <td>debtfree</td>\n",
       "    </tr>\n",
       "    <tr>\n",
       "      <th>589</th>\n",
       "      <td>Merrill Edge Guided - Personal Experience</td>\n",
       "      <td>investing</td>\n",
       "      <td>debtfree</td>\n",
       "    </tr>\n",
       "    <tr>\n",
       "      <th>99</th>\n",
       "      <td>Collection Accounts Blog</td>\n",
       "      <td>debtfree</td>\n",
       "      <td>investing</td>\n",
       "    </tr>\n",
       "    <tr>\n",
       "      <th>556</th>\n",
       "      <td>ПроИнвестор , инвестирывание</td>\n",
       "      <td>investing</td>\n",
       "      <td>debtfree</td>\n",
       "    </tr>\n",
       "    <tr>\n",
       "      <th>947</th>\n",
       "      <td>I am taking away your future and you feel safer.</td>\n",
       "      <td>investing</td>\n",
       "      <td>debtfree</td>\n",
       "    </tr>\n",
       "    <tr>\n",
       "      <th>912</th>\n",
       "      <td>What’s up with FaceBook Censorship?</td>\n",
       "      <td>investing</td>\n",
       "      <td>debtfree</td>\n",
       "    </tr>\n",
       "    <tr>\n",
       "      <th>896</th>\n",
       "      <td>Oracle of RedditHa - Disccuss</td>\n",
       "      <td>investing</td>\n",
       "      <td>debtfree</td>\n",
       "    </tr>\n",
       "    <tr>\n",
       "      <th>80</th>\n",
       "      <td>It’s a good day.</td>\n",
       "      <td>debtfree</td>\n",
       "      <td>investing</td>\n",
       "    </tr>\n",
       "    <tr>\n",
       "      <th>801</th>\n",
       "      <td>Da fuq do I do? Aka help me not fail more</td>\n",
       "      <td>investing</td>\n",
       "      <td>debtfree</td>\n",
       "    </tr>\n",
       "    <tr>\n",
       "      <th>748</th>\n",
       "      <td>Hey I have a question I have around 100k what should I do with them or maybe a better question what businesse should I start with that money</td>\n",
       "      <td>investing</td>\n",
       "      <td>debtfree</td>\n",
       "    </tr>\n",
       "    <tr>\n",
       "      <th>128</th>\n",
       "      <td>Let's see if you can help me</td>\n",
       "      <td>debtfree</td>\n",
       "      <td>investing</td>\n",
       "    </tr>\n",
       "    <tr>\n",
       "      <th>841</th>\n",
       "      <td>Bagger be bagger always !!!!</td>\n",
       "      <td>investing</td>\n",
       "      <td>debtfree</td>\n",
       "    </tr>\n",
       "    <tr>\n",
       "      <th>160</th>\n",
       "      <td>https://paypal.me/pools/c/8v7h3oahBo</td>\n",
       "      <td>debtfree</td>\n",
       "      <td>investing</td>\n",
       "    </tr>\n",
       "    <tr>\n",
       "      <th>838</th>\n",
       "      <td>How to profit from possible student loan forgiveness if one doesn't have any student loans?</td>\n",
       "      <td>investing</td>\n",
       "      <td>debtfree</td>\n",
       "    </tr>\n",
       "    <tr>\n",
       "      <th>48</th>\n",
       "      <td>I’m so very excited to see this today! 😀</td>\n",
       "      <td>debtfree</td>\n",
       "      <td>investing</td>\n",
       "    </tr>\n",
       "    <tr>\n",
       "      <th>784</th>\n",
       "      <td>Question on Imputed Tips and Declaring Them</td>\n",
       "      <td>investing</td>\n",
       "      <td>debtfree</td>\n",
       "    </tr>\n",
       "    <tr>\n",
       "      <th>496</th>\n",
       "      <td>I'm stuck! Continue snowball or chip away?</td>\n",
       "      <td>debtfree</td>\n",
       "      <td>investing</td>\n",
       "    </tr>\n",
       "    <tr>\n",
       "      <th>962</th>\n",
       "      <td>Do you often feel the fear of missing out? What do you do?</td>\n",
       "      <td>investing</td>\n",
       "      <td>debtfree</td>\n",
       "    </tr>\n",
       "  </tbody>\n",
       "</table>\n",
       "</div>"
      ],
      "text/plain": [
       "                                                                                                                                  original titles  \\\n",
       "315                                                                                          Selling car 14.5k lien private party? Irs form 8300?   \n",
       "916                                                                                  Hedge Funds handed windfall by reddits memestock shenanigans   \n",
       "589                                                                                                     Merrill Edge Guided - Personal Experience   \n",
       "99                                                                                                                       Collection Accounts Blog   \n",
       "556                                                                                                                  ПроИнвестор , инвестирывание   \n",
       "947                                                                                              I am taking away your future and you feel safer.   \n",
       "912                                                                                                           What’s up with FaceBook Censorship?   \n",
       "896                                                                                                                 Oracle of RedditHa - Disccuss   \n",
       "80                                                                                                                               It’s a good day.   \n",
       "801                                                                                                     Da fuq do I do? Aka help me not fail more   \n",
       "748  Hey I have a question I have around 100k what should I do with them or maybe a better question what businesse should I start with that money   \n",
       "128                                                                                                                  Let's see if you can help me   \n",
       "841                                                                                                                  Bagger be bagger always !!!!   \n",
       "160                                                                                                          https://paypal.me/pools/c/8v7h3oahBo   \n",
       "838                                                   How to profit from possible student loan forgiveness if one doesn't have any student loans?   \n",
       "48                                                                                                       I’m so very excited to see this today! 😀   \n",
       "784                                                                                                   Question on Imputed Tips and Declaring Them   \n",
       "496                                                                                                    I'm stuck! Continue snowball or chip away?   \n",
       "962                                                                                    Do you often feel the fear of missing out? What do you do?   \n",
       "\n",
       "    true_subreddit predictions  \n",
       "315       debtfree   investing  \n",
       "916      investing    debtfree  \n",
       "589      investing    debtfree  \n",
       "99        debtfree   investing  \n",
       "556      investing    debtfree  \n",
       "947      investing    debtfree  \n",
       "912      investing    debtfree  \n",
       "896      investing    debtfree  \n",
       "80        debtfree   investing  \n",
       "801      investing    debtfree  \n",
       "748      investing    debtfree  \n",
       "128       debtfree   investing  \n",
       "841      investing    debtfree  \n",
       "160       debtfree   investing  \n",
       "838      investing    debtfree  \n",
       "48        debtfree   investing  \n",
       "784      investing    debtfree  \n",
       "496       debtfree   investing  \n",
       "962      investing    debtfree  "
      ]
     },
     "execution_count": 85,
     "metadata": {},
     "output_type": "execute_result"
    }
   ],
   "source": [
    "predicitons_df[predicitons_df['true_subreddit'] != predicitons_df['predictions']]"
   ]
  },
  {
   "cell_type": "code",
   "execution_count": null,
   "id": "thorough-indianapolis",
   "metadata": {},
   "outputs": [],
   "source": []
  }
 ],
 "metadata": {
  "kernelspec": {
   "display_name": "Python 3",
   "language": "python",
   "name": "python3"
  },
  "language_info": {
   "codemirror_mode": {
    "name": "ipython",
    "version": 3
   },
   "file_extension": ".py",
   "mimetype": "text/x-python",
   "name": "python",
   "nbconvert_exporter": "python",
   "pygments_lexer": "ipython3",
   "version": "3.8.5"
  }
 },
 "nbformat": 4,
 "nbformat_minor": 5
}
