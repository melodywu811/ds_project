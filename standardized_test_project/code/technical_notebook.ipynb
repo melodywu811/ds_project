{
 "cells": [
  {
   "cell_type": "markdown",
   "metadata": {},
   "source": [
    "# ACT/SAT Data EDA and Data Visualization\n",
    "\n",
    "**Prepared by: Melody Wu**  \n",
    "\n",
    "<img src=\"https://media.npr.org/assets/img/2020/06/11/npr_college_test_demise_franziska_barczyk_final_custom-95a001405a5cae85cded607043dadf718fedeb44-s1600-c85.jpg\" style=\"height: 400px\">"
   ]
  },
  {
   "cell_type": "markdown",
   "metadata": {},
   "source": [
    "--- \n",
    "## Contents:\n",
    "The rest of the report is organized as below: \n",
    "1. Problem Statement\n",
    "2. Background\n",
    "3. Data Import and Cleaning\n",
    "4. Exploratory Data Analysis (EDA)\n",
    "5. Data Visualization\n",
    "6. Data Export\n",
    "7. Conclusions and Recommendations"
   ]
  },
  {
   "cell_type": "markdown",
   "metadata": {},
   "source": [
    "## 1. Motivations and Problem Statement"
   ]
  },
  {
   "cell_type": "markdown",
   "metadata": {},
   "source": [
    "### 1.1 Motivations"
   ]
  },
  {
   "cell_type": "markdown",
   "metadata": {},
   "source": [
    "According to [U.S. Department of Education](https://www.ed.gov/news/press-releases/new-state-state-college-attainment-numbers-show-progress-toward-2020-goal), the college attainment rate of the State of California (37.6%) is below the national average (38.8%). One way to increase the number of college-going students is to increase the number of students applying to colleges.  \n",
    "\n",
    "According to the [California Department of Education](https://www.cde.ca.gov/ds/sd/cb/ceffingertipfacts.asp), the State of California has over 1,000 school districts (including 346 Unifed, 525 Elementary, 78 High, and 88 Other). Amongst these school districts, there is significant heterogeneity in terms of enrollment sizes, budget allocations, family and student demographics (e.g., socio-economic status(SES)). Moreover, school quality, educational outcomes, and college readniness differ largely across there school districts.  \n",
    "\n",
    "In order to increase the number of student applying to 4-year colleges, and ultimately to increase college attendance and attainment, the Department of Education is proposing a \"Test for Success CA\" Program to the State of California, which aims to provide extra funding for school distrcts that have low college application rates.   \n",
    "\n",
    "With these funding, the school districts can implement relevant interventions, such as free test prep workshops and fee waivers. The goal of this program is to have more students apply to four-year colleges. Unfortunately, many of the schools and school districts do not have data on students' four-year college application status, namely whether a student has applied to four-year colleges.  "
   ]
  },
  {
   "cell_type": "markdown",
   "metadata": {},
   "source": [
    "### 1.2 Problem Statement"
   ]
  },
  {
   "cell_type": "markdown",
   "metadata": {},
   "source": [
    "Before 2020, standardized tests (i.e., the ACT and SAT tests) are mandatory requirements for most of the four-year colleges. Therefore, ACT/SAT participation rates of a school district can be used as a proxy of this school district's application status, assuming that students have taken the ACT/SAT tests also have applied to four-year colleges.   \n",
    "\n",
    "By analyzing the ACT/SAT data and identifying the school districts that have lower ACT/SAT test participation rates, the State of California can allocate resources to school districts in need more efficiently and equitably. "
   ]
  },
  {
   "cell_type": "markdown",
   "metadata": {},
   "source": [
    "## 2. Background"
   ]
  },
  {
   "cell_type": "markdown",
   "metadata": {},
   "source": [
    "The SAT and ACT are standardized tests that many colleges and universities in the United States require for their admissions process. This score is used along with other materials such as grade point average (GPA) and essay responses to determine whether or not a potential student will be accepted to the university.\n",
    "\n",
    "The SAT has two sections of the test: Evidence-Based Reading and Writing and Math. The ACT has 4 sections: English, Mathematics, Reading, and Science, with an additional optional writing section. They have different score ranges, which you can read more about on their websites or additional outside sources (a quick Google search will help you understand the scores for each test):\n",
    "* [SAT](https://collegereadiness.collegeboard.org/sat)\n",
    "* [ACT](https://www.act.org/content/act/en.html)\n",
    "\n",
    "Although schools have made SAT/ACT requirement optional for their Fall 2021 applications, submitting SAT/ACT scores had been one of the mandatory requirements for college applications. School admission officials use SAT/ACT scores for admissions decisions and awarding merit-based scholarships. Because SAT/ACT tests are not free (fee waivers are available for qualifying students) and require students a significant amount of time to study and prepare, not all students take SAT/ACT tests; as a result, not all student can apply and attend college. This issue is especially daunting for schools and school districts with a high distribution of low-income, minority students. These students not only lack the resources but also the readiness to take SAT/ACT tests and further apply and attend college. Thus, states should identify interventions, recommend programs, and allocate resources to these districts in need. "
   ]
  },
  {
   "cell_type": "markdown",
   "metadata": {},
   "source": [
    "### 2.1 Data Selection\n",
    "\n",
    "In this project, we will use the 2019 SAT/ACT data from the State of California as a case study to examine performance gaps among different schools districts and identify the lower performaning districts, which have lower percentage of ACT/SAT test takers and lower overall student performance. \n",
    "\n",
    "In addition, we will benchmark California's ACT/SAT performance with other States to show how urgently the State need to increase resources in college readiness programs.  \n",
    "\n",
    "The below data sets will be used in this project. \n",
    "\n",
    "* [`act_2019.csv`](./data/act_2019.csv): 2019 ACT Scores by State\n",
    "* [`sat_2019.csv`](./data/sat_2019.csv): 2019 SAT Scores by State\n",
    "* [`act_2019_ca.csv`](./data/act_2019_ca.csv): 2019 ACT Scores in California by School\n",
    "* [`sat_2019_ca.csv`](./data/sat_2019_ca.csv): 2019 SAT Scores in California by School"
   ]
  },
  {
   "cell_type": "markdown",
   "metadata": {},
   "source": [
    "### 2.2 Outside Research"
   ]
  },
  {
   "cell_type": "markdown",
   "metadata": {},
   "source": [
    "According to [Magoosh](https://magoosh.com/hs/sat/states-that-require-the-act-or-sat/), a test preparation organization, some states require the ACT or SAT tests for all their graduating high school students, regardless whether these students intend to attend a four-year college or not. In the below figure, the green-colored states required all their Grade 12 students to take ACT/SAT tests and pay for the cost. However, California is not one of them. \n",
    "\n",
    "<img src=\"../image/magoosh_map.png\" style=\"height: 400px\">"
   ]
  },
  {
   "cell_type": "markdown",
   "metadata": {},
   "source": [
    "### 2.3 Coding Challenges\n",
    "\n",
    "1. Manually calculate mean:\n",
    "\n",
    "    Write a function that takes in values and returns the mean of the values. Create a list of numbers that you test on your function to check to make sure your function works!"
   ]
  },
  {
   "cell_type": "code",
   "execution_count": 1,
   "metadata": {},
   "outputs": [],
   "source": [
    "# mean_here() takes a list of number and return the mean/average of it. \n",
    "def mean_here(list_of_num):\n",
    "    total = 0\n",
    "    n = len(list_of_num)\n",
    "    for each in list_of_num:\n",
    "        total += each\n",
    "    return total / n"
   ]
  },
  {
   "cell_type": "code",
   "execution_count": 2,
   "metadata": {},
   "outputs": [
    {
     "data": {
      "text/plain": [
       "2.5"
      ]
     },
     "execution_count": 2,
     "metadata": {},
     "output_type": "execute_result"
    }
   ],
   "source": [
    "# testing mean_here()\n",
    "mean_here([1,2,3,4])"
   ]
  },
  {
   "cell_type": "code",
   "execution_count": 3,
   "metadata": {},
   "outputs": [
    {
     "data": {
      "text/plain": [
       "4.5"
      ]
     },
     "execution_count": 3,
     "metadata": {},
     "output_type": "execute_result"
    }
   ],
   "source": [
    "# testing mean_here\n",
    "mean_here([1,2,3,4,5,6,7,8])"
   ]
  },
  {
   "cell_type": "markdown",
   "metadata": {},
   "source": [
    "2. Manually calculate standard deviation:\n",
    "\n",
    "    The formula for standard deviation is below:\n",
    "\n",
    "    $$\\sigma = \\sqrt{\\frac{1}{n}\\sum_{i=1}^n(x_i - \\mu)^2}$$\n",
    "\n",
    "    Where $x_i$ represents each value in the dataset, $\\mu$ represents the mean of all values in the dataset and $n$ represents the number of values in the dataset.\n",
    "\n",
    "    Write a function that takes in values and returns the standard deviation of the values using the formula above. Hint: use the function you wrote above to calculate the mean! Use the list of numbers you created above to test on your function."
   ]
  },
  {
   "cell_type": "code",
   "execution_count": 4,
   "metadata": {},
   "outputs": [],
   "source": [
    "def sd_here(list_of_num):\n",
    "    total = 0\n",
    "    mu = mean_here(list_of_num)\n",
    "    n = len(list_of_num)\n",
    "    for each in list_of_num:\n",
    "        total += (each - mu)**2\n",
    "    return total / n"
   ]
  },
  {
   "cell_type": "code",
   "execution_count": 5,
   "metadata": {},
   "outputs": [
    {
     "data": {
      "text/plain": [
       "1.25"
      ]
     },
     "execution_count": 5,
     "metadata": {},
     "output_type": "execute_result"
    }
   ],
   "source": [
    "sd_here([1,2,3,4])"
   ]
  },
  {
   "cell_type": "markdown",
   "metadata": {},
   "source": [
    "3. Data cleaning function: write a function that takes in a string that is a number and a percent symbol (ex. '50%', '30.5%', etc.) and converts this to a float that is the decimal approximation of the percent. \n"
   ]
  },
  {
   "cell_type": "code",
   "execution_count": 6,
   "metadata": {},
   "outputs": [],
   "source": [
    "# strpc_to_float() takes in a string that is a number and a percent symbol and converts\n",
    "# this to a float that is the decimal approximation of the percent\n",
    "def strpc_to_float(string_percent):\n",
    "    float_percent = float(string_percent.replace('%',''))/100\n",
    "    decimal_appx = len(string_percent.replace('%','')) # setting up the decimal to round to\n",
    "    return round(float_percent,decimal_appx)"
   ]
  },
  {
   "cell_type": "code",
   "execution_count": 7,
   "metadata": {},
   "outputs": [
    {
     "data": {
      "text/plain": [
       "0.4099987"
      ]
     },
     "execution_count": 7,
     "metadata": {},
     "output_type": "execute_result"
    }
   ],
   "source": [
    "strpc_to_float('40.99987%')"
   ]
  },
  {
   "cell_type": "markdown",
   "metadata": {},
   "source": [
    "4. Importing the relevant libraries"
   ]
  },
  {
   "cell_type": "code",
   "execution_count": 8,
   "metadata": {},
   "outputs": [],
   "source": [
    "import numpy as np \n",
    "import pandas as pd\n",
    "import matplotlib.pyplot as plt # import the pyplot module \n",
    "import seaborn as sns\n",
    "import missingno as msno"
   ]
  },
  {
   "cell_type": "markdown",
   "metadata": {},
   "source": [
    "## 3. Data Import and Cleaning"
   ]
  },
  {
   "cell_type": "markdown",
   "metadata": {},
   "source": [
    "### 3.1 Loading csv files into DataFrame and assign names to the datasets\n",
    "\n",
    "The below data sets will be used in this project. \n",
    "\n",
    "* [`act_2019.csv`](./data/act_2019.csv): 2019 ACT Scores by State\n",
    "* [`sat_2019.csv`](./data/sat_2019.csv): 2019 SAT Scores by State\n",
    "* [`act_2019_ca.csv`](./data/act_2019_ca.csv): 2019 ACT Scores in California by School\n",
    "* [`sat_2019_ca.csv`](./data/sat_2019_ca.csv): 2019 SAT Scores in California by School"
   ]
  },
  {
   "cell_type": "code",
   "execution_count": 9,
   "metadata": {},
   "outputs": [],
   "source": [
    "# import using pandas.read_csv('relative path to the files') \n",
    "act_2019 = pd.read_csv('../data/act_2019.csv') # './data/act_2019.csv' is a relative path\n",
    "sat_2019 = pd.read_csv('../data/sat_2019.csv') \n",
    "act_2019_ca = pd.read_csv('../data/act_2019_ca.csv') \n",
    "sat_2019_ca = pd.read_csv('../data/sat_2019_ca.csv') "
   ]
  },
  {
   "cell_type": "markdown",
   "metadata": {},
   "source": [
    "### 3.2 Setting up the DataFrames\n",
    "#### 3.2.1 DataFrame#1: 2019 ACT Scores by State"
   ]
  },
  {
   "cell_type": "markdown",
   "metadata": {},
   "source": [
    "The 2019 ACT Scores by State file has 52 rows and 3 columns **('state', 'participation', 'composite')**. There is no missing values in this DataFrame. "
   ]
  },
  {
   "cell_type": "code",
   "execution_count": 10,
   "metadata": {},
   "outputs": [
    {
     "data": {
      "text/html": [
       "<div>\n",
       "<style scoped>\n",
       "    .dataframe tbody tr th:only-of-type {\n",
       "        vertical-align: middle;\n",
       "    }\n",
       "\n",
       "    .dataframe tbody tr th {\n",
       "        vertical-align: top;\n",
       "    }\n",
       "\n",
       "    .dataframe thead th {\n",
       "        text-align: right;\n",
       "    }\n",
       "</style>\n",
       "<table border=\"1\" class=\"dataframe\">\n",
       "  <thead>\n",
       "    <tr style=\"text-align: right;\">\n",
       "      <th></th>\n",
       "      <th>State</th>\n",
       "      <th>Participation</th>\n",
       "      <th>Composite</th>\n",
       "    </tr>\n",
       "  </thead>\n",
       "  <tbody>\n",
       "    <tr>\n",
       "      <th>0</th>\n",
       "      <td>Alabama</td>\n",
       "      <td>100%</td>\n",
       "      <td>18.9</td>\n",
       "    </tr>\n",
       "    <tr>\n",
       "      <th>1</th>\n",
       "      <td>Alaska</td>\n",
       "      <td>38%</td>\n",
       "      <td>20.1</td>\n",
       "    </tr>\n",
       "    <tr>\n",
       "      <th>2</th>\n",
       "      <td>Arizona</td>\n",
       "      <td>73%</td>\n",
       "      <td>19.0</td>\n",
       "    </tr>\n",
       "    <tr>\n",
       "      <th>3</th>\n",
       "      <td>Arkansas</td>\n",
       "      <td>100%</td>\n",
       "      <td>19.3</td>\n",
       "    </tr>\n",
       "    <tr>\n",
       "      <th>4</th>\n",
       "      <td>California</td>\n",
       "      <td>23%</td>\n",
       "      <td>22.6</td>\n",
       "    </tr>\n",
       "  </tbody>\n",
       "</table>\n",
       "</div>"
      ],
      "text/plain": [
       "        State Participation  Composite\n",
       "0     Alabama          100%       18.9\n",
       "1      Alaska           38%       20.1\n",
       "2     Arizona           73%       19.0\n",
       "3    Arkansas          100%       19.3\n",
       "4  California           23%       22.6"
      ]
     },
     "execution_count": 10,
     "metadata": {},
     "output_type": "execute_result"
    }
   ],
   "source": [
    "# displaying the first 5 rows\n",
    "act_2019.head(5)"
   ]
  },
  {
   "cell_type": "code",
   "execution_count": 11,
   "metadata": {},
   "outputs": [
    {
     "data": {
      "text/plain": [
       "State            0\n",
       "Participation    0\n",
       "Composite        0\n",
       "dtype: int64"
      ]
     },
     "execution_count": 11,
     "metadata": {},
     "output_type": "execute_result"
    }
   ],
   "source": [
    "# checking NaN of each of the columns\n",
    "# There is no missing values in this DataFrame\n",
    "act_2019.isnull().sum()"
   ]
  },
  {
   "cell_type": "code",
   "execution_count": 12,
   "metadata": {},
   "outputs": [],
   "source": [
    "# using .str.lower() to change column names to lower case\n",
    "act_2019.columns = act_2019.columns.str.lower()"
   ]
  },
  {
   "cell_type": "code",
   "execution_count": 13,
   "metadata": {},
   "outputs": [
    {
     "name": "stdout",
     "output_type": "stream",
     "text": [
      "<class 'pandas.core.frame.DataFrame'>\n",
      "RangeIndex: 52 entries, 0 to 51\n",
      "Data columns (total 3 columns):\n",
      " #   Column         Non-Null Count  Dtype  \n",
      "---  ------         --------------  -----  \n",
      " 0   state          52 non-null     object \n",
      " 1   participation  52 non-null     object \n",
      " 2   composite      52 non-null     float64\n",
      "dtypes: float64(1), object(2)\n",
      "memory usage: 1.3+ KB\n"
     ]
    }
   ],
   "source": [
    "# using .info() to check data type and found that participation rate is a string, which should be a float\n",
    "act_2019.info()"
   ]
  },
  {
   "cell_type": "markdown",
   "metadata": {},
   "source": [
    "#### 3.2.2 DataFrame#2: 2019 SAT Scores by State"
   ]
  },
  {
   "cell_type": "markdown",
   "metadata": {},
   "source": [
    "The 2019 SAT Scores by State file has 53 rows and 5 columns **('state', 'participation rate', 'ebrw', 'math', 'total')**. It is also noted that in addition to informaiton of the 50 States, this data also include informaiton of Puerto Rico and Virgin Islands. There is no missing values in this DataFrame."
   ]
  },
  {
   "cell_type": "code",
   "execution_count": 14,
   "metadata": {},
   "outputs": [
    {
     "data": {
      "text/html": [
       "<div>\n",
       "<style scoped>\n",
       "    .dataframe tbody tr th:only-of-type {\n",
       "        vertical-align: middle;\n",
       "    }\n",
       "\n",
       "    .dataframe tbody tr th {\n",
       "        vertical-align: top;\n",
       "    }\n",
       "\n",
       "    .dataframe thead th {\n",
       "        text-align: right;\n",
       "    }\n",
       "</style>\n",
       "<table border=\"1\" class=\"dataframe\">\n",
       "  <thead>\n",
       "    <tr style=\"text-align: right;\">\n",
       "      <th></th>\n",
       "      <th>State</th>\n",
       "      <th>Participation Rate</th>\n",
       "      <th>EBRW</th>\n",
       "      <th>Math</th>\n",
       "      <th>Total</th>\n",
       "    </tr>\n",
       "  </thead>\n",
       "  <tbody>\n",
       "    <tr>\n",
       "      <th>0</th>\n",
       "      <td>Alabama</td>\n",
       "      <td>7%</td>\n",
       "      <td>583</td>\n",
       "      <td>560</td>\n",
       "      <td>1143</td>\n",
       "    </tr>\n",
       "    <tr>\n",
       "      <th>1</th>\n",
       "      <td>Alaska</td>\n",
       "      <td>41%</td>\n",
       "      <td>556</td>\n",
       "      <td>541</td>\n",
       "      <td>1097</td>\n",
       "    </tr>\n",
       "    <tr>\n",
       "      <th>2</th>\n",
       "      <td>Arizona</td>\n",
       "      <td>31%</td>\n",
       "      <td>569</td>\n",
       "      <td>565</td>\n",
       "      <td>1134</td>\n",
       "    </tr>\n",
       "    <tr>\n",
       "      <th>3</th>\n",
       "      <td>Arkansas</td>\n",
       "      <td>6%</td>\n",
       "      <td>582</td>\n",
       "      <td>559</td>\n",
       "      <td>1141</td>\n",
       "    </tr>\n",
       "    <tr>\n",
       "      <th>4</th>\n",
       "      <td>California</td>\n",
       "      <td>63%</td>\n",
       "      <td>534</td>\n",
       "      <td>531</td>\n",
       "      <td>1065</td>\n",
       "    </tr>\n",
       "  </tbody>\n",
       "</table>\n",
       "</div>"
      ],
      "text/plain": [
       "        State Participation Rate  EBRW  Math  Total\n",
       "0     Alabama                 7%   583   560   1143\n",
       "1      Alaska                41%   556   541   1097\n",
       "2     Arizona                31%   569   565   1134\n",
       "3    Arkansas                 6%   582   559   1141\n",
       "4  California                63%   534   531   1065"
      ]
     },
     "execution_count": 14,
     "metadata": {},
     "output_type": "execute_result"
    }
   ],
   "source": [
    "# displaying first 5 row\n",
    "sat_2019.head()"
   ]
  },
  {
   "cell_type": "code",
   "execution_count": 15,
   "metadata": {},
   "outputs": [
    {
     "data": {
      "text/plain": [
       "State                 0\n",
       "Participation Rate    0\n",
       "EBRW                  0\n",
       "Math                  0\n",
       "Total                 0\n",
       "dtype: int64"
      ]
     },
     "execution_count": 15,
     "metadata": {},
     "output_type": "execute_result"
    }
   ],
   "source": [
    "# checking NaN and found that there is no missing data\n",
    "sat_2019.isnull().sum()"
   ]
  },
  {
   "cell_type": "code",
   "execution_count": 16,
   "metadata": {},
   "outputs": [],
   "source": [
    "sat_2019.columns = sat_2019.columns.str.lower()"
   ]
  },
  {
   "cell_type": "code",
   "execution_count": 17,
   "metadata": {},
   "outputs": [],
   "source": [
    "# drop unnecessary columns: ebrw and math\n",
    "# using df.drop(['B', 'C'], axis=1) to drop columns (axis = 1 by using column names)\n",
    "sat_2019.drop(['ebrw', 'math'], axis = 1, inplace = True)"
   ]
  },
  {
   "cell_type": "code",
   "execution_count": 18,
   "metadata": {},
   "outputs": [
    {
     "name": "stdout",
     "output_type": "stream",
     "text": [
      "<class 'pandas.core.frame.DataFrame'>\n",
      "RangeIndex: 53 entries, 0 to 52\n",
      "Data columns (total 3 columns):\n",
      " #   Column              Non-Null Count  Dtype \n",
      "---  ------              --------------  ----- \n",
      " 0   state               53 non-null     object\n",
      " 1   participation rate  53 non-null     object\n",
      " 2   total               53 non-null     int64 \n",
      "dtypes: int64(1), object(2)\n",
      "memory usage: 1.4+ KB\n"
     ]
    }
   ],
   "source": [
    "sat_2019.info()"
   ]
  },
  {
   "cell_type": "markdown",
   "metadata": {},
   "source": [
    "#### 3.2.3 DataFrame#3: 2019 ACT Scores of California"
   ]
  },
  {
   "cell_type": "markdown",
   "metadata": {},
   "source": [
    "The 2019 ACT Scores of California file has 2310 rows and 18 columns **('cds', 'ccode', 'cdcode', 'scode', 'rtype', 'sname', 'dname', 'cname', 'enroll12', 'numtsttakr', 'avgscrread', 'avgscreng', 'avgscrmath','avgscrsci', 'numge21', 'pctge21', 'year', 'unnamed: 17')**. Each of the observations is a school and each of the school has a unique identifier 'CDS'. Though there are some missing values in this DataFrame, the county and school districts identifiers (CCode', 'CDCode') do not have any missing values. We should still be able to analyze this DataFrame.  \n",
    "\n",
    "Moreover, given the size of this DataFrame, below only highlights the variables that are analyzed in this project **('ccode', 'cdcode', 'scode', 'dname', 'cname', 'enroll12', and 'numtsttakr').** Informaiton of these selected variables are described in the Data Dictionary below. "
   ]
  },
  {
   "cell_type": "code",
   "execution_count": 19,
   "metadata": {},
   "outputs": [
    {
     "data": {
      "text/html": [
       "<div>\n",
       "<style scoped>\n",
       "    .dataframe tbody tr th:only-of-type {\n",
       "        vertical-align: middle;\n",
       "    }\n",
       "\n",
       "    .dataframe tbody tr th {\n",
       "        vertical-align: top;\n",
       "    }\n",
       "\n",
       "    .dataframe thead th {\n",
       "        text-align: right;\n",
       "    }\n",
       "</style>\n",
       "<table border=\"1\" class=\"dataframe\">\n",
       "  <thead>\n",
       "    <tr style=\"text-align: right;\">\n",
       "      <th></th>\n",
       "      <th>CDS</th>\n",
       "      <th>CCode</th>\n",
       "      <th>CDCode</th>\n",
       "      <th>SCode</th>\n",
       "      <th>RType</th>\n",
       "      <th>SName</th>\n",
       "      <th>DName</th>\n",
       "      <th>CName</th>\n",
       "      <th>Enroll12</th>\n",
       "      <th>NumTstTakr</th>\n",
       "      <th>AvgScrRead</th>\n",
       "      <th>AvgScrEng</th>\n",
       "      <th>AvgScrMath</th>\n",
       "      <th>AvgScrSci</th>\n",
       "      <th>NumGE21</th>\n",
       "      <th>PctGE21</th>\n",
       "      <th>Year</th>\n",
       "      <th>Unnamed: 17</th>\n",
       "    </tr>\n",
       "  </thead>\n",
       "  <tbody>\n",
       "    <tr>\n",
       "      <th>0</th>\n",
       "      <td>3.366993e+13</td>\n",
       "      <td>33.0</td>\n",
       "      <td>3366993.0</td>\n",
       "      <td>129882.0</td>\n",
       "      <td>S</td>\n",
       "      <td>21st Century Learning Institute</td>\n",
       "      <td>Beaumont Unified</td>\n",
       "      <td>Riverside</td>\n",
       "      <td>18.0</td>\n",
       "      <td>0.0</td>\n",
       "      <td>NaN</td>\n",
       "      <td>NaN</td>\n",
       "      <td>NaN</td>\n",
       "      <td>NaN</td>\n",
       "      <td>NaN</td>\n",
       "      <td>NaN</td>\n",
       "      <td>2018-19</td>\n",
       "      <td>NaN</td>\n",
       "    </tr>\n",
       "    <tr>\n",
       "      <th>1</th>\n",
       "      <td>1.964212e+13</td>\n",
       "      <td>19.0</td>\n",
       "      <td>1964212.0</td>\n",
       "      <td>1995596.0</td>\n",
       "      <td>S</td>\n",
       "      <td>ABC Secondary (Alternative)</td>\n",
       "      <td>ABC Unified</td>\n",
       "      <td>Los Angeles</td>\n",
       "      <td>58.0</td>\n",
       "      <td>0.0</td>\n",
       "      <td>NaN</td>\n",
       "      <td>NaN</td>\n",
       "      <td>NaN</td>\n",
       "      <td>NaN</td>\n",
       "      <td>NaN</td>\n",
       "      <td>NaN</td>\n",
       "      <td>2018-19</td>\n",
       "      <td>NaN</td>\n",
       "    </tr>\n",
       "    <tr>\n",
       "      <th>2</th>\n",
       "      <td>1.563776e+13</td>\n",
       "      <td>15.0</td>\n",
       "      <td>1563776.0</td>\n",
       "      <td>1530377.0</td>\n",
       "      <td>S</td>\n",
       "      <td>Abraham Lincoln Alternative</td>\n",
       "      <td>Southern Kern Unified</td>\n",
       "      <td>Kern</td>\n",
       "      <td>18.0</td>\n",
       "      <td>0.0</td>\n",
       "      <td>NaN</td>\n",
       "      <td>NaN</td>\n",
       "      <td>NaN</td>\n",
       "      <td>NaN</td>\n",
       "      <td>NaN</td>\n",
       "      <td>NaN</td>\n",
       "      <td>2018-19</td>\n",
       "      <td>NaN</td>\n",
       "    </tr>\n",
       "    <tr>\n",
       "      <th>3</th>\n",
       "      <td>4.369666e+13</td>\n",
       "      <td>43.0</td>\n",
       "      <td>4369666.0</td>\n",
       "      <td>4333795.0</td>\n",
       "      <td>S</td>\n",
       "      <td>Abraham Lincoln High</td>\n",
       "      <td>San Jose Unified</td>\n",
       "      <td>Santa Clara</td>\n",
       "      <td>463.0</td>\n",
       "      <td>53.0</td>\n",
       "      <td>23</td>\n",
       "      <td>22</td>\n",
       "      <td>22</td>\n",
       "      <td>23</td>\n",
       "      <td>34</td>\n",
       "      <td>64.15</td>\n",
       "      <td>2018-19</td>\n",
       "      <td>NaN</td>\n",
       "    </tr>\n",
       "    <tr>\n",
       "      <th>4</th>\n",
       "      <td>1.964733e+13</td>\n",
       "      <td>19.0</td>\n",
       "      <td>1964733.0</td>\n",
       "      <td>1935121.0</td>\n",
       "      <td>S</td>\n",
       "      <td>Abraham Lincoln Senior High</td>\n",
       "      <td>Los Angeles Unified</td>\n",
       "      <td>Los Angeles</td>\n",
       "      <td>226.0</td>\n",
       "      <td>19.0</td>\n",
       "      <td>21</td>\n",
       "      <td>20</td>\n",
       "      <td>23</td>\n",
       "      <td>22</td>\n",
       "      <td>11</td>\n",
       "      <td>57.89</td>\n",
       "      <td>2018-19</td>\n",
       "      <td>NaN</td>\n",
       "    </tr>\n",
       "  </tbody>\n",
       "</table>\n",
       "</div>"
      ],
      "text/plain": [
       "            CDS  CCode     CDCode      SCode RType  \\\n",
       "0  3.366993e+13   33.0  3366993.0   129882.0     S   \n",
       "1  1.964212e+13   19.0  1964212.0  1995596.0     S   \n",
       "2  1.563776e+13   15.0  1563776.0  1530377.0     S   \n",
       "3  4.369666e+13   43.0  4369666.0  4333795.0     S   \n",
       "4  1.964733e+13   19.0  1964733.0  1935121.0     S   \n",
       "\n",
       "                             SName                  DName        CName  \\\n",
       "0  21st Century Learning Institute       Beaumont Unified    Riverside   \n",
       "1      ABC Secondary (Alternative)            ABC Unified  Los Angeles   \n",
       "2      Abraham Lincoln Alternative  Southern Kern Unified         Kern   \n",
       "3             Abraham Lincoln High       San Jose Unified  Santa Clara   \n",
       "4      Abraham Lincoln Senior High    Los Angeles Unified  Los Angeles   \n",
       "\n",
       "   Enroll12  NumTstTakr AvgScrRead AvgScrEng AvgScrMath AvgScrSci NumGE21  \\\n",
       "0      18.0         0.0        NaN       NaN        NaN       NaN     NaN   \n",
       "1      58.0         0.0        NaN       NaN        NaN       NaN     NaN   \n",
       "2      18.0         0.0        NaN       NaN        NaN       NaN     NaN   \n",
       "3     463.0        53.0         23        22         22        23      34   \n",
       "4     226.0        19.0         21        20         23        22      11   \n",
       "\n",
       "  PctGE21     Year  Unnamed: 17  \n",
       "0     NaN  2018-19          NaN  \n",
       "1     NaN  2018-19          NaN  \n",
       "2     NaN  2018-19          NaN  \n",
       "3   64.15  2018-19          NaN  \n",
       "4   57.89  2018-19          NaN  "
      ]
     },
     "execution_count": 19,
     "metadata": {},
     "output_type": "execute_result"
    }
   ],
   "source": [
    "act_2019_ca.head(5)"
   ]
  },
  {
   "cell_type": "code",
   "execution_count": 20,
   "metadata": {},
   "outputs": [],
   "source": [
    "act_2019_ca.columns = act_2019_ca.columns.str.lower()"
   ]
  },
  {
   "cell_type": "code",
   "execution_count": 21,
   "metadata": {},
   "outputs": [
    {
     "data": {
      "text/plain": [
       "Index(['cds', 'ccode', 'cdcode', 'scode', 'rtype', 'sname', 'dname', 'cname',\n",
       "       'enroll12', 'numtsttakr', 'avgscrread', 'avgscreng', 'avgscrmath',\n",
       "       'avgscrsci', 'numge21', 'pctge21', 'year', 'unnamed: 17'],\n",
       "      dtype='object')"
      ]
     },
     "execution_count": 21,
     "metadata": {},
     "output_type": "execute_result"
    }
   ],
   "source": [
    "act_2019_ca.columns "
   ]
  },
  {
   "cell_type": "code",
   "execution_count": 22,
   "metadata": {},
   "outputs": [],
   "source": [
    "# using df.drop(['B', 'C'], axis=1) to drop columns (axis = 1 by using column names)\n",
    "act_2019_ca.drop(['cds', 'rtype', 'sname', 'avgscrread', 'avgscreng', 'avgscrmath','avgscrsci', 'numge21', 'pctge21',\n",
    "                  'year', 'unnamed: 17'], axis = 1, inplace = True)"
   ]
  },
  {
   "cell_type": "code",
   "execution_count": 23,
   "metadata": {},
   "outputs": [
    {
     "data": {
      "text/plain": [
       "ccode           1\n",
       "cdcode          1\n",
       "scode         523\n",
       "dname          59\n",
       "cname           1\n",
       "enroll12        1\n",
       "numtsttakr      1\n",
       "dtype: int64"
      ]
     },
     "execution_count": 23,
     "metadata": {},
     "output_type": "execute_result"
    }
   ],
   "source": [
    "act_2019_ca.isnull().sum()"
   ]
  },
  {
   "cell_type": "code",
   "execution_count": 24,
   "metadata": {},
   "outputs": [
    {
     "data": {
      "text/html": [
       "<div>\n",
       "<style scoped>\n",
       "    .dataframe tbody tr th:only-of-type {\n",
       "        vertical-align: middle;\n",
       "    }\n",
       "\n",
       "    .dataframe tbody tr th {\n",
       "        vertical-align: top;\n",
       "    }\n",
       "\n",
       "    .dataframe thead th {\n",
       "        text-align: right;\n",
       "    }\n",
       "</style>\n",
       "<table border=\"1\" class=\"dataframe\">\n",
       "  <thead>\n",
       "    <tr style=\"text-align: right;\">\n",
       "      <th></th>\n",
       "      <th>ccode</th>\n",
       "      <th>cdcode</th>\n",
       "      <th>scode</th>\n",
       "      <th>dname</th>\n",
       "      <th>cname</th>\n",
       "      <th>enroll12</th>\n",
       "      <th>numtsttakr</th>\n",
       "    </tr>\n",
       "  </thead>\n",
       "  <tbody>\n",
       "    <tr>\n",
       "      <th>0</th>\n",
       "      <td>33.0</td>\n",
       "      <td>3366993.0</td>\n",
       "      <td>129882.0</td>\n",
       "      <td>Beaumont Unified</td>\n",
       "      <td>Riverside</td>\n",
       "      <td>18.0</td>\n",
       "      <td>0.0</td>\n",
       "    </tr>\n",
       "    <tr>\n",
       "      <th>1</th>\n",
       "      <td>19.0</td>\n",
       "      <td>1964212.0</td>\n",
       "      <td>1995596.0</td>\n",
       "      <td>ABC Unified</td>\n",
       "      <td>Los Angeles</td>\n",
       "      <td>58.0</td>\n",
       "      <td>0.0</td>\n",
       "    </tr>\n",
       "    <tr>\n",
       "      <th>2</th>\n",
       "      <td>15.0</td>\n",
       "      <td>1563776.0</td>\n",
       "      <td>1530377.0</td>\n",
       "      <td>Southern Kern Unified</td>\n",
       "      <td>Kern</td>\n",
       "      <td>18.0</td>\n",
       "      <td>0.0</td>\n",
       "    </tr>\n",
       "    <tr>\n",
       "      <th>3</th>\n",
       "      <td>43.0</td>\n",
       "      <td>4369666.0</td>\n",
       "      <td>4333795.0</td>\n",
       "      <td>San Jose Unified</td>\n",
       "      <td>Santa Clara</td>\n",
       "      <td>463.0</td>\n",
       "      <td>53.0</td>\n",
       "    </tr>\n",
       "    <tr>\n",
       "      <th>4</th>\n",
       "      <td>19.0</td>\n",
       "      <td>1964733.0</td>\n",
       "      <td>1935121.0</td>\n",
       "      <td>Los Angeles Unified</td>\n",
       "      <td>Los Angeles</td>\n",
       "      <td>226.0</td>\n",
       "      <td>19.0</td>\n",
       "    </tr>\n",
       "  </tbody>\n",
       "</table>\n",
       "</div>"
      ],
      "text/plain": [
       "   ccode     cdcode      scode                  dname        cname  enroll12  \\\n",
       "0   33.0  3366993.0   129882.0       Beaumont Unified    Riverside      18.0   \n",
       "1   19.0  1964212.0  1995596.0            ABC Unified  Los Angeles      58.0   \n",
       "2   15.0  1563776.0  1530377.0  Southern Kern Unified         Kern      18.0   \n",
       "3   43.0  4369666.0  4333795.0       San Jose Unified  Santa Clara     463.0   \n",
       "4   19.0  1964733.0  1935121.0    Los Angeles Unified  Los Angeles     226.0   \n",
       "\n",
       "   numtsttakr  \n",
       "0         0.0  \n",
       "1         0.0  \n",
       "2         0.0  \n",
       "3        53.0  \n",
       "4        19.0  "
      ]
     },
     "execution_count": 24,
     "metadata": {},
     "output_type": "execute_result"
    }
   ],
   "source": [
    "act_2019_ca.head(5)"
   ]
  },
  {
   "cell_type": "markdown",
   "metadata": {},
   "source": [
    "#### 3.2.4 DataFrame#4: 2019 SAT Scores of California"
   ]
  },
  {
   "cell_type": "markdown",
   "metadata": {},
   "source": [
    "The 2019 SAT Scores of California file has 2580 rows and 26 columns ***('cds', 'ccode', 'cdcode', 'scode', 'rtype', 'sname', 'dname', 'cname', 'enroll12', 'numtsttakr12', 'numerwbenchmark12', 'pcterwbenchmark12', 'nummathbenchmark12', 'pctmathbenchmark12', 'enroll11', 'numtsttakr11', 'numerwbenchmark11', 'pcterwbenchmark11', 'nummathbenchmark11', 'pctmathbenchmark11', 'totnumbothbenchmark12', 'pctbothbenchmark12', 'totnumbothbenchmark11', 'pctbothbenchmark11', 'year', 'unnamed: 25')**. Each of the observations is a school and each of the school has a unique identifier 'CDS'. Though there are some missing values in this DataFrame, the county and school districts identifiers (CCode', 'CDCode') do not have any missing values. We should still be able to analyze this DataFrame.  \n",
    "\n",
    "Moreover, given the size of this DataFrame, below only highlights the variables that are analyzed in this project **('ccode', 'cdcode', 'scode', 'cname', 'dname', 'enroll12', 'numtsttakr12', 'enroll11', 'numtsttakr11', 'pctbothbenchmark11', 'pctbothbenchmark12').** Informaiton of these selected variables are described in the Data Dictionary below.  "
   ]
  },
  {
   "cell_type": "code",
   "execution_count": 25,
   "metadata": {},
   "outputs": [
    {
     "data": {
      "text/html": [
       "<div>\n",
       "<style scoped>\n",
       "    .dataframe tbody tr th:only-of-type {\n",
       "        vertical-align: middle;\n",
       "    }\n",
       "\n",
       "    .dataframe tbody tr th {\n",
       "        vertical-align: top;\n",
       "    }\n",
       "\n",
       "    .dataframe thead th {\n",
       "        text-align: right;\n",
       "    }\n",
       "</style>\n",
       "<table border=\"1\" class=\"dataframe\">\n",
       "  <thead>\n",
       "    <tr style=\"text-align: right;\">\n",
       "      <th></th>\n",
       "      <th>CDS</th>\n",
       "      <th>CCode</th>\n",
       "      <th>CDCode</th>\n",
       "      <th>SCode</th>\n",
       "      <th>RType</th>\n",
       "      <th>SName</th>\n",
       "      <th>DName</th>\n",
       "      <th>CName</th>\n",
       "      <th>Enroll12</th>\n",
       "      <th>NumTSTTakr12</th>\n",
       "      <th>...</th>\n",
       "      <th>NumERWBenchmark11</th>\n",
       "      <th>PctERWBenchmark11</th>\n",
       "      <th>NumMathBenchmark11</th>\n",
       "      <th>PctMathBenchmark11</th>\n",
       "      <th>TotNumBothBenchmark12</th>\n",
       "      <th>PctBothBenchmark12</th>\n",
       "      <th>TotNumBothBenchmark11</th>\n",
       "      <th>PctBothBenchmark11</th>\n",
       "      <th>Year</th>\n",
       "      <th>Unnamed: 25</th>\n",
       "    </tr>\n",
       "  </thead>\n",
       "  <tbody>\n",
       "    <tr>\n",
       "      <th>0</th>\n",
       "      <td>6.615981e+12</td>\n",
       "      <td>6.0</td>\n",
       "      <td>661598.0</td>\n",
       "      <td>630046.0</td>\n",
       "      <td>S</td>\n",
       "      <td>Colusa Alternative Home</td>\n",
       "      <td>Colusa Unified</td>\n",
       "      <td>Colusa</td>\n",
       "      <td>18.0</td>\n",
       "      <td>0.0</td>\n",
       "      <td>...</td>\n",
       "      <td>NaN</td>\n",
       "      <td>NaN</td>\n",
       "      <td>NaN</td>\n",
       "      <td>NaN</td>\n",
       "      <td>NaN</td>\n",
       "      <td>NaN</td>\n",
       "      <td>NaN</td>\n",
       "      <td>NaN</td>\n",
       "      <td>2018-19</td>\n",
       "      <td>NaN</td>\n",
       "    </tr>\n",
       "    <tr>\n",
       "      <th>1</th>\n",
       "      <td>6.616061e+12</td>\n",
       "      <td>6.0</td>\n",
       "      <td>661606.0</td>\n",
       "      <td>634758.0</td>\n",
       "      <td>S</td>\n",
       "      <td>Maxwell Sr High</td>\n",
       "      <td>Maxwell Unified</td>\n",
       "      <td>Colusa</td>\n",
       "      <td>29.0</td>\n",
       "      <td>10.0</td>\n",
       "      <td>...</td>\n",
       "      <td>*</td>\n",
       "      <td>*</td>\n",
       "      <td>*</td>\n",
       "      <td>*</td>\n",
       "      <td>*</td>\n",
       "      <td>*</td>\n",
       "      <td>*</td>\n",
       "      <td>*</td>\n",
       "      <td>2018-19</td>\n",
       "      <td>NaN</td>\n",
       "    </tr>\n",
       "    <tr>\n",
       "      <th>2</th>\n",
       "      <td>1.964733e+13</td>\n",
       "      <td>19.0</td>\n",
       "      <td>1964733.0</td>\n",
       "      <td>1930924.0</td>\n",
       "      <td>S</td>\n",
       "      <td>Belmont Senior High</td>\n",
       "      <td>Los Angeles Unified</td>\n",
       "      <td>Los Angeles</td>\n",
       "      <td>206.0</td>\n",
       "      <td>102.0</td>\n",
       "      <td>...</td>\n",
       "      <td>42</td>\n",
       "      <td>24.14</td>\n",
       "      <td>12</td>\n",
       "      <td>6.90</td>\n",
       "      <td>14</td>\n",
       "      <td>13.73</td>\n",
       "      <td>11</td>\n",
       "      <td>6.32</td>\n",
       "      <td>2018-19</td>\n",
       "      <td>NaN</td>\n",
       "    </tr>\n",
       "    <tr>\n",
       "      <th>3</th>\n",
       "      <td>1.964733e+13</td>\n",
       "      <td>19.0</td>\n",
       "      <td>1964733.0</td>\n",
       "      <td>1931476.0</td>\n",
       "      <td>S</td>\n",
       "      <td>Canoga Park Senior High</td>\n",
       "      <td>Los Angeles Unified</td>\n",
       "      <td>Los Angeles</td>\n",
       "      <td>227.0</td>\n",
       "      <td>113.0</td>\n",
       "      <td>...</td>\n",
       "      <td>97</td>\n",
       "      <td>35.27</td>\n",
       "      <td>37</td>\n",
       "      <td>13.45</td>\n",
       "      <td>18</td>\n",
       "      <td>15.93</td>\n",
       "      <td>35</td>\n",
       "      <td>12.73</td>\n",
       "      <td>2018-19</td>\n",
       "      <td>NaN</td>\n",
       "    </tr>\n",
       "    <tr>\n",
       "      <th>4</th>\n",
       "      <td>1.964733e+13</td>\n",
       "      <td>19.0</td>\n",
       "      <td>1964733.0</td>\n",
       "      <td>1931856.0</td>\n",
       "      <td>S</td>\n",
       "      <td>Whitman Continuation</td>\n",
       "      <td>Los Angeles Unified</td>\n",
       "      <td>Los Angeles</td>\n",
       "      <td>18.0</td>\n",
       "      <td>14.0</td>\n",
       "      <td>...</td>\n",
       "      <td>*</td>\n",
       "      <td>*</td>\n",
       "      <td>*</td>\n",
       "      <td>*</td>\n",
       "      <td>*</td>\n",
       "      <td>*</td>\n",
       "      <td>*</td>\n",
       "      <td>*</td>\n",
       "      <td>2018-19</td>\n",
       "      <td>NaN</td>\n",
       "    </tr>\n",
       "  </tbody>\n",
       "</table>\n",
       "<p>5 rows × 26 columns</p>\n",
       "</div>"
      ],
      "text/plain": [
       "            CDS  CCode     CDCode      SCode RType                    SName  \\\n",
       "0  6.615981e+12    6.0   661598.0   630046.0     S  Colusa Alternative Home   \n",
       "1  6.616061e+12    6.0   661606.0   634758.0     S          Maxwell Sr High   \n",
       "2  1.964733e+13   19.0  1964733.0  1930924.0     S      Belmont Senior High   \n",
       "3  1.964733e+13   19.0  1964733.0  1931476.0     S  Canoga Park Senior High   \n",
       "4  1.964733e+13   19.0  1964733.0  1931856.0     S     Whitman Continuation   \n",
       "\n",
       "                 DName        CName  Enroll12  NumTSTTakr12  ...  \\\n",
       "0       Colusa Unified       Colusa      18.0           0.0  ...   \n",
       "1      Maxwell Unified       Colusa      29.0          10.0  ...   \n",
       "2  Los Angeles Unified  Los Angeles     206.0         102.0  ...   \n",
       "3  Los Angeles Unified  Los Angeles     227.0         113.0  ...   \n",
       "4  Los Angeles Unified  Los Angeles      18.0          14.0  ...   \n",
       "\n",
       "  NumERWBenchmark11 PctERWBenchmark11 NumMathBenchmark11 PctMathBenchmark11  \\\n",
       "0               NaN               NaN                NaN                NaN   \n",
       "1                 *                 *                  *                  *   \n",
       "2                42             24.14                 12               6.90   \n",
       "3                97             35.27                 37              13.45   \n",
       "4                 *                 *                  *                  *   \n",
       "\n",
       "   TotNumBothBenchmark12  PctBothBenchmark12 TotNumBothBenchmark11  \\\n",
       "0                    NaN                 NaN                   NaN   \n",
       "1                      *                   *                     *   \n",
       "2                     14               13.73                    11   \n",
       "3                     18               15.93                    35   \n",
       "4                      *                   *                     *   \n",
       "\n",
       "  PctBothBenchmark11     Year Unnamed: 25  \n",
       "0                NaN  2018-19         NaN  \n",
       "1                  *  2018-19         NaN  \n",
       "2               6.32  2018-19         NaN  \n",
       "3              12.73  2018-19         NaN  \n",
       "4                  *  2018-19         NaN  \n",
       "\n",
       "[5 rows x 26 columns]"
      ]
     },
     "execution_count": 25,
     "metadata": {},
     "output_type": "execute_result"
    }
   ],
   "source": [
    "sat_2019_ca.head()"
   ]
  },
  {
   "cell_type": "code",
   "execution_count": 26,
   "metadata": {},
   "outputs": [],
   "source": [
    "sat_2019_ca.columns = sat_2019_ca.columns.str.lower()"
   ]
  },
  {
   "cell_type": "code",
   "execution_count": 27,
   "metadata": {},
   "outputs": [
    {
     "data": {
      "text/plain": [
       "Index(['cds', 'ccode', 'cdcode', 'scode', 'rtype', 'sname', 'dname', 'cname',\n",
       "       'enroll12', 'numtsttakr12', 'numerwbenchmark12', 'pcterwbenchmark12',\n",
       "       'nummathbenchmark12', 'pctmathbenchmark12', 'enroll11', 'numtsttakr11',\n",
       "       'numerwbenchmark11', 'pcterwbenchmark11', 'nummathbenchmark11',\n",
       "       'pctmathbenchmark11', 'totnumbothbenchmark12', 'pctbothbenchmark12',\n",
       "       'totnumbothbenchmark11', 'pctbothbenchmark11', 'year', 'unnamed: 25'],\n",
       "      dtype='object')"
      ]
     },
     "execution_count": 27,
     "metadata": {},
     "output_type": "execute_result"
    }
   ],
   "source": [
    "sat_2019_ca.columns "
   ]
  },
  {
   "cell_type": "code",
   "execution_count": 28,
   "metadata": {},
   "outputs": [],
   "source": [
    "drop_sat_2019_ca = ['cds', 'rtype', 'sname','numerwbenchmark12', 'pcterwbenchmark12', 'nummathbenchmark12', \n",
    "                    'pctmathbenchmark12', 'numerwbenchmark11', 'pcterwbenchmark11', 'nummathbenchmark11',\n",
    "                    'pctmathbenchmark11', 'totnumbothbenchmark12','totnumbothbenchmark11','year', 'unnamed: 25'] "
   ]
  },
  {
   "cell_type": "code",
   "execution_count": 29,
   "metadata": {},
   "outputs": [],
   "source": [
    "for each in drop_sat_2019_ca:\n",
    "    del sat_2019_ca[each]"
   ]
  },
  {
   "cell_type": "code",
   "execution_count": 30,
   "metadata": {},
   "outputs": [
    {
     "data": {
      "text/plain": [
       "ccode                   1\n",
       "cdcode                  1\n",
       "scode                   1\n",
       "dname                  59\n",
       "cname                   1\n",
       "enroll12                1\n",
       "numtsttakr12            1\n",
       "enroll11                1\n",
       "numtsttakr11            1\n",
       "pctbothbenchmark12    276\n",
       "pctbothbenchmark11    311\n",
       "dtype: int64"
      ]
     },
     "execution_count": 30,
     "metadata": {},
     "output_type": "execute_result"
    }
   ],
   "source": [
    "sat_2019_ca.isnull().sum()"
   ]
  },
  {
   "cell_type": "markdown",
   "metadata": {},
   "source": [
    "### 3.3 Merge DataFrames: Merging the State Data 2019"
   ]
  },
  {
   "cell_type": "code",
   "execution_count": 31,
   "metadata": {},
   "outputs": [],
   "source": [
    "# renaming the ACT data columns for merging\n",
    "act_2019.rename(columns={'participation':'act_participation','composite':'act_composite'}, inplace = True)"
   ]
  },
  {
   "cell_type": "code",
   "execution_count": 32,
   "metadata": {},
   "outputs": [
    {
     "data": {
      "text/html": [
       "<div>\n",
       "<style scoped>\n",
       "    .dataframe tbody tr th:only-of-type {\n",
       "        vertical-align: middle;\n",
       "    }\n",
       "\n",
       "    .dataframe tbody tr th {\n",
       "        vertical-align: top;\n",
       "    }\n",
       "\n",
       "    .dataframe thead th {\n",
       "        text-align: right;\n",
       "    }\n",
       "</style>\n",
       "<table border=\"1\" class=\"dataframe\">\n",
       "  <thead>\n",
       "    <tr style=\"text-align: right;\">\n",
       "      <th></th>\n",
       "      <th>state</th>\n",
       "      <th>act_participation</th>\n",
       "      <th>act_composite</th>\n",
       "    </tr>\n",
       "  </thead>\n",
       "  <tbody>\n",
       "    <tr>\n",
       "      <th>0</th>\n",
       "      <td>Alabama</td>\n",
       "      <td>100%</td>\n",
       "      <td>18.9</td>\n",
       "    </tr>\n",
       "    <tr>\n",
       "      <th>1</th>\n",
       "      <td>Alaska</td>\n",
       "      <td>38%</td>\n",
       "      <td>20.1</td>\n",
       "    </tr>\n",
       "    <tr>\n",
       "      <th>2</th>\n",
       "      <td>Arizona</td>\n",
       "      <td>73%</td>\n",
       "      <td>19.0</td>\n",
       "    </tr>\n",
       "    <tr>\n",
       "      <th>3</th>\n",
       "      <td>Arkansas</td>\n",
       "      <td>100%</td>\n",
       "      <td>19.3</td>\n",
       "    </tr>\n",
       "    <tr>\n",
       "      <th>4</th>\n",
       "      <td>California</td>\n",
       "      <td>23%</td>\n",
       "      <td>22.6</td>\n",
       "    </tr>\n",
       "  </tbody>\n",
       "</table>\n",
       "</div>"
      ],
      "text/plain": [
       "        state act_participation  act_composite\n",
       "0     Alabama              100%           18.9\n",
       "1      Alaska               38%           20.1\n",
       "2     Arizona               73%           19.0\n",
       "3    Arkansas              100%           19.3\n",
       "4  California               23%           22.6"
      ]
     },
     "execution_count": 32,
     "metadata": {},
     "output_type": "execute_result"
    }
   ],
   "source": [
    "# checking the DataFrames again\n",
    "act_2019.head()"
   ]
  },
  {
   "cell_type": "code",
   "execution_count": 33,
   "metadata": {},
   "outputs": [],
   "source": [
    "# renaming the SAT data for merging\n",
    "sat_2019.rename(columns={'participation rate':'sat_participation','total':'sat_total'}, inplace = True)"
   ]
  },
  {
   "cell_type": "code",
   "execution_count": 34,
   "metadata": {},
   "outputs": [
    {
     "data": {
      "text/html": [
       "<div>\n",
       "<style scoped>\n",
       "    .dataframe tbody tr th:only-of-type {\n",
       "        vertical-align: middle;\n",
       "    }\n",
       "\n",
       "    .dataframe tbody tr th {\n",
       "        vertical-align: top;\n",
       "    }\n",
       "\n",
       "    .dataframe thead th {\n",
       "        text-align: right;\n",
       "    }\n",
       "</style>\n",
       "<table border=\"1\" class=\"dataframe\">\n",
       "  <thead>\n",
       "    <tr style=\"text-align: right;\">\n",
       "      <th></th>\n",
       "      <th>state</th>\n",
       "      <th>sat_participation</th>\n",
       "      <th>sat_total</th>\n",
       "    </tr>\n",
       "  </thead>\n",
       "  <tbody>\n",
       "    <tr>\n",
       "      <th>0</th>\n",
       "      <td>Alabama</td>\n",
       "      <td>7%</td>\n",
       "      <td>1143</td>\n",
       "    </tr>\n",
       "    <tr>\n",
       "      <th>1</th>\n",
       "      <td>Alaska</td>\n",
       "      <td>41%</td>\n",
       "      <td>1097</td>\n",
       "    </tr>\n",
       "    <tr>\n",
       "      <th>2</th>\n",
       "      <td>Arizona</td>\n",
       "      <td>31%</td>\n",
       "      <td>1134</td>\n",
       "    </tr>\n",
       "    <tr>\n",
       "      <th>3</th>\n",
       "      <td>Arkansas</td>\n",
       "      <td>6%</td>\n",
       "      <td>1141</td>\n",
       "    </tr>\n",
       "    <tr>\n",
       "      <th>4</th>\n",
       "      <td>California</td>\n",
       "      <td>63%</td>\n",
       "      <td>1065</td>\n",
       "    </tr>\n",
       "  </tbody>\n",
       "</table>\n",
       "</div>"
      ],
      "text/plain": [
       "        state sat_participation  sat_total\n",
       "0     Alabama                7%       1143\n",
       "1      Alaska               41%       1097\n",
       "2     Arizona               31%       1134\n",
       "3    Arkansas                6%       1141\n",
       "4  California               63%       1065"
      ]
     },
     "execution_count": 34,
     "metadata": {},
     "output_type": "execute_result"
    }
   ],
   "source": [
    "sat_2019.head()"
   ]
  },
  {
   "cell_type": "code",
   "execution_count": 35,
   "metadata": {},
   "outputs": [],
   "source": [
    "# using left.merge(right, no = key, how =? ) to merge datasets\n",
    "state_2019 = act_2019.merge(sat_2019, on = 'state', how = 'inner')"
   ]
  },
  {
   "cell_type": "code",
   "execution_count": 36,
   "metadata": {},
   "outputs": [
    {
     "name": "stdout",
     "output_type": "stream",
     "text": [
      "<class 'pandas.core.frame.DataFrame'>\n",
      "Int64Index: 51 entries, 0 to 50\n",
      "Data columns (total 5 columns):\n",
      " #   Column             Non-Null Count  Dtype  \n",
      "---  ------             --------------  -----  \n",
      " 0   state              51 non-null     object \n",
      " 1   act_participation  51 non-null     object \n",
      " 2   act_composite      51 non-null     float64\n",
      " 3   sat_participation  51 non-null     object \n",
      " 4   sat_total          51 non-null     int64  \n",
      "dtypes: float64(1), int64(1), object(3)\n",
      "memory usage: 2.4+ KB\n"
     ]
    }
   ],
   "source": [
    "state_2019.info()"
   ]
  },
  {
   "cell_type": "code",
   "execution_count": 37,
   "metadata": {},
   "outputs": [],
   "source": [
    "state_2019['act_participation'] = [strpc_to_float(rate) for rate in state_2019['act_participation']]"
   ]
  },
  {
   "cell_type": "code",
   "execution_count": 38,
   "metadata": {},
   "outputs": [],
   "source": [
    "state_2019['sat_participation'] = [strpc_to_float(rate) for rate in state_2019['sat_participation']]"
   ]
  },
  {
   "cell_type": "code",
   "execution_count": 39,
   "metadata": {},
   "outputs": [
    {
     "name": "stdout",
     "output_type": "stream",
     "text": [
      "<class 'pandas.core.frame.DataFrame'>\n",
      "Int64Index: 51 entries, 0 to 50\n",
      "Data columns (total 5 columns):\n",
      " #   Column             Non-Null Count  Dtype  \n",
      "---  ------             --------------  -----  \n",
      " 0   state              51 non-null     object \n",
      " 1   act_participation  51 non-null     float64\n",
      " 2   act_composite      51 non-null     float64\n",
      " 3   sat_participation  51 non-null     float64\n",
      " 4   sat_total          51 non-null     int64  \n",
      "dtypes: float64(3), int64(1), object(1)\n",
      "memory usage: 2.4+ KB\n"
     ]
    }
   ],
   "source": [
    "state_2019.info()"
   ]
  },
  {
   "cell_type": "code",
   "execution_count": 40,
   "metadata": {},
   "outputs": [
    {
     "data": {
      "text/plain": [
       "(51, 5)"
      ]
     },
     "execution_count": 40,
     "metadata": {},
     "output_type": "execute_result"
    }
   ],
   "source": [
    "state_2019.shape"
   ]
  },
  {
   "cell_type": "markdown",
   "metadata": {},
   "source": [
    "### 3.4 Data Dictionary"
   ]
  },
  {
   "cell_type": "markdown",
   "metadata": {},
   "source": [
    "A [data dictionary](http://library.ucmerced.edu/node/10249) provides a quick overview of features/variables/columns, alongside data types and descriptions. The more descriptive you can be, the more useful this document is. \n",
    "\n",
    "**This would be a great thing to copy and paste into your custom README for this project.**\n",
    "\n",
    "[short guide for formatting markdown in Jupyter notebooks](https://jupyter-notebook.readthedocs.io/en/stable/examples/Notebook/Working%20With%20Markdown%20Cells.html)."
   ]
  },
  {
   "cell_type": "markdown",
   "metadata": {},
   "source": [
    "|Feature|Type|Dataset|Description|\n",
    "|---|---|---|---|\n",
    "|**state**|*string*|2019 ACT/SAT Scores by State|The name of the State|\n",
    "|**act_participation**|*float*|2019 ACT/SAT Scores by State|The percentage of the ACT participants of a given State|\n",
    "|**act_composite**|*float*|2019 ACT/SAT Scores by State|The averaged ACT scores of a given State|\n",
    "|**sat_participation**|*float*|2019 ACT/SAT Scores by State|The percentage of the SAT participants of a given State|\n",
    "|**sat_total**|*integer*|2019 ACT/SAT Scores by State|The averaged SAT Total scores of a given State|\n",
    "|**ccode**|*float*|2019 SAT Scores of California, 2019 ACT Scores of California|The identifier of a county|\n",
    "|**cdcode**|*float*|2019 SAT Scores of California, 2019 ACT Scores of California|The identifier of a school district|\n",
    "|**scode**|*float*|2019 SAT Scores of California, 2019 ACT Scores of California|The identifier of a school|\n",
    "|**cname**|*string*|2019 SAT Scores of California, 2019 ACT Scores of California|The name of a county|\n",
    "|**dname**|*string*|2019 SAT Scores of California, 2019 ACT Scores of California|The name of a school district. N/A = County Level Record|\n",
    "|**enroll12**|*float*|2019 SAT Scores of California, 2019 ACT Scores of California|The number of Grade 12 students enrolled in a given school|\n",
    "|**numtsttakr12**|*float*|2019 SAT Scores of California, 2019 ACT Scores of California|The number of Grade 12 students taken the ACT|\n",
    "|**enroll11**|*float*|2019 SAT Scores of California, 2019 ACT Scores of California|The number of Grade 11 students enrolled in a given school|\n",
    "|**numtsttakr11**|*float*|2019 SAT Scores of California, 2019 ACT Scores of California|The number of Grade 12 students taken the ACT|\n",
    "|**participation_1112**|*float*|2019 SAT Scores of California|The SAT participation rate of Grade 12 and Grade 11 in a given school|"
   ]
  },
  {
   "cell_type": "markdown",
   "metadata": {},
   "source": [
    "Additional info: State of California, https://www.cde.ca.gov/ds/sp/ai/reclayoutsat19.asp and https://www.cde.ca.gov/ds/sp/ai/glossaryact2019.asp"
   ]
  },
  {
   "cell_type": "markdown",
   "metadata": {},
   "source": [
    "## 4. Exploratory Data Analysis\n",
    "\n",
    "Complete the following steps to explore your data. You are welcome to do more EDA than the steps outlined here as you feel necessary:"
   ]
  },
  {
   "cell_type": "markdown",
   "metadata": {},
   "source": [
    "### 4.1 Summary Statistics"
   ]
  },
  {
   "cell_type": "markdown",
   "metadata": {},
   "source": [
    "#### 4.1.1 2019 ACT/SAT Scores by State Summary Statistics"
   ]
  },
  {
   "cell_type": "code",
   "execution_count": 41,
   "metadata": {},
   "outputs": [
    {
     "name": "stdout",
     "output_type": "stream",
     "text": [
      "<class 'pandas.core.frame.DataFrame'>\n",
      "Int64Index: 51 entries, 0 to 50\n",
      "Data columns (total 5 columns):\n",
      " #   Column             Non-Null Count  Dtype  \n",
      "---  ------             --------------  -----  \n",
      " 0   state              51 non-null     object \n",
      " 1   act_participation  51 non-null     float64\n",
      " 2   act_composite      51 non-null     float64\n",
      " 3   sat_participation  51 non-null     float64\n",
      " 4   sat_total          51 non-null     int64  \n",
      "dtypes: float64(3), int64(1), object(1)\n",
      "memory usage: 2.4+ KB\n"
     ]
    }
   ],
   "source": [
    "# checcking the info again\n",
    "state_2019.info()"
   ]
  },
  {
   "cell_type": "code",
   "execution_count": 42,
   "metadata": {},
   "outputs": [
    {
     "data": {
      "text/html": [
       "<div>\n",
       "<style scoped>\n",
       "    .dataframe tbody tr th:only-of-type {\n",
       "        vertical-align: middle;\n",
       "    }\n",
       "\n",
       "    .dataframe tbody tr th {\n",
       "        vertical-align: top;\n",
       "    }\n",
       "\n",
       "    .dataframe thead th {\n",
       "        text-align: right;\n",
       "    }\n",
       "</style>\n",
       "<table border=\"1\" class=\"dataframe\">\n",
       "  <thead>\n",
       "    <tr style=\"text-align: right;\">\n",
       "      <th></th>\n",
       "      <th>act_participation</th>\n",
       "      <th>act_composite</th>\n",
       "      <th>sat_participation</th>\n",
       "      <th>sat_total</th>\n",
       "    </tr>\n",
       "  </thead>\n",
       "  <tbody>\n",
       "    <tr>\n",
       "      <th>count</th>\n",
       "      <td>51.000000</td>\n",
       "      <td>51.000000</td>\n",
       "      <td>51.000000</td>\n",
       "      <td>51.000000</td>\n",
       "    </tr>\n",
       "    <tr>\n",
       "      <th>mean</th>\n",
       "      <td>0.587451</td>\n",
       "      <td>21.464706</td>\n",
       "      <td>0.485882</td>\n",
       "      <td>1113.078431</td>\n",
       "    </tr>\n",
       "    <tr>\n",
       "      <th>std</th>\n",
       "      <td>0.343982</td>\n",
       "      <td>2.194523</td>\n",
       "      <td>0.393788</td>\n",
       "      <td>97.197910</td>\n",
       "    </tr>\n",
       "    <tr>\n",
       "      <th>min</th>\n",
       "      <td>0.100000</td>\n",
       "      <td>17.900000</td>\n",
       "      <td>0.000000</td>\n",
       "      <td>943.000000</td>\n",
       "    </tr>\n",
       "    <tr>\n",
       "      <th>25%</th>\n",
       "      <td>0.245000</td>\n",
       "      <td>19.800000</td>\n",
       "      <td>0.100000</td>\n",
       "      <td>1038.000000</td>\n",
       "    </tr>\n",
       "    <tr>\n",
       "      <th>50%</th>\n",
       "      <td>0.540000</td>\n",
       "      <td>21.100000</td>\n",
       "      <td>0.540000</td>\n",
       "      <td>1097.000000</td>\n",
       "    </tr>\n",
       "    <tr>\n",
       "      <th>75%</th>\n",
       "      <td>1.000000</td>\n",
       "      <td>23.700000</td>\n",
       "      <td>0.820000</td>\n",
       "      <td>1210.000000</td>\n",
       "    </tr>\n",
       "    <tr>\n",
       "      <th>max</th>\n",
       "      <td>1.000000</td>\n",
       "      <td>25.500000</td>\n",
       "      <td>1.000000</td>\n",
       "      <td>1284.000000</td>\n",
       "    </tr>\n",
       "  </tbody>\n",
       "</table>\n",
       "</div>"
      ],
      "text/plain": [
       "       act_participation  act_composite  sat_participation    sat_total\n",
       "count          51.000000      51.000000          51.000000    51.000000\n",
       "mean            0.587451      21.464706           0.485882  1113.078431\n",
       "std             0.343982       2.194523           0.393788    97.197910\n",
       "min             0.100000      17.900000           0.000000   943.000000\n",
       "25%             0.245000      19.800000           0.100000  1038.000000\n",
       "50%             0.540000      21.100000           0.540000  1097.000000\n",
       "75%             1.000000      23.700000           0.820000  1210.000000\n",
       "max             1.000000      25.500000           1.000000  1284.000000"
      ]
     },
     "execution_count": 42,
     "metadata": {},
     "output_type": "execute_result"
    }
   ],
   "source": [
    "# using describe()\n",
    "state_2019.describe()"
   ]
  },
  {
   "cell_type": "markdown",
   "metadata": {},
   "source": [
    "#### 4.1.2 Decide to Skip 2019 ACT Scores of California for EDA"
   ]
  },
  {
   "cell_type": "markdown",
   "metadata": {},
   "source": [
    "After learning that the ACT participation rate is so low in California and there are much more students taking SAT, I decide to focus on the analysis of the 2019 SAT data."
   ]
  },
  {
   "cell_type": "markdown",
   "metadata": {},
   "source": [
    "#### 4.1.3 2019 SAT Scores of California Descriptive Statistics"
   ]
  },
  {
   "cell_type": "code",
   "execution_count": 43,
   "metadata": {},
   "outputs": [
    {
     "name": "stdout",
     "output_type": "stream",
     "text": [
      "<class 'pandas.core.frame.DataFrame'>\n",
      "RangeIndex: 2580 entries, 0 to 2579\n",
      "Data columns (total 11 columns):\n",
      " #   Column              Non-Null Count  Dtype  \n",
      "---  ------              --------------  -----  \n",
      " 0   ccode               2579 non-null   float64\n",
      " 1   cdcode              2579 non-null   float64\n",
      " 2   scode               2579 non-null   float64\n",
      " 3   dname               2521 non-null   object \n",
      " 4   cname               2579 non-null   object \n",
      " 5   enroll12            2579 non-null   float64\n",
      " 6   numtsttakr12        2579 non-null   float64\n",
      " 7   enroll11            2579 non-null   float64\n",
      " 8   numtsttakr11        2579 non-null   float64\n",
      " 9   pctbothbenchmark12  2304 non-null   object \n",
      " 10  pctbothbenchmark11  2269 non-null   object \n",
      "dtypes: float64(7), object(4)\n",
      "memory usage: 221.8+ KB\n"
     ]
    }
   ],
   "source": [
    "sat_2019_ca.info()"
   ]
  },
  {
   "cell_type": "code",
   "execution_count": 44,
   "metadata": {},
   "outputs": [
    {
     "data": {
      "text/html": [
       "<div>\n",
       "<style scoped>\n",
       "    .dataframe tbody tr th:only-of-type {\n",
       "        vertical-align: middle;\n",
       "    }\n",
       "\n",
       "    .dataframe tbody tr th {\n",
       "        vertical-align: top;\n",
       "    }\n",
       "\n",
       "    .dataframe thead th {\n",
       "        text-align: right;\n",
       "    }\n",
       "</style>\n",
       "<table border=\"1\" class=\"dataframe\">\n",
       "  <thead>\n",
       "    <tr style=\"text-align: right;\">\n",
       "      <th></th>\n",
       "      <th>ccode</th>\n",
       "      <th>cdcode</th>\n",
       "      <th>scode</th>\n",
       "      <th>enroll12</th>\n",
       "      <th>numtsttakr12</th>\n",
       "      <th>enroll11</th>\n",
       "      <th>numtsttakr11</th>\n",
       "    </tr>\n",
       "  </thead>\n",
       "  <tbody>\n",
       "    <tr>\n",
       "      <th>count</th>\n",
       "      <td>2579.000000</td>\n",
       "      <td>2.579000e+03</td>\n",
       "      <td>2.579000e+03</td>\n",
       "      <td>2579.000000</td>\n",
       "      <td>2579.000000</td>\n",
       "      <td>2579.000000</td>\n",
       "      <td>2579.000000</td>\n",
       "    </tr>\n",
       "    <tr>\n",
       "      <th>mean</th>\n",
       "      <td>28.519581</td>\n",
       "      <td>2.915138e+06</td>\n",
       "      <td>1.544913e+06</td>\n",
       "      <td>748.155487</td>\n",
       "      <td>264.274137</td>\n",
       "      <td>730.865452</td>\n",
       "      <td>320.473052</td>\n",
       "    </tr>\n",
       "    <tr>\n",
       "      <th>std</th>\n",
       "      <td>14.258173</td>\n",
       "      <td>1.428327e+06</td>\n",
       "      <td>1.812049e+06</td>\n",
       "      <td>10095.758681</td>\n",
       "      <td>3568.205236</td>\n",
       "      <td>9792.971460</td>\n",
       "      <td>4396.615761</td>\n",
       "    </tr>\n",
       "    <tr>\n",
       "      <th>min</th>\n",
       "      <td>0.000000</td>\n",
       "      <td>0.000000e+00</td>\n",
       "      <td>0.000000e+00</td>\n",
       "      <td>0.000000</td>\n",
       "      <td>0.000000</td>\n",
       "      <td>0.000000</td>\n",
       "      <td>0.000000</td>\n",
       "    </tr>\n",
       "    <tr>\n",
       "      <th>25%</th>\n",
       "      <td>19.000000</td>\n",
       "      <td>1.964725e+06</td>\n",
       "      <td>1.025080e+05</td>\n",
       "      <td>63.000000</td>\n",
       "      <td>5.000000</td>\n",
       "      <td>52.500000</td>\n",
       "      <td>5.000000</td>\n",
       "    </tr>\n",
       "    <tr>\n",
       "      <th>50%</th>\n",
       "      <td>30.000000</td>\n",
       "      <td>3.066597e+06</td>\n",
       "      <td>1.377860e+05</td>\n",
       "      <td>171.000000</td>\n",
       "      <td>55.000000</td>\n",
       "      <td>165.000000</td>\n",
       "      <td>62.000000</td>\n",
       "    </tr>\n",
       "    <tr>\n",
       "      <th>75%</th>\n",
       "      <td>37.000000</td>\n",
       "      <td>3.777103e+06</td>\n",
       "      <td>3.037422e+06</td>\n",
       "      <td>462.000000</td>\n",
       "      <td>161.000000</td>\n",
       "      <td>474.000000</td>\n",
       "      <td>180.000000</td>\n",
       "    </tr>\n",
       "    <tr>\n",
       "      <th>max</th>\n",
       "      <td>58.000000</td>\n",
       "      <td>5.872769e+06</td>\n",
       "      <td>6.120893e+06</td>\n",
       "      <td>489650.000000</td>\n",
       "      <td>170411.000000</td>\n",
       "      <td>474843.000000</td>\n",
       "      <td>206642.000000</td>\n",
       "    </tr>\n",
       "  </tbody>\n",
       "</table>\n",
       "</div>"
      ],
      "text/plain": [
       "             ccode        cdcode         scode       enroll12   numtsttakr12  \\\n",
       "count  2579.000000  2.579000e+03  2.579000e+03    2579.000000    2579.000000   \n",
       "mean     28.519581  2.915138e+06  1.544913e+06     748.155487     264.274137   \n",
       "std      14.258173  1.428327e+06  1.812049e+06   10095.758681    3568.205236   \n",
       "min       0.000000  0.000000e+00  0.000000e+00       0.000000       0.000000   \n",
       "25%      19.000000  1.964725e+06  1.025080e+05      63.000000       5.000000   \n",
       "50%      30.000000  3.066597e+06  1.377860e+05     171.000000      55.000000   \n",
       "75%      37.000000  3.777103e+06  3.037422e+06     462.000000     161.000000   \n",
       "max      58.000000  5.872769e+06  6.120893e+06  489650.000000  170411.000000   \n",
       "\n",
       "            enroll11   numtsttakr11  \n",
       "count    2579.000000    2579.000000  \n",
       "mean      730.865452     320.473052  \n",
       "std      9792.971460    4396.615761  \n",
       "min         0.000000       0.000000  \n",
       "25%        52.500000       5.000000  \n",
       "50%       165.000000      62.000000  \n",
       "75%       474.000000     180.000000  \n",
       "max    474843.000000  206642.000000  "
      ]
     },
     "execution_count": 44,
     "metadata": {},
     "output_type": "execute_result"
    }
   ],
   "source": [
    "sat_2019_ca.describe()"
   ]
  },
  {
   "cell_type": "markdown",
   "metadata": {},
   "source": [
    "### 4.2 Standard Deviations\n",
    "Use a **dictionary comprehension** to apply the standard deviation function you create in part 1 to each numeric column in the dataframe.  **No loops**.\n",
    "    - Assign the output to variable `sd` as a dictionary where: \n",
    "        - Each column name is now a key \n",
    "        - That standard deviation of the column is the value \n",
    "        - *Example Output :* `{'ACT_Math': 120, 'ACT_Reading': 120, ...}`"
   ]
  },
  {
   "cell_type": "code",
   "execution_count": 45,
   "metadata": {},
   "outputs": [
    {
     "name": "stdout",
     "output_type": "stream",
     "text": [
      "<class 'pandas.core.frame.DataFrame'>\n",
      "Int64Index: 51 entries, 0 to 50\n",
      "Data columns (total 5 columns):\n",
      " #   Column             Non-Null Count  Dtype  \n",
      "---  ------             --------------  -----  \n",
      " 0   state              51 non-null     object \n",
      " 1   act_participation  51 non-null     float64\n",
      " 2   act_composite      51 non-null     float64\n",
      " 3   sat_participation  51 non-null     float64\n",
      " 4   sat_total          51 non-null     int64  \n",
      "dtypes: float64(3), int64(1), object(1)\n",
      "memory usage: 2.4+ KB\n"
     ]
    }
   ],
   "source": [
    "state_2019.info()\n",
    "# the ACT/SAT 2019 Scores by State DataFrame have four columns that are float or integer.  "
   ]
  },
  {
   "cell_type": "code",
   "execution_count": 46,
   "metadata": {},
   "outputs": [
    {
     "data": {
      "text/plain": [
       "0.11600330642060752"
      ]
     },
     "execution_count": 46,
     "metadata": {},
     "output_type": "execute_result"
    }
   ],
   "source": [
    "# testing the sd_here function\n",
    "sd_here(state_2019['act_participation'])"
   ]
  },
  {
   "cell_type": "code",
   "execution_count": 47,
   "metadata": {},
   "outputs": [],
   "source": [
    "# creating the keys, which are the columns except for the 'state' column\n",
    "state_2019_keys = list(state_2019.columns)[1:]"
   ]
  },
  {
   "cell_type": "code",
   "execution_count": 48,
   "metadata": {},
   "outputs": [],
   "source": [
    "# creating the values, which are the SD of all the numeric columns\n",
    "state_2019_values = [sd_here(state_2019[each]) for each in state_2019_keys]"
   ]
  },
  {
   "cell_type": "code",
   "execution_count": 49,
   "metadata": {},
   "outputs": [
    {
     "data": {
      "text/plain": [
       "{'act_participation': 0.11600330642060752,\n",
       " 'act_composite': 4.721499423298732,\n",
       " 'sat_participation': 0.15202814302191456,\n",
       " 'sat_total': 9262.189926951169}"
      ]
     },
     "execution_count": 49,
     "metadata": {},
     "output_type": "execute_result"
    }
   ],
   "source": [
    "# using dictionary comprehension\n",
    "# sample: myDict = { k:v for (k,v) in zip(keys, values)} \n",
    "state_2019_sd = {k:v for (k,v) in zip(state_2019_keys, state_2019_values)} \n",
    "\n",
    "# checking \n",
    "state_2019_sd"
   ]
  },
  {
   "cell_type": "markdown",
   "metadata": {},
   "source": [
    "### 4.3 Investigate trends in the data.\n",
    "    - Using sorting and/or masking (along with the `.head()` method to avoid printing our entire dataframe), consider questions relevant to your problem statement. Some examples are provided below (but feel free to change these questions for your specific problem):\n",
    "        - Which states have the highest and lowest participation rates for the 2017, 2019, or 2019 SAT and ACT?\n",
    "        - Which states have the highest and lowest mean total/composite scores for the 2017, 2019, or 2019 SAT and ACT?\n",
    "        - Do any states with 100% participation on a given test have a rate change year-to-year?\n",
    "        - Do any states show have >50% participation on *both* tests each year?\n",
    "        - Which colleges have the highest median SAT and ACT scores for admittance?\n",
    "        - Which California school districts have the highest and lowest mean test scores?\n",
    "    - **You should comment on your findings at each step in a markdown cell below your code block**. Make sure you include at least one example of sorting your dataframe by a column, and one example of using boolean filtering (i.e., masking) to select a subset of the dataframe."
   ]
  },
  {
   "cell_type": "markdown",
   "metadata": {},
   "source": [
    "#### 4.3.1 Benchmarking California to the rest of the States"
   ]
  },
  {
   "cell_type": "markdown",
   "metadata": {},
   "source": [
    "- California has a lower ACT participation rate when benchmarking with the averaged state participation rate.  \n",
    "- California has a higher SAT participation rate when benchmarking with the averaged state participation rate.  "
   ]
  },
  {
   "cell_type": "code",
   "execution_count": 50,
   "metadata": {},
   "outputs": [
    {
     "data": {
      "text/html": [
       "<div>\n",
       "<style scoped>\n",
       "    .dataframe tbody tr th:only-of-type {\n",
       "        vertical-align: middle;\n",
       "    }\n",
       "\n",
       "    .dataframe tbody tr th {\n",
       "        vertical-align: top;\n",
       "    }\n",
       "\n",
       "    .dataframe thead th {\n",
       "        text-align: right;\n",
       "    }\n",
       "</style>\n",
       "<table border=\"1\" class=\"dataframe\">\n",
       "  <thead>\n",
       "    <tr style=\"text-align: right;\">\n",
       "      <th></th>\n",
       "      <th>state</th>\n",
       "      <th>act_participation</th>\n",
       "      <th>act_composite</th>\n",
       "      <th>sat_participation</th>\n",
       "      <th>sat_total</th>\n",
       "    </tr>\n",
       "  </thead>\n",
       "  <tbody>\n",
       "    <tr>\n",
       "      <th>0</th>\n",
       "      <td>Alabama</td>\n",
       "      <td>1.00</td>\n",
       "      <td>18.9</td>\n",
       "      <td>0.10</td>\n",
       "      <td>1143</td>\n",
       "    </tr>\n",
       "    <tr>\n",
       "      <th>1</th>\n",
       "      <td>Alaska</td>\n",
       "      <td>0.38</td>\n",
       "      <td>20.1</td>\n",
       "      <td>0.41</td>\n",
       "      <td>1097</td>\n",
       "    </tr>\n",
       "    <tr>\n",
       "      <th>2</th>\n",
       "      <td>Arizona</td>\n",
       "      <td>0.73</td>\n",
       "      <td>19.0</td>\n",
       "      <td>0.31</td>\n",
       "      <td>1134</td>\n",
       "    </tr>\n",
       "    <tr>\n",
       "      <th>3</th>\n",
       "      <td>Arkansas</td>\n",
       "      <td>1.00</td>\n",
       "      <td>19.3</td>\n",
       "      <td>0.10</td>\n",
       "      <td>1141</td>\n",
       "    </tr>\n",
       "    <tr>\n",
       "      <th>4</th>\n",
       "      <td>California</td>\n",
       "      <td>0.23</td>\n",
       "      <td>22.6</td>\n",
       "      <td>0.63</td>\n",
       "      <td>1065</td>\n",
       "    </tr>\n",
       "  </tbody>\n",
       "</table>\n",
       "</div>"
      ],
      "text/plain": [
       "        state  act_participation  act_composite  sat_participation  sat_total\n",
       "0     Alabama               1.00           18.9               0.10       1143\n",
       "1      Alaska               0.38           20.1               0.41       1097\n",
       "2     Arizona               0.73           19.0               0.31       1134\n",
       "3    Arkansas               1.00           19.3               0.10       1141\n",
       "4  California               0.23           22.6               0.63       1065"
      ]
     },
     "execution_count": 50,
     "metadata": {},
     "output_type": "execute_result"
    }
   ],
   "source": [
    "# checking the 2019 California SAT DataFrame\n",
    "state_2019.head()"
   ]
  },
  {
   "cell_type": "code",
   "execution_count": 51,
   "metadata": {},
   "outputs": [
    {
     "data": {
      "text/plain": [
       "0.48588235294117643"
      ]
     },
     "execution_count": 51,
     "metadata": {},
     "output_type": "execute_result"
    }
   ],
   "source": [
    "state_2019['sat_participation'].mean()"
   ]
  },
  {
   "cell_type": "code",
   "execution_count": 52,
   "metadata": {},
   "outputs": [
    {
     "data": {
      "text/plain": [
       "4    True\n",
       "Name: sat_participation, dtype: bool"
      ]
     },
     "execution_count": 52,
     "metadata": {},
     "output_type": "execute_result"
    }
   ],
   "source": [
    "# Benchmarking 2019 SAT participation rate of California \n",
    "state_2019['sat_participation'][state_2019['state'] == 'California'] > state_2019['sat_participation'].mean()"
   ]
  },
  {
   "cell_type": "code",
   "execution_count": 53,
   "metadata": {},
   "outputs": [
    {
     "data": {
      "text/plain": [
       "0.5874509803921569"
      ]
     },
     "execution_count": 53,
     "metadata": {},
     "output_type": "execute_result"
    }
   ],
   "source": [
    "state_2019['act_participation'].mean()"
   ]
  },
  {
   "cell_type": "code",
   "execution_count": 54,
   "metadata": {},
   "outputs": [
    {
     "data": {
      "text/plain": [
       "4    False\n",
       "Name: act_participation, dtype: bool"
      ]
     },
     "execution_count": 54,
     "metadata": {},
     "output_type": "execute_result"
    }
   ],
   "source": [
    "# Benchmarking 2019 ACT participation rate of California \n",
    "state_2019['act_participation'][state_2019['state'] == 'California'] > state_2019['act_participation'].mean()"
   ]
  },
  {
   "cell_type": "code",
   "execution_count": 55,
   "metadata": {},
   "outputs": [
    {
     "data": {
      "text/html": [
       "<div>\n",
       "<style scoped>\n",
       "    .dataframe tbody tr th:only-of-type {\n",
       "        vertical-align: middle;\n",
       "    }\n",
       "\n",
       "    .dataframe tbody tr th {\n",
       "        vertical-align: top;\n",
       "    }\n",
       "\n",
       "    .dataframe thead th {\n",
       "        text-align: right;\n",
       "    }\n",
       "</style>\n",
       "<table border=\"1\" class=\"dataframe\">\n",
       "  <thead>\n",
       "    <tr style=\"text-align: right;\">\n",
       "      <th></th>\n",
       "      <th>state</th>\n",
       "      <th>act_participation</th>\n",
       "      <th>act_composite</th>\n",
       "      <th>sat_participation</th>\n",
       "      <th>sat_total</th>\n",
       "    </tr>\n",
       "  </thead>\n",
       "  <tbody>\n",
       "    <tr>\n",
       "      <th>5</th>\n",
       "      <td>Colorado</td>\n",
       "      <td>0.27</td>\n",
       "      <td>23.8</td>\n",
       "      <td>1.00</td>\n",
       "      <td>1024</td>\n",
       "    </tr>\n",
       "    <tr>\n",
       "      <th>30</th>\n",
       "      <td>New Jersey</td>\n",
       "      <td>0.25</td>\n",
       "      <td>24.2</td>\n",
       "      <td>0.82</td>\n",
       "      <td>1090</td>\n",
       "    </tr>\n",
       "    <tr>\n",
       "      <th>47</th>\n",
       "      <td>Washington</td>\n",
       "      <td>0.24</td>\n",
       "      <td>22.1</td>\n",
       "      <td>0.70</td>\n",
       "      <td>1074</td>\n",
       "    </tr>\n",
       "    <tr>\n",
       "      <th>4</th>\n",
       "      <td>California</td>\n",
       "      <td>0.23</td>\n",
       "      <td>22.6</td>\n",
       "      <td>0.63</td>\n",
       "      <td>1065</td>\n",
       "    </tr>\n",
       "    <tr>\n",
       "      <th>6</th>\n",
       "      <td>Connecticut</td>\n",
       "      <td>0.22</td>\n",
       "      <td>25.5</td>\n",
       "      <td>1.00</td>\n",
       "      <td>1046</td>\n",
       "    </tr>\n",
       "    <tr>\n",
       "      <th>32</th>\n",
       "      <td>New York</td>\n",
       "      <td>0.22</td>\n",
       "      <td>24.5</td>\n",
       "      <td>0.79</td>\n",
       "      <td>1064</td>\n",
       "    </tr>\n",
       "    <tr>\n",
       "      <th>21</th>\n",
       "      <td>Massachusetts</td>\n",
       "      <td>0.21</td>\n",
       "      <td>25.5</td>\n",
       "      <td>0.81</td>\n",
       "      <td>1120</td>\n",
       "    </tr>\n",
       "    <tr>\n",
       "      <th>46</th>\n",
       "      <td>Virginia</td>\n",
       "      <td>0.21</td>\n",
       "      <td>24.0</td>\n",
       "      <td>0.68</td>\n",
       "      <td>1119</td>\n",
       "    </tr>\n",
       "    <tr>\n",
       "      <th>45</th>\n",
       "      <td>Vermont</td>\n",
       "      <td>0.20</td>\n",
       "      <td>24.1</td>\n",
       "      <td>0.66</td>\n",
       "      <td>1106</td>\n",
       "    </tr>\n",
       "    <tr>\n",
       "      <th>22</th>\n",
       "      <td>Michigan</td>\n",
       "      <td>0.19</td>\n",
       "      <td>24.4</td>\n",
       "      <td>1.00</td>\n",
       "      <td>1003</td>\n",
       "    </tr>\n",
       "    <tr>\n",
       "      <th>38</th>\n",
       "      <td>Pennsylvania</td>\n",
       "      <td>0.17</td>\n",
       "      <td>23.6</td>\n",
       "      <td>0.70</td>\n",
       "      <td>1082</td>\n",
       "    </tr>\n",
       "    <tr>\n",
       "      <th>29</th>\n",
       "      <td>New Hampshire</td>\n",
       "      <td>0.14</td>\n",
       "      <td>25.0</td>\n",
       "      <td>0.95</td>\n",
       "      <td>1059</td>\n",
       "    </tr>\n",
       "    <tr>\n",
       "      <th>7</th>\n",
       "      <td>Delaware</td>\n",
       "      <td>0.13</td>\n",
       "      <td>24.1</td>\n",
       "      <td>1.00</td>\n",
       "      <td>985</td>\n",
       "    </tr>\n",
       "    <tr>\n",
       "      <th>39</th>\n",
       "      <td>Rhode Island</td>\n",
       "      <td>0.12</td>\n",
       "      <td>24.7</td>\n",
       "      <td>1.00</td>\n",
       "      <td>995</td>\n",
       "    </tr>\n",
       "    <tr>\n",
       "      <th>19</th>\n",
       "      <td>Maine</td>\n",
       "      <td>0.10</td>\n",
       "      <td>24.3</td>\n",
       "      <td>0.99</td>\n",
       "      <td>1013</td>\n",
       "    </tr>\n",
       "  </tbody>\n",
       "</table>\n",
       "</div>"
      ],
      "text/plain": [
       "            state  act_participation  act_composite  sat_participation  \\\n",
       "5        Colorado               0.27           23.8               1.00   \n",
       "30     New Jersey               0.25           24.2               0.82   \n",
       "47     Washington               0.24           22.1               0.70   \n",
       "4      California               0.23           22.6               0.63   \n",
       "6     Connecticut               0.22           25.5               1.00   \n",
       "32       New York               0.22           24.5               0.79   \n",
       "21  Massachusetts               0.21           25.5               0.81   \n",
       "46       Virginia               0.21           24.0               0.68   \n",
       "45        Vermont               0.20           24.1               0.66   \n",
       "22       Michigan               0.19           24.4               1.00   \n",
       "38   Pennsylvania               0.17           23.6               0.70   \n",
       "29  New Hampshire               0.14           25.0               0.95   \n",
       "7        Delaware               0.13           24.1               1.00   \n",
       "39   Rhode Island               0.12           24.7               1.00   \n",
       "19          Maine               0.10           24.3               0.99   \n",
       "\n",
       "    sat_total  \n",
       "5        1024  \n",
       "30       1090  \n",
       "47       1074  \n",
       "4        1065  \n",
       "6        1046  \n",
       "32       1064  \n",
       "21       1120  \n",
       "46       1119  \n",
       "45       1106  \n",
       "22       1003  \n",
       "38       1082  \n",
       "29       1059  \n",
       "7         985  \n",
       "39        995  \n",
       "19       1013  "
      ]
     },
     "execution_count": 55,
     "metadata": {},
     "output_type": "execute_result"
    }
   ],
   "source": [
    "# among the bottom 15 of ACT participation rates, CA has the lowest SAT participation rate\n",
    "state_2019.sort_values(by=['act_participation'], ascending = False).tail(15)"
   ]
  },
  {
   "cell_type": "markdown",
   "metadata": {},
   "source": [
    "#### 4.3.2 Focusing on SAT Partipations in California"
   ]
  },
  {
   "cell_type": "markdown",
   "metadata": {},
   "source": [
    "ADD Summary"
   ]
  },
  {
   "cell_type": "code",
   "execution_count": 56,
   "metadata": {},
   "outputs": [
    {
     "name": "stdout",
     "output_type": "stream",
     "text": [
      "<class 'pandas.core.frame.DataFrame'>\n",
      "RangeIndex: 2580 entries, 0 to 2579\n",
      "Data columns (total 11 columns):\n",
      " #   Column              Non-Null Count  Dtype  \n",
      "---  ------              --------------  -----  \n",
      " 0   ccode               2579 non-null   float64\n",
      " 1   cdcode              2579 non-null   float64\n",
      " 2   scode               2579 non-null   float64\n",
      " 3   dname               2521 non-null   object \n",
      " 4   cname               2579 non-null   object \n",
      " 5   enroll12            2579 non-null   float64\n",
      " 6   numtsttakr12        2579 non-null   float64\n",
      " 7   enroll11            2579 non-null   float64\n",
      " 8   numtsttakr11        2579 non-null   float64\n",
      " 9   pctbothbenchmark12  2304 non-null   object \n",
      " 10  pctbothbenchmark11  2269 non-null   object \n",
      "dtypes: float64(7), object(4)\n",
      "memory usage: 221.8+ KB\n"
     ]
    }
   ],
   "source": [
    "sat_2019_ca.info()"
   ]
  },
  {
   "cell_type": "code",
   "execution_count": 57,
   "metadata": {},
   "outputs": [],
   "source": [
    "sat_2019_ca['participation_11'] = sat_2019_ca['numtsttakr11'] / sat_2019_ca['enroll11']"
   ]
  },
  {
   "cell_type": "code",
   "execution_count": 58,
   "metadata": {},
   "outputs": [],
   "source": [
    "sat_2019_ca['participation_12'] = sat_2019_ca['numtsttakr12'] / sat_2019_ca['enroll12']"
   ]
  },
  {
   "cell_type": "code",
   "execution_count": 59,
   "metadata": {},
   "outputs": [],
   "source": [
    "sat_2019_ca['enroll1112'] = sat_2019_ca['enroll11'] + sat_2019_ca['enroll12']"
   ]
  },
  {
   "cell_type": "code",
   "execution_count": 60,
   "metadata": {},
   "outputs": [],
   "source": [
    "sat_2019_ca['numtsttakr_1112'] = sat_2019_ca['numtsttakr11'] + sat_2019_ca['numtsttakr12']"
   ]
  },
  {
   "cell_type": "code",
   "execution_count": 61,
   "metadata": {},
   "outputs": [],
   "source": [
    "sat_2019_ca['participation_1112'] = sat_2019_ca['numtsttakr_1112'] / sat_2019_ca['enroll1112']"
   ]
  },
  {
   "cell_type": "code",
   "execution_count": 62,
   "metadata": {},
   "outputs": [
    {
     "data": {
      "text/html": [
       "<div>\n",
       "<style scoped>\n",
       "    .dataframe tbody tr th:only-of-type {\n",
       "        vertical-align: middle;\n",
       "    }\n",
       "\n",
       "    .dataframe tbody tr th {\n",
       "        vertical-align: top;\n",
       "    }\n",
       "\n",
       "    .dataframe thead th {\n",
       "        text-align: right;\n",
       "    }\n",
       "</style>\n",
       "<table border=\"1\" class=\"dataframe\">\n",
       "  <thead>\n",
       "    <tr style=\"text-align: right;\">\n",
       "      <th></th>\n",
       "      <th>ccode</th>\n",
       "      <th>cdcode</th>\n",
       "      <th>scode</th>\n",
       "      <th>dname</th>\n",
       "      <th>cname</th>\n",
       "      <th>enroll12</th>\n",
       "      <th>numtsttakr12</th>\n",
       "      <th>enroll11</th>\n",
       "      <th>numtsttakr11</th>\n",
       "      <th>pctbothbenchmark12</th>\n",
       "      <th>pctbothbenchmark11</th>\n",
       "      <th>participation_11</th>\n",
       "      <th>participation_12</th>\n",
       "      <th>enroll1112</th>\n",
       "      <th>numtsttakr_1112</th>\n",
       "      <th>participation_1112</th>\n",
       "    </tr>\n",
       "  </thead>\n",
       "  <tbody>\n",
       "    <tr>\n",
       "      <th>0</th>\n",
       "      <td>6.0</td>\n",
       "      <td>661598.0</td>\n",
       "      <td>630046.0</td>\n",
       "      <td>Colusa Unified</td>\n",
       "      <td>Colusa</td>\n",
       "      <td>18.0</td>\n",
       "      <td>0.0</td>\n",
       "      <td>18.0</td>\n",
       "      <td>0.0</td>\n",
       "      <td>NaN</td>\n",
       "      <td>NaN</td>\n",
       "      <td>0.000000</td>\n",
       "      <td>0.000000</td>\n",
       "      <td>36.0</td>\n",
       "      <td>0.0</td>\n",
       "      <td>0.000000</td>\n",
       "    </tr>\n",
       "    <tr>\n",
       "      <th>1</th>\n",
       "      <td>6.0</td>\n",
       "      <td>661606.0</td>\n",
       "      <td>634758.0</td>\n",
       "      <td>Maxwell Unified</td>\n",
       "      <td>Colusa</td>\n",
       "      <td>29.0</td>\n",
       "      <td>10.0</td>\n",
       "      <td>26.0</td>\n",
       "      <td>6.0</td>\n",
       "      <td>*</td>\n",
       "      <td>*</td>\n",
       "      <td>0.230769</td>\n",
       "      <td>0.344828</td>\n",
       "      <td>55.0</td>\n",
       "      <td>16.0</td>\n",
       "      <td>0.290909</td>\n",
       "    </tr>\n",
       "    <tr>\n",
       "      <th>2</th>\n",
       "      <td>19.0</td>\n",
       "      <td>1964733.0</td>\n",
       "      <td>1930924.0</td>\n",
       "      <td>Los Angeles Unified</td>\n",
       "      <td>Los Angeles</td>\n",
       "      <td>206.0</td>\n",
       "      <td>102.0</td>\n",
       "      <td>219.0</td>\n",
       "      <td>174.0</td>\n",
       "      <td>13.73</td>\n",
       "      <td>6.32</td>\n",
       "      <td>0.794521</td>\n",
       "      <td>0.495146</td>\n",
       "      <td>425.0</td>\n",
       "      <td>276.0</td>\n",
       "      <td>0.649412</td>\n",
       "    </tr>\n",
       "  </tbody>\n",
       "</table>\n",
       "</div>"
      ],
      "text/plain": [
       "   ccode     cdcode      scode                dname        cname  enroll12  \\\n",
       "0    6.0   661598.0   630046.0       Colusa Unified       Colusa      18.0   \n",
       "1    6.0   661606.0   634758.0      Maxwell Unified       Colusa      29.0   \n",
       "2   19.0  1964733.0  1930924.0  Los Angeles Unified  Los Angeles     206.0   \n",
       "\n",
       "   numtsttakr12  enroll11  numtsttakr11 pctbothbenchmark12 pctbothbenchmark11  \\\n",
       "0           0.0      18.0           0.0                NaN                NaN   \n",
       "1          10.0      26.0           6.0                  *                  *   \n",
       "2         102.0     219.0         174.0              13.73               6.32   \n",
       "\n",
       "   participation_11  participation_12  enroll1112  numtsttakr_1112  \\\n",
       "0          0.000000          0.000000        36.0              0.0   \n",
       "1          0.230769          0.344828        55.0             16.0   \n",
       "2          0.794521          0.495146       425.0            276.0   \n",
       "\n",
       "   participation_1112  \n",
       "0            0.000000  \n",
       "1            0.290909  \n",
       "2            0.649412  "
      ]
     },
     "execution_count": 62,
     "metadata": {},
     "output_type": "execute_result"
    }
   ],
   "source": [
    "sat_2019_ca.head(3)"
   ]
  },
  {
   "cell_type": "code",
   "execution_count": 63,
   "metadata": {},
   "outputs": [
    {
     "data": {
      "text/plain": [
       "0.3329867222534832"
      ]
     },
     "execution_count": 63,
     "metadata": {},
     "output_type": "execute_result"
    }
   ],
   "source": [
    "sat_2019_ca['participation_1112'].mean()"
   ]
  },
  {
   "cell_type": "code",
   "execution_count": 64,
   "metadata": {},
   "outputs": [],
   "source": [
    "# creating the mask for schools that have SAT participation rate below average state rate\n",
    "below_mean_participation = sat_2019_ca['participation_1112'] < sat_2019_ca['participation_1112'].mean()"
   ]
  },
  {
   "cell_type": "code",
   "execution_count": 65,
   "metadata": {},
   "outputs": [],
   "source": [
    "below_mean_district = sat_2019_ca[below_mean_participation]"
   ]
  },
  {
   "cell_type": "code",
   "execution_count": 66,
   "metadata": {},
   "outputs": [
    {
     "data": {
      "text/plain": [
       "469"
      ]
     },
     "execution_count": 66,
     "metadata": {},
     "output_type": "execute_result"
    }
   ],
   "source": [
    "# getting unique district\n",
    "# https://www.geeksforgeeks.org/get-unique-values-from-a-column-in-pandas-dataframe/\n",
    "# sample: df.B.unique() \n",
    "len(below_mean_district.cdcode.unique())"
   ]
  },
  {
   "cell_type": "code",
   "execution_count": 67,
   "metadata": {},
   "outputs": [
    {
     "data": {
      "text/html": [
       "<div>\n",
       "<style scoped>\n",
       "    .dataframe tbody tr th:only-of-type {\n",
       "        vertical-align: middle;\n",
       "    }\n",
       "\n",
       "    .dataframe tbody tr th {\n",
       "        vertical-align: top;\n",
       "    }\n",
       "\n",
       "    .dataframe thead th {\n",
       "        text-align: right;\n",
       "    }\n",
       "</style>\n",
       "<table border=\"1\" class=\"dataframe\">\n",
       "  <thead>\n",
       "    <tr style=\"text-align: right;\">\n",
       "      <th></th>\n",
       "      <th>ccode</th>\n",
       "      <th>cdcode</th>\n",
       "      <th>scode</th>\n",
       "      <th>dname</th>\n",
       "      <th>cname</th>\n",
       "      <th>enroll12</th>\n",
       "      <th>numtsttakr12</th>\n",
       "      <th>enroll11</th>\n",
       "      <th>numtsttakr11</th>\n",
       "      <th>pctbothbenchmark12</th>\n",
       "      <th>pctbothbenchmark11</th>\n",
       "      <th>participation_11</th>\n",
       "      <th>participation_12</th>\n",
       "      <th>enroll1112</th>\n",
       "      <th>numtsttakr_1112</th>\n",
       "      <th>participation_1112</th>\n",
       "    </tr>\n",
       "  </thead>\n",
       "  <tbody>\n",
       "    <tr>\n",
       "      <th>0</th>\n",
       "      <td>6.0</td>\n",
       "      <td>661598.0</td>\n",
       "      <td>630046.0</td>\n",
       "      <td>Colusa Unified</td>\n",
       "      <td>Colusa</td>\n",
       "      <td>18.0</td>\n",
       "      <td>0.0</td>\n",
       "      <td>18.0</td>\n",
       "      <td>0.0</td>\n",
       "      <td>NaN</td>\n",
       "      <td>NaN</td>\n",
       "      <td>0.000000</td>\n",
       "      <td>0.000000</td>\n",
       "      <td>36.0</td>\n",
       "      <td>0.0</td>\n",
       "      <td>0.000000</td>\n",
       "    </tr>\n",
       "    <tr>\n",
       "      <th>1</th>\n",
       "      <td>6.0</td>\n",
       "      <td>661606.0</td>\n",
       "      <td>634758.0</td>\n",
       "      <td>Maxwell Unified</td>\n",
       "      <td>Colusa</td>\n",
       "      <td>29.0</td>\n",
       "      <td>10.0</td>\n",
       "      <td>26.0</td>\n",
       "      <td>6.0</td>\n",
       "      <td>*</td>\n",
       "      <td>*</td>\n",
       "      <td>0.230769</td>\n",
       "      <td>0.344828</td>\n",
       "      <td>55.0</td>\n",
       "      <td>16.0</td>\n",
       "      <td>0.290909</td>\n",
       "    </tr>\n",
       "    <tr>\n",
       "      <th>7</th>\n",
       "      <td>33.0</td>\n",
       "      <td>3367215.0</td>\n",
       "      <td>3336955.0</td>\n",
       "      <td>Riverside Unified</td>\n",
       "      <td>Riverside</td>\n",
       "      <td>114.0</td>\n",
       "      <td>17.0</td>\n",
       "      <td>83.0</td>\n",
       "      <td>0.0</td>\n",
       "      <td>11.76</td>\n",
       "      <td>NaN</td>\n",
       "      <td>0.000000</td>\n",
       "      <td>0.149123</td>\n",
       "      <td>197.0</td>\n",
       "      <td>17.0</td>\n",
       "      <td>0.086294</td>\n",
       "    </tr>\n",
       "    <tr>\n",
       "      <th>8</th>\n",
       "      <td>13.0</td>\n",
       "      <td>1363107.0</td>\n",
       "      <td>1332501.0</td>\n",
       "      <td>Calipatria Unified</td>\n",
       "      <td>Imperial</td>\n",
       "      <td>91.0</td>\n",
       "      <td>27.0</td>\n",
       "      <td>92.0</td>\n",
       "      <td>11.0</td>\n",
       "      <td>18.52</td>\n",
       "      <td>*</td>\n",
       "      <td>0.119565</td>\n",
       "      <td>0.296703</td>\n",
       "      <td>183.0</td>\n",
       "      <td>38.0</td>\n",
       "      <td>0.207650</td>\n",
       "    </tr>\n",
       "    <tr>\n",
       "      <th>10</th>\n",
       "      <td>33.0</td>\n",
       "      <td>3367033.0</td>\n",
       "      <td>3331600.0</td>\n",
       "      <td>Corona-Norco Unified</td>\n",
       "      <td>Riverside</td>\n",
       "      <td>581.0</td>\n",
       "      <td>204.0</td>\n",
       "      <td>572.0</td>\n",
       "      <td>168.0</td>\n",
       "      <td>40.20</td>\n",
       "      <td>46.43</td>\n",
       "      <td>0.293706</td>\n",
       "      <td>0.351119</td>\n",
       "      <td>1153.0</td>\n",
       "      <td>372.0</td>\n",
       "      <td>0.322637</td>\n",
       "    </tr>\n",
       "  </tbody>\n",
       "</table>\n",
       "</div>"
      ],
      "text/plain": [
       "    ccode     cdcode      scode                 dname      cname  enroll12  \\\n",
       "0     6.0   661598.0   630046.0        Colusa Unified     Colusa      18.0   \n",
       "1     6.0   661606.0   634758.0       Maxwell Unified     Colusa      29.0   \n",
       "7    33.0  3367215.0  3336955.0     Riverside Unified  Riverside     114.0   \n",
       "8    13.0  1363107.0  1332501.0    Calipatria Unified   Imperial      91.0   \n",
       "10   33.0  3367033.0  3331600.0  Corona-Norco Unified  Riverside     581.0   \n",
       "\n",
       "    numtsttakr12  enroll11  numtsttakr11 pctbothbenchmark12  \\\n",
       "0            0.0      18.0           0.0                NaN   \n",
       "1           10.0      26.0           6.0                  *   \n",
       "7           17.0      83.0           0.0              11.76   \n",
       "8           27.0      92.0          11.0              18.52   \n",
       "10         204.0     572.0         168.0              40.20   \n",
       "\n",
       "   pctbothbenchmark11  participation_11  participation_12  enroll1112  \\\n",
       "0                 NaN          0.000000          0.000000        36.0   \n",
       "1                   *          0.230769          0.344828        55.0   \n",
       "7                 NaN          0.000000          0.149123       197.0   \n",
       "8                   *          0.119565          0.296703       183.0   \n",
       "10              46.43          0.293706          0.351119      1153.0   \n",
       "\n",
       "    numtsttakr_1112  participation_1112  \n",
       "0               0.0            0.000000  \n",
       "1              16.0            0.290909  \n",
       "7              17.0            0.086294  \n",
       "8              38.0            0.207650  \n",
       "10            372.0            0.322637  "
      ]
     },
     "execution_count": 67,
     "metadata": {},
     "output_type": "execute_result"
    }
   ],
   "source": [
    "below_mean_district.head()"
   ]
  },
  {
   "cell_type": "code",
   "execution_count": 68,
   "metadata": {},
   "outputs": [],
   "source": [
    "# creating the mask for schools that have zero SAT participation rate\n",
    "zero_participation = sat_2019_ca['participation_1112'] == 0"
   ]
  },
  {
   "cell_type": "code",
   "execution_count": 69,
   "metadata": {},
   "outputs": [],
   "source": [
    "zero_district = sat_2019_ca[zero_participation]"
   ]
  },
  {
   "cell_type": "code",
   "execution_count": 70,
   "metadata": {},
   "outputs": [
    {
     "data": {
      "text/plain": [
       "105"
      ]
     },
     "execution_count": 70,
     "metadata": {},
     "output_type": "execute_result"
    }
   ],
   "source": [
    "# getting unique school district\n",
    "len(zero_district.cdcode.unique())"
   ]
  },
  {
   "cell_type": "code",
   "execution_count": 71,
   "metadata": {},
   "outputs": [
    {
     "data": {
      "text/html": [
       "<div>\n",
       "<style scoped>\n",
       "    .dataframe tbody tr th:only-of-type {\n",
       "        vertical-align: middle;\n",
       "    }\n",
       "\n",
       "    .dataframe tbody tr th {\n",
       "        vertical-align: top;\n",
       "    }\n",
       "\n",
       "    .dataframe thead th {\n",
       "        text-align: right;\n",
       "    }\n",
       "</style>\n",
       "<table border=\"1\" class=\"dataframe\">\n",
       "  <thead>\n",
       "    <tr style=\"text-align: right;\">\n",
       "      <th></th>\n",
       "      <th>ccode</th>\n",
       "      <th>cdcode</th>\n",
       "      <th>scode</th>\n",
       "      <th>dname</th>\n",
       "      <th>cname</th>\n",
       "      <th>enroll12</th>\n",
       "      <th>numtsttakr12</th>\n",
       "      <th>enroll11</th>\n",
       "      <th>numtsttakr11</th>\n",
       "      <th>pctbothbenchmark12</th>\n",
       "      <th>pctbothbenchmark11</th>\n",
       "      <th>participation_11</th>\n",
       "      <th>participation_12</th>\n",
       "      <th>enroll1112</th>\n",
       "      <th>numtsttakr_1112</th>\n",
       "      <th>participation_1112</th>\n",
       "    </tr>\n",
       "  </thead>\n",
       "  <tbody>\n",
       "    <tr>\n",
       "      <th>0</th>\n",
       "      <td>6.0</td>\n",
       "      <td>661598.0</td>\n",
       "      <td>630046.0</td>\n",
       "      <td>Colusa Unified</td>\n",
       "      <td>Colusa</td>\n",
       "      <td>18.0</td>\n",
       "      <td>0.0</td>\n",
       "      <td>18.0</td>\n",
       "      <td>0.0</td>\n",
       "      <td>NaN</td>\n",
       "      <td>NaN</td>\n",
       "      <td>0.0</td>\n",
       "      <td>0.0</td>\n",
       "      <td>36.0</td>\n",
       "      <td>0.0</td>\n",
       "      <td>0.0</td>\n",
       "    </tr>\n",
       "    <tr>\n",
       "      <th>12</th>\n",
       "      <td>15.0</td>\n",
       "      <td>1563776.0</td>\n",
       "      <td>1530377.0</td>\n",
       "      <td>Southern Kern Unified</td>\n",
       "      <td>Kern</td>\n",
       "      <td>18.0</td>\n",
       "      <td>0.0</td>\n",
       "      <td>27.0</td>\n",
       "      <td>0.0</td>\n",
       "      <td>NaN</td>\n",
       "      <td>NaN</td>\n",
       "      <td>0.0</td>\n",
       "      <td>0.0</td>\n",
       "      <td>45.0</td>\n",
       "      <td>0.0</td>\n",
       "      <td>0.0</td>\n",
       "    </tr>\n",
       "    <tr>\n",
       "      <th>19</th>\n",
       "      <td>10.0</td>\n",
       "      <td>1062117.0</td>\n",
       "      <td>1030469.0</td>\n",
       "      <td>Clovis Unified</td>\n",
       "      <td>Fresno</td>\n",
       "      <td>18.0</td>\n",
       "      <td>0.0</td>\n",
       "      <td>15.0</td>\n",
       "      <td>0.0</td>\n",
       "      <td>NaN</td>\n",
       "      <td>NaN</td>\n",
       "      <td>0.0</td>\n",
       "      <td>0.0</td>\n",
       "      <td>33.0</td>\n",
       "      <td>0.0</td>\n",
       "      <td>0.0</td>\n",
       "    </tr>\n",
       "    <tr>\n",
       "      <th>45</th>\n",
       "      <td>1.0</td>\n",
       "      <td>161259.0</td>\n",
       "      <td>115386.0</td>\n",
       "      <td>Oakland Unified</td>\n",
       "      <td>Alameda</td>\n",
       "      <td>60.0</td>\n",
       "      <td>0.0</td>\n",
       "      <td>0.0</td>\n",
       "      <td>0.0</td>\n",
       "      <td>NaN</td>\n",
       "      <td>NaN</td>\n",
       "      <td>NaN</td>\n",
       "      <td>0.0</td>\n",
       "      <td>60.0</td>\n",
       "      <td>0.0</td>\n",
       "      <td>0.0</td>\n",
       "    </tr>\n",
       "    <tr>\n",
       "      <th>71</th>\n",
       "      <td>47.0</td>\n",
       "      <td>4710470.0</td>\n",
       "      <td>137372.0</td>\n",
       "      <td>Siskiyou County Office of Education</td>\n",
       "      <td>Siskiyou</td>\n",
       "      <td>20.0</td>\n",
       "      <td>0.0</td>\n",
       "      <td>17.0</td>\n",
       "      <td>0.0</td>\n",
       "      <td>NaN</td>\n",
       "      <td>NaN</td>\n",
       "      <td>0.0</td>\n",
       "      <td>0.0</td>\n",
       "      <td>37.0</td>\n",
       "      <td>0.0</td>\n",
       "      <td>0.0</td>\n",
       "    </tr>\n",
       "  </tbody>\n",
       "</table>\n",
       "</div>"
      ],
      "text/plain": [
       "    ccode     cdcode      scode                                dname  \\\n",
       "0     6.0   661598.0   630046.0                       Colusa Unified   \n",
       "12   15.0  1563776.0  1530377.0                Southern Kern Unified   \n",
       "19   10.0  1062117.0  1030469.0                       Clovis Unified   \n",
       "45    1.0   161259.0   115386.0                      Oakland Unified   \n",
       "71   47.0  4710470.0   137372.0  Siskiyou County Office of Education   \n",
       "\n",
       "       cname  enroll12  numtsttakr12  enroll11  numtsttakr11  \\\n",
       "0     Colusa      18.0           0.0      18.0           0.0   \n",
       "12      Kern      18.0           0.0      27.0           0.0   \n",
       "19    Fresno      18.0           0.0      15.0           0.0   \n",
       "45   Alameda      60.0           0.0       0.0           0.0   \n",
       "71  Siskiyou      20.0           0.0      17.0           0.0   \n",
       "\n",
       "   pctbothbenchmark12 pctbothbenchmark11  participation_11  participation_12  \\\n",
       "0                 NaN                NaN               0.0               0.0   \n",
       "12                NaN                NaN               0.0               0.0   \n",
       "19                NaN                NaN               0.0               0.0   \n",
       "45                NaN                NaN               NaN               0.0   \n",
       "71                NaN                NaN               0.0               0.0   \n",
       "\n",
       "    enroll1112  numtsttakr_1112  participation_1112  \n",
       "0         36.0              0.0                 0.0  \n",
       "12        45.0              0.0                 0.0  \n",
       "19        33.0              0.0                 0.0  \n",
       "45        60.0              0.0                 0.0  \n",
       "71        37.0              0.0                 0.0  "
      ]
     },
     "execution_count": 71,
     "metadata": {},
     "output_type": "execute_result"
    }
   ],
   "source": [
    "zero_district.head()"
   ]
  },
  {
   "cell_type": "markdown",
   "metadata": {},
   "source": [
    "## 5. Data Visualization"
   ]
  },
  {
   "cell_type": "code",
   "execution_count": 72,
   "metadata": {},
   "outputs": [
    {
     "data": {
      "text/html": [
       "<div>\n",
       "<style scoped>\n",
       "    .dataframe tbody tr th:only-of-type {\n",
       "        vertical-align: middle;\n",
       "    }\n",
       "\n",
       "    .dataframe tbody tr th {\n",
       "        vertical-align: top;\n",
       "    }\n",
       "\n",
       "    .dataframe thead th {\n",
       "        text-align: right;\n",
       "    }\n",
       "</style>\n",
       "<table border=\"1\" class=\"dataframe\">\n",
       "  <thead>\n",
       "    <tr style=\"text-align: right;\">\n",
       "      <th></th>\n",
       "      <th>state</th>\n",
       "      <th>act_participation</th>\n",
       "      <th>act_composite</th>\n",
       "      <th>sat_participation</th>\n",
       "      <th>sat_total</th>\n",
       "    </tr>\n",
       "  </thead>\n",
       "  <tbody>\n",
       "    <tr>\n",
       "      <th>0</th>\n",
       "      <td>Alabama</td>\n",
       "      <td>1.00</td>\n",
       "      <td>18.9</td>\n",
       "      <td>0.10</td>\n",
       "      <td>1143</td>\n",
       "    </tr>\n",
       "    <tr>\n",
       "      <th>1</th>\n",
       "      <td>Alaska</td>\n",
       "      <td>0.38</td>\n",
       "      <td>20.1</td>\n",
       "      <td>0.41</td>\n",
       "      <td>1097</td>\n",
       "    </tr>\n",
       "    <tr>\n",
       "      <th>2</th>\n",
       "      <td>Arizona</td>\n",
       "      <td>0.73</td>\n",
       "      <td>19.0</td>\n",
       "      <td>0.31</td>\n",
       "      <td>1134</td>\n",
       "    </tr>\n",
       "    <tr>\n",
       "      <th>3</th>\n",
       "      <td>Arkansas</td>\n",
       "      <td>1.00</td>\n",
       "      <td>19.3</td>\n",
       "      <td>0.10</td>\n",
       "      <td>1141</td>\n",
       "    </tr>\n",
       "    <tr>\n",
       "      <th>4</th>\n",
       "      <td>California</td>\n",
       "      <td>0.23</td>\n",
       "      <td>22.6</td>\n",
       "      <td>0.63</td>\n",
       "      <td>1065</td>\n",
       "    </tr>\n",
       "  </tbody>\n",
       "</table>\n",
       "</div>"
      ],
      "text/plain": [
       "        state  act_participation  act_composite  sat_participation  sat_total\n",
       "0     Alabama               1.00           18.9               0.10       1143\n",
       "1      Alaska               0.38           20.1               0.41       1097\n",
       "2     Arizona               0.73           19.0               0.31       1134\n",
       "3    Arkansas               1.00           19.3               0.10       1141\n",
       "4  California               0.23           22.6               0.63       1065"
      ]
     },
     "execution_count": 72,
     "metadata": {},
     "output_type": "execute_result"
    }
   ],
   "source": [
    "# data \n",
    "state_2019.head()"
   ]
  },
  {
   "cell_type": "code",
   "execution_count": 73,
   "metadata": {},
   "outputs": [
    {
     "data": {
      "text/html": [
       "<div>\n",
       "<style scoped>\n",
       "    .dataframe tbody tr th:only-of-type {\n",
       "        vertical-align: middle;\n",
       "    }\n",
       "\n",
       "    .dataframe tbody tr th {\n",
       "        vertical-align: top;\n",
       "    }\n",
       "\n",
       "    .dataframe thead th {\n",
       "        text-align: right;\n",
       "    }\n",
       "</style>\n",
       "<table border=\"1\" class=\"dataframe\">\n",
       "  <thead>\n",
       "    <tr style=\"text-align: right;\">\n",
       "      <th></th>\n",
       "      <th>state</th>\n",
       "      <th>act_participation</th>\n",
       "      <th>act_composite</th>\n",
       "      <th>sat_participation</th>\n",
       "      <th>sat_total</th>\n",
       "    </tr>\n",
       "  </thead>\n",
       "  <tbody>\n",
       "    <tr>\n",
       "      <th>4</th>\n",
       "      <td>California</td>\n",
       "      <td>0.23</td>\n",
       "      <td>22.6</td>\n",
       "      <td>0.63</td>\n",
       "      <td>1065</td>\n",
       "    </tr>\n",
       "    <tr>\n",
       "      <th>6</th>\n",
       "      <td>Connecticut</td>\n",
       "      <td>0.22</td>\n",
       "      <td>25.5</td>\n",
       "      <td>1.00</td>\n",
       "      <td>1046</td>\n",
       "    </tr>\n",
       "    <tr>\n",
       "      <th>32</th>\n",
       "      <td>New York</td>\n",
       "      <td>0.22</td>\n",
       "      <td>24.5</td>\n",
       "      <td>0.79</td>\n",
       "      <td>1064</td>\n",
       "    </tr>\n",
       "    <tr>\n",
       "      <th>21</th>\n",
       "      <td>Massachusetts</td>\n",
       "      <td>0.21</td>\n",
       "      <td>25.5</td>\n",
       "      <td>0.81</td>\n",
       "      <td>1120</td>\n",
       "    </tr>\n",
       "    <tr>\n",
       "      <th>46</th>\n",
       "      <td>Virginia</td>\n",
       "      <td>0.21</td>\n",
       "      <td>24.0</td>\n",
       "      <td>0.68</td>\n",
       "      <td>1119</td>\n",
       "    </tr>\n",
       "    <tr>\n",
       "      <th>45</th>\n",
       "      <td>Vermont</td>\n",
       "      <td>0.20</td>\n",
       "      <td>24.1</td>\n",
       "      <td>0.66</td>\n",
       "      <td>1106</td>\n",
       "    </tr>\n",
       "    <tr>\n",
       "      <th>22</th>\n",
       "      <td>Michigan</td>\n",
       "      <td>0.19</td>\n",
       "      <td>24.4</td>\n",
       "      <td>1.00</td>\n",
       "      <td>1003</td>\n",
       "    </tr>\n",
       "    <tr>\n",
       "      <th>38</th>\n",
       "      <td>Pennsylvania</td>\n",
       "      <td>0.17</td>\n",
       "      <td>23.6</td>\n",
       "      <td>0.70</td>\n",
       "      <td>1082</td>\n",
       "    </tr>\n",
       "    <tr>\n",
       "      <th>29</th>\n",
       "      <td>New Hampshire</td>\n",
       "      <td>0.14</td>\n",
       "      <td>25.0</td>\n",
       "      <td>0.95</td>\n",
       "      <td>1059</td>\n",
       "    </tr>\n",
       "    <tr>\n",
       "      <th>7</th>\n",
       "      <td>Delaware</td>\n",
       "      <td>0.13</td>\n",
       "      <td>24.1</td>\n",
       "      <td>1.00</td>\n",
       "      <td>985</td>\n",
       "    </tr>\n",
       "    <tr>\n",
       "      <th>39</th>\n",
       "      <td>Rhode Island</td>\n",
       "      <td>0.12</td>\n",
       "      <td>24.7</td>\n",
       "      <td>1.00</td>\n",
       "      <td>995</td>\n",
       "    </tr>\n",
       "    <tr>\n",
       "      <th>19</th>\n",
       "      <td>Maine</td>\n",
       "      <td>0.10</td>\n",
       "      <td>24.3</td>\n",
       "      <td>0.99</td>\n",
       "      <td>1013</td>\n",
       "    </tr>\n",
       "  </tbody>\n",
       "</table>\n",
       "</div>"
      ],
      "text/plain": [
       "            state  act_participation  act_composite  sat_participation  \\\n",
       "4      California               0.23           22.6               0.63   \n",
       "6     Connecticut               0.22           25.5               1.00   \n",
       "32       New York               0.22           24.5               0.79   \n",
       "21  Massachusetts               0.21           25.5               0.81   \n",
       "46       Virginia               0.21           24.0               0.68   \n",
       "45        Vermont               0.20           24.1               0.66   \n",
       "22       Michigan               0.19           24.4               1.00   \n",
       "38   Pennsylvania               0.17           23.6               0.70   \n",
       "29  New Hampshire               0.14           25.0               0.95   \n",
       "7        Delaware               0.13           24.1               1.00   \n",
       "39   Rhode Island               0.12           24.7               1.00   \n",
       "19          Maine               0.10           24.3               0.99   \n",
       "\n",
       "    sat_total  \n",
       "4        1065  \n",
       "6        1046  \n",
       "32       1064  \n",
       "21       1120  \n",
       "46       1119  \n",
       "45       1106  \n",
       "22       1003  \n",
       "38       1082  \n",
       "29       1059  \n",
       "7         985  \n",
       "39        995  \n",
       "19       1013  "
      ]
     },
     "execution_count": 73,
     "metadata": {},
     "output_type": "execute_result"
    }
   ],
   "source": [
    "# sort by act participation\n",
    "state_2019.sort_values(by=['act_participation'], ascending = False).tail(12)"
   ]
  },
  {
   "cell_type": "markdown",
   "metadata": {},
   "source": [
    "### 6.1 2019 ACT Participation Rate by State (Bar Plot)"
   ]
  },
  {
   "cell_type": "code",
   "execution_count": 74,
   "metadata": {},
   "outputs": [
    {
     "data": {
      "text/plain": [
       "Text(0.5, 1.0, 'State ACT Participation Rate, 2019')"
      ]
     },
     "execution_count": 74,
     "metadata": {},
     "output_type": "execute_result"
    },
    {
     "data": {
      "image/png": "[encoded data removed]",
      "text/plain": [
       "<Figure size 360x864 with 1 Axes>"
      ]
     },
     "metadata": {
      "needs_background": "light"
     },
     "output_type": "display_data"
    }
   ],
   "source": [
    "plt.figure(figsize=(5,12))\n",
    "sns.barplot(x ='act_participation', \n",
    "            y='state', \n",
    "            data=state_2019, \n",
    "            order=state_2019.sort_values('act_participation', ascending = False).state, color= 'orange')\n",
    "plt.xlabel('ACT Participation Rate')\n",
    "plt.ylabel('States')\n",
    "plt.title(\"State ACT Participation Rate, 2019\")"
   ]
  },
  {
   "cell_type": "markdown",
   "metadata": {},
   "source": [
    "### 5.2 2019 SAT Participation Rate by State (Bar Plot)"
   ]
  },
  {
   "cell_type": "code",
   "execution_count": 75,
   "metadata": {},
   "outputs": [
    {
     "data": {
      "text/plain": [
       "Text(0.5, 1.0, 'State SAT Participation Rate, 2019')"
      ]
     },
     "execution_count": 75,
     "metadata": {},
     "output_type": "execute_result"
    },
    {
     "data": {
      "image/png": "[encoded data removed]",
      "text/plain": [
       "<Figure size 360x864 with 1 Axes>"
      ]
     },
     "metadata": {
      "needs_background": "light"
     },
     "output_type": "display_data"
    }
   ],
   "source": [
    "plt.figure(figsize=(5,12))\n",
    "sns.barplot(x ='sat_participation', \n",
    "            y='state', \n",
    "            data=state_2019, \n",
    "            order=state_2019.sort_values('sat_participation', ascending = False).state, color= 'blue')\n",
    "plt.xlabel('SAT Participation Rate')\n",
    "plt.ylabel('States')\n",
    "plt.title(\"State SAT Participation Rate, 2019\")"
   ]
  },
  {
   "cell_type": "markdown",
   "metadata": {},
   "source": [
    "### 5.3 State ACT/SAT Participation Rate Distribution (Boxplot)"
   ]
  },
  {
   "cell_type": "code",
   "execution_count": 76,
   "metadata": {},
   "outputs": [
    {
     "data": {
      "text/plain": [
       "count    51.000000\n",
       "mean      0.587451\n",
       "std       0.343982\n",
       "min       0.100000\n",
       "25%       0.245000\n",
       "50%       0.540000\n",
       "75%       1.000000\n",
       "max       1.000000\n",
       "Name: act_participation, dtype: float64"
      ]
     },
     "execution_count": 76,
     "metadata": {},
     "output_type": "execute_result"
    }
   ],
   "source": [
    "# describing the ACT participation rate by State\n",
    "state_2019['act_participation'].describe()"
   ]
  },
  {
   "cell_type": "code",
   "execution_count": 77,
   "metadata": {},
   "outputs": [
    {
     "data": {
      "image/png": "[encoded data removed]",
      "text/plain": [
       "<Figure size 432x432 with 1 Axes>"
      ]
     },
     "metadata": {
      "needs_background": "light"
     },
     "output_type": "display_data"
    }
   ],
   "source": [
    "# using a boxplot to show the distribution\n",
    "plt.figure(figsize=(6,6))\n",
    "plt.title('Distribution of ACT/SAT Participation Rate by State')\n",
    "plt.xlabel('State ACT/SAT Participation')\n",
    "plt.ylabel('Participation Rate')\n",
    "plt.boxplot([state_2019['act_participation'], state_2019['sat_participation']])\n",
    "plt.xticks([1, 2], ['ACT', 'SAT'])\n",
    "plt.show()"
   ]
  },
  {
   "cell_type": "markdown",
   "metadata": {},
   "source": [
    "### 5.4 California School SAT Participation Rate (Histogram and Kernel Density)"
   ]
  },
  {
   "cell_type": "code",
   "execution_count": 78,
   "metadata": {},
   "outputs": [
    {
     "data": {
      "text/plain": [
       "(2580, 16)"
      ]
     },
     "execution_count": 78,
     "metadata": {},
     "output_type": "execute_result"
    }
   ],
   "source": [
    "sat_2019_ca.shape"
   ]
  },
  {
   "cell_type": "code",
   "execution_count": 79,
   "metadata": {},
   "outputs": [
    {
     "data": {
      "text/plain": [
       "148"
      ]
     },
     "execution_count": 79,
     "metadata": {},
     "output_type": "execute_result"
    }
   ],
   "source": [
    "# checking how many schools in the DataFrame have participation rate = 0\n",
    "len(sat_2019_ca[sat_2019_ca['participation_1112'] == 0])"
   ]
  },
  {
   "cell_type": "markdown",
   "metadata": {},
   "source": [
    "Amongst all California school districts, there are 148 schools that currently have zero participation rate. Since many of the school have nearly zero participation, but not exact zero, I also include a Kernel Density Curve to show the distribution."
   ]
  },
  {
   "cell_type": "code",
   "execution_count": 80,
   "metadata": {},
   "outputs": [
    {
     "data": {
      "image/png": "[encoded data removed]",
      "text/plain": [
       "<Figure size 576x432 with 1 Axes>"
      ]
     },
     "metadata": {
      "needs_background": "light"
     },
     "output_type": "display_data"
    }
   ],
   "source": [
    "plt.figure(figsize=(8,6))\n",
    "sns.histplot(x = 'participation_1112', data = sat_2019_ca, bins = 20)\n",
    "plt.xlabel('SAT Participation Rate by School')\n",
    "plt.title(\"California School SAT Participation Rate, 2019\")\n",
    "plt.show()"
   ]
  },
  {
   "cell_type": "code",
   "execution_count": 81,
   "metadata": {},
   "outputs": [
    {
     "data": {
      "text/plain": [
       "<Figure size 720x432 with 0 Axes>"
      ]
     },
     "metadata": {},
     "output_type": "display_data"
    },
    {
     "data": {
      "image/png": "[encoded data removed]",
      "text/plain": [
       "<Figure size 360x360 with 1 Axes>"
      ]
     },
     "metadata": {
      "needs_background": "light"
     },
     "output_type": "display_data"
    }
   ],
   "source": [
    "# Kernel Density Curve using sns.displot()\n",
    "plt.figure(figsize=(10,6))\n",
    "sns.displot(x='participation_1112', data = sat_2019_ca, kind=\"kde\")\n",
    "plt.xlabel('SAT Participation Rate by School')\n",
    "plt.title(\"Density of California School SAT Participation Rate, 2019\")\n",
    "plt.show()"
   ]
  },
  {
   "cell_type": "markdown",
   "metadata": {},
   "source": [
    "## 6. Exporting the DataSet"
   ]
  },
  {
   "cell_type": "markdown",
   "metadata": {},
   "source": [
    "### 6.1. Analysis Data"
   ]
  },
  {
   "cell_type": "code",
   "execution_count": 82,
   "metadata": {},
   "outputs": [],
   "source": [
    "# using df.to_csv(index=False)\n",
    "# sample: df.to_csv (r'C:\\Users\\Ron\\Desktop\\export_dataframe.csv', index = False, header=True)\n",
    "\n",
    "# Export the list of school district with schools having 0% SAT participation rates\n",
    "zero_district.to_csv(r'../data/zero_districts.csv', index=False, header=True)"
   ]
  },
  {
   "cell_type": "code",
   "execution_count": 83,
   "metadata": {},
   "outputs": [],
   "source": [
    "# Export the list of school district with schools having below state average SAT participation rate\n",
    "below_mean_district.to_csv(r'../data/below_mean_districts.csv', index=False, header=True)"
   ]
  },
  {
   "cell_type": "code",
   "execution_count": 84,
   "metadata": {},
   "outputs": [],
   "source": [
    "# Export the 2019 ACT and SAT Participation Rate by State after merging\n",
    "state_2019.to_csv(r'../data/act_sat_2019.csv', index=False, header=True)"
   ]
  },
  {
   "cell_type": "code",
   "execution_count": 85,
   "metadata": {},
   "outputs": [],
   "source": [
    "# Export the 2019 California SAT Participation Rate by State\n",
    "sat_2019_ca.to_csv(r'../data/sat_2019_ca_clean.csv', index=False, header=True)"
   ]
  },
  {
   "cell_type": "markdown",
   "metadata": {},
   "source": [
    "### 6.2 List of School Districts for Program Implementation"
   ]
  },
  {
   "cell_type": "markdown",
   "metadata": {},
   "source": [
    "## 7. Conclusions and Recommendations"
   ]
  },
  {
   "cell_type": "markdown",
   "metadata": {},
   "source": [
    "Based on our analysis of the 2019 State SAT/ACT Data and the 2019 California SAT Data, we see an urgent need of a program, such as the \"Test for Success CA\" that we are proposing here, to provide funding for school districts to improve their students' ACT/SAT participation rates, to further improve the college application rates, and ultimately to improve college attendance and attainment. \n",
    "\n",
    "**Recommendations for rolling out the \"Test for Success Program:**\n",
    "- Stage 1: school districts with ZERO participation rate schools\n",
    "- Stage 2: school districts have school participation rates below state average\n",
    "- Stage 3: all school districts in California \n",
    "\n",
    "**Next Step:** \n",
    "- Approve and implement the \"Test for Success CA\" Project\n",
    "- School districts in stage 1 to do a in-house check and proposal school-level programs/interventions to use the budget\n",
    "- The Department of Education to set up working committee to oversea \"Test for Success CA\"\n",
    "- The working committee to discuss plans for Stage 2 implementation\n",
    "\n",
    "**Ultimate Goal: achieve 100% participation rates by 2025** \n"
   ]
  },
  {
   "cell_type": "markdown",
   "metadata": {},
   "source": [
    "Thank you. =)"
   ]
  }
 ],
 "metadata": {
  "anaconda-cloud": {},
  "kernelspec": {
   "display_name": "Python 3",
   "language": "python",
   "name": "python3"
  },
  "language_info": {
   "codemirror_mode": {
    "name": "ipython",
    "version": 3
   },
   "file_extension": ".py",
   "mimetype": "text/x-python",
   "name": "python",
   "nbconvert_exporter": "python",
   "pygments_lexer": "ipython3",
   "version": "3.8.5"
  }
 },
 "nbformat": 4,
 "nbformat_minor": 4
}
